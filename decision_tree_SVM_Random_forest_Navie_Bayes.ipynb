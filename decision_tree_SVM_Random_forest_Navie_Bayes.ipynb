{
  "nbformat": 4,
  "nbformat_minor": 0,
  "metadata": {
    "colab": {
      "provenance": [],
      "authorship_tag": "ABX9TyP5ZvC+1YggOxwc6j93vn8y",
      "include_colab_link": true
    },
    "kernelspec": {
      "name": "python3",
      "display_name": "Python 3"
    },
    "language_info": {
      "name": "python"
    }
  },
  "cells": [
    {
      "cell_type": "markdown",
      "metadata": {
        "id": "view-in-github",
        "colab_type": "text"
      },
      "source": [
        "<a href=\"https://colab.research.google.com/github/shwetabhosale15/shweta/blob/main/decision_tree_SVM_Random_forest_Navie_Bayes.ipynb\" target=\"_parent\"><img src=\"https://colab.research.google.com/assets/colab-badge.svg\" alt=\"Open In Colab\"/></a>"
      ]
    },
    {
      "cell_type": "code",
      "execution_count": null,
      "metadata": {
        "id": "kmgPcfKBgODj"
      },
      "outputs": [],
      "source": []
    },
    {
      "cell_type": "markdown",
      "source": [
        "# **7 th project**"
      ],
      "metadata": {
        "id": "IyBR7fJIpR80"
      }
    },
    {
      "cell_type": "markdown",
      "source": [
        "#**decision tree** -\n",
        "\n",
        " classifiaction model"
      ],
      "metadata": {
        "id": "-4MFONXGgnaA"
      }
    },
    {
      "cell_type": "code",
      "source": [
        "import numpy as np\n",
        "import pandas as pd\n",
        "import seaborn as sns\n",
        "import matplotlib.pyplot as plt\n",
        "%matplotlib inline"
      ],
      "metadata": {
        "id": "ofg-sTw_g32J"
      },
      "execution_count": null,
      "outputs": []
    },
    {
      "cell_type": "code",
      "source": [
        "dataset=pd.read_csv('/content/Social_Network_Ads.csv')"
      ],
      "metadata": {
        "id": "BRl5v2lkg4An"
      },
      "execution_count": null,
      "outputs": []
    },
    {
      "cell_type": "code",
      "source": [
        "dataset"
      ],
      "metadata": {
        "colab": {
          "base_uri": "https://localhost:8080/",
          "height": 423
        },
        "id": "SVhjpEyBg4Ds",
        "outputId": "26b82957-f73d-4a2b-8f6d-c0920dfbfe19"
      },
      "execution_count": null,
      "outputs": [
        {
          "output_type": "execute_result",
          "data": {
            "text/plain": [
              "      User ID  Gender  Age  EstimatedSalary  Purchased\n",
              "0    15624510    Male   19            19000          0\n",
              "1    15810944    Male   35            20000          0\n",
              "2    15668575  Female   26            43000          0\n",
              "3    15603246  Female   27            57000          0\n",
              "4    15804002    Male   19            76000          0\n",
              "..        ...     ...  ...              ...        ...\n",
              "395  15691863  Female   46            41000          1\n",
              "396  15706071    Male   51            23000          1\n",
              "397  15654296  Female   50            20000          1\n",
              "398  15755018    Male   36            33000          0\n",
              "399  15594041  Female   49            36000          1\n",
              "\n",
              "[400 rows x 5 columns]"
            ],
            "text/html": [
              "\n",
              "  <div id=\"df-62044a9e-7ae2-452e-b306-2f5f6800186e\">\n",
              "    <div class=\"colab-df-container\">\n",
              "      <div>\n",
              "<style scoped>\n",
              "    .dataframe tbody tr th:only-of-type {\n",
              "        vertical-align: middle;\n",
              "    }\n",
              "\n",
              "    .dataframe tbody tr th {\n",
              "        vertical-align: top;\n",
              "    }\n",
              "\n",
              "    .dataframe thead th {\n",
              "        text-align: right;\n",
              "    }\n",
              "</style>\n",
              "<table border=\"1\" class=\"dataframe\">\n",
              "  <thead>\n",
              "    <tr style=\"text-align: right;\">\n",
              "      <th></th>\n",
              "      <th>User ID</th>\n",
              "      <th>Gender</th>\n",
              "      <th>Age</th>\n",
              "      <th>EstimatedSalary</th>\n",
              "      <th>Purchased</th>\n",
              "    </tr>\n",
              "  </thead>\n",
              "  <tbody>\n",
              "    <tr>\n",
              "      <th>0</th>\n",
              "      <td>15624510</td>\n",
              "      <td>Male</td>\n",
              "      <td>19</td>\n",
              "      <td>19000</td>\n",
              "      <td>0</td>\n",
              "    </tr>\n",
              "    <tr>\n",
              "      <th>1</th>\n",
              "      <td>15810944</td>\n",
              "      <td>Male</td>\n",
              "      <td>35</td>\n",
              "      <td>20000</td>\n",
              "      <td>0</td>\n",
              "    </tr>\n",
              "    <tr>\n",
              "      <th>2</th>\n",
              "      <td>15668575</td>\n",
              "      <td>Female</td>\n",
              "      <td>26</td>\n",
              "      <td>43000</td>\n",
              "      <td>0</td>\n",
              "    </tr>\n",
              "    <tr>\n",
              "      <th>3</th>\n",
              "      <td>15603246</td>\n",
              "      <td>Female</td>\n",
              "      <td>27</td>\n",
              "      <td>57000</td>\n",
              "      <td>0</td>\n",
              "    </tr>\n",
              "    <tr>\n",
              "      <th>4</th>\n",
              "      <td>15804002</td>\n",
              "      <td>Male</td>\n",
              "      <td>19</td>\n",
              "      <td>76000</td>\n",
              "      <td>0</td>\n",
              "    </tr>\n",
              "    <tr>\n",
              "      <th>...</th>\n",
              "      <td>...</td>\n",
              "      <td>...</td>\n",
              "      <td>...</td>\n",
              "      <td>...</td>\n",
              "      <td>...</td>\n",
              "    </tr>\n",
              "    <tr>\n",
              "      <th>395</th>\n",
              "      <td>15691863</td>\n",
              "      <td>Female</td>\n",
              "      <td>46</td>\n",
              "      <td>41000</td>\n",
              "      <td>1</td>\n",
              "    </tr>\n",
              "    <tr>\n",
              "      <th>396</th>\n",
              "      <td>15706071</td>\n",
              "      <td>Male</td>\n",
              "      <td>51</td>\n",
              "      <td>23000</td>\n",
              "      <td>1</td>\n",
              "    </tr>\n",
              "    <tr>\n",
              "      <th>397</th>\n",
              "      <td>15654296</td>\n",
              "      <td>Female</td>\n",
              "      <td>50</td>\n",
              "      <td>20000</td>\n",
              "      <td>1</td>\n",
              "    </tr>\n",
              "    <tr>\n",
              "      <th>398</th>\n",
              "      <td>15755018</td>\n",
              "      <td>Male</td>\n",
              "      <td>36</td>\n",
              "      <td>33000</td>\n",
              "      <td>0</td>\n",
              "    </tr>\n",
              "    <tr>\n",
              "      <th>399</th>\n",
              "      <td>15594041</td>\n",
              "      <td>Female</td>\n",
              "      <td>49</td>\n",
              "      <td>36000</td>\n",
              "      <td>1</td>\n",
              "    </tr>\n",
              "  </tbody>\n",
              "</table>\n",
              "<p>400 rows × 5 columns</p>\n",
              "</div>\n",
              "      <button class=\"colab-df-convert\" onclick=\"convertToInteractive('df-62044a9e-7ae2-452e-b306-2f5f6800186e')\"\n",
              "              title=\"Convert this dataframe to an interactive table.\"\n",
              "              style=\"display:none;\">\n",
              "        \n",
              "  <svg xmlns=\"http://www.w3.org/2000/svg\" height=\"24px\"viewBox=\"0 0 24 24\"\n",
              "       width=\"24px\">\n",
              "    <path d=\"M0 0h24v24H0V0z\" fill=\"none\"/>\n",
              "    <path d=\"M18.56 5.44l.94 2.06.94-2.06 2.06-.94-2.06-.94-.94-2.06-.94 2.06-2.06.94zm-11 1L8.5 8.5l.94-2.06 2.06-.94-2.06-.94L8.5 2.5l-.94 2.06-2.06.94zm10 10l.94 2.06.94-2.06 2.06-.94-2.06-.94-.94-2.06-.94 2.06-2.06.94z\"/><path d=\"M17.41 7.96l-1.37-1.37c-.4-.4-.92-.59-1.43-.59-.52 0-1.04.2-1.43.59L10.3 9.45l-7.72 7.72c-.78.78-.78 2.05 0 2.83L4 21.41c.39.39.9.59 1.41.59.51 0 1.02-.2 1.41-.59l7.78-7.78 2.81-2.81c.8-.78.8-2.07 0-2.86zM5.41 20L4 18.59l7.72-7.72 1.47 1.35L5.41 20z\"/>\n",
              "  </svg>\n",
              "      </button>\n",
              "      \n",
              "  <style>\n",
              "    .colab-df-container {\n",
              "      display:flex;\n",
              "      flex-wrap:wrap;\n",
              "      gap: 12px;\n",
              "    }\n",
              "\n",
              "    .colab-df-convert {\n",
              "      background-color: #E8F0FE;\n",
              "      border: none;\n",
              "      border-radius: 50%;\n",
              "      cursor: pointer;\n",
              "      display: none;\n",
              "      fill: #1967D2;\n",
              "      height: 32px;\n",
              "      padding: 0 0 0 0;\n",
              "      width: 32px;\n",
              "    }\n",
              "\n",
              "    .colab-df-convert:hover {\n",
              "      background-color: #E2EBFA;\n",
              "      box-shadow: 0px 1px 2px rgba(60, 64, 67, 0.3), 0px 1px 3px 1px rgba(60, 64, 67, 0.15);\n",
              "      fill: #174EA6;\n",
              "    }\n",
              "\n",
              "    [theme=dark] .colab-df-convert {\n",
              "      background-color: #3B4455;\n",
              "      fill: #D2E3FC;\n",
              "    }\n",
              "\n",
              "    [theme=dark] .colab-df-convert:hover {\n",
              "      background-color: #434B5C;\n",
              "      box-shadow: 0px 1px 3px 1px rgba(0, 0, 0, 0.15);\n",
              "      filter: drop-shadow(0px 1px 2px rgba(0, 0, 0, 0.3));\n",
              "      fill: #FFFFFF;\n",
              "    }\n",
              "  </style>\n",
              "\n",
              "      <script>\n",
              "        const buttonEl =\n",
              "          document.querySelector('#df-62044a9e-7ae2-452e-b306-2f5f6800186e button.colab-df-convert');\n",
              "        buttonEl.style.display =\n",
              "          google.colab.kernel.accessAllowed ? 'block' : 'none';\n",
              "\n",
              "        async function convertToInteractive(key) {\n",
              "          const element = document.querySelector('#df-62044a9e-7ae2-452e-b306-2f5f6800186e');\n",
              "          const dataTable =\n",
              "            await google.colab.kernel.invokeFunction('convertToInteractive',\n",
              "                                                     [key], {});\n",
              "          if (!dataTable) return;\n",
              "\n",
              "          const docLinkHtml = 'Like what you see? Visit the ' +\n",
              "            '<a target=\"_blank\" href=https://colab.research.google.com/notebooks/data_table.ipynb>data table notebook</a>'\n",
              "            + ' to learn more about interactive tables.';\n",
              "          element.innerHTML = '';\n",
              "          dataTable['output_type'] = 'display_data';\n",
              "          await google.colab.output.renderOutput(dataTable, element);\n",
              "          const docLink = document.createElement('div');\n",
              "          docLink.innerHTML = docLinkHtml;\n",
              "          element.appendChild(docLink);\n",
              "        }\n",
              "      </script>\n",
              "    </div>\n",
              "  </div>\n",
              "  "
            ]
          },
          "metadata": {},
          "execution_count": 4
        }
      ]
    },
    {
      "cell_type": "code",
      "source": [
        "dataset.corr()"
      ],
      "metadata": {
        "colab": {
          "base_uri": "https://localhost:8080/",
          "height": 175
        },
        "id": "5EJAikbNg4Gx",
        "outputId": "ab5b1016-a0fd-4743-e72a-2cb75736e289"
      },
      "execution_count": null,
      "outputs": [
        {
          "output_type": "execute_result",
          "data": {
            "text/plain": [
              "                  User ID       Age  EstimatedSalary  Purchased\n",
              "User ID          1.000000 -0.000721         0.071097   0.007120\n",
              "Age             -0.000721  1.000000         0.155238   0.622454\n",
              "EstimatedSalary  0.071097  0.155238         1.000000   0.362083\n",
              "Purchased        0.007120  0.622454         0.362083   1.000000"
            ],
            "text/html": [
              "\n",
              "  <div id=\"df-1289f32d-65ac-4d90-add4-b71f602ff475\">\n",
              "    <div class=\"colab-df-container\">\n",
              "      <div>\n",
              "<style scoped>\n",
              "    .dataframe tbody tr th:only-of-type {\n",
              "        vertical-align: middle;\n",
              "    }\n",
              "\n",
              "    .dataframe tbody tr th {\n",
              "        vertical-align: top;\n",
              "    }\n",
              "\n",
              "    .dataframe thead th {\n",
              "        text-align: right;\n",
              "    }\n",
              "</style>\n",
              "<table border=\"1\" class=\"dataframe\">\n",
              "  <thead>\n",
              "    <tr style=\"text-align: right;\">\n",
              "      <th></th>\n",
              "      <th>User ID</th>\n",
              "      <th>Age</th>\n",
              "      <th>EstimatedSalary</th>\n",
              "      <th>Purchased</th>\n",
              "    </tr>\n",
              "  </thead>\n",
              "  <tbody>\n",
              "    <tr>\n",
              "      <th>User ID</th>\n",
              "      <td>1.000000</td>\n",
              "      <td>-0.000721</td>\n",
              "      <td>0.071097</td>\n",
              "      <td>0.007120</td>\n",
              "    </tr>\n",
              "    <tr>\n",
              "      <th>Age</th>\n",
              "      <td>-0.000721</td>\n",
              "      <td>1.000000</td>\n",
              "      <td>0.155238</td>\n",
              "      <td>0.622454</td>\n",
              "    </tr>\n",
              "    <tr>\n",
              "      <th>EstimatedSalary</th>\n",
              "      <td>0.071097</td>\n",
              "      <td>0.155238</td>\n",
              "      <td>1.000000</td>\n",
              "      <td>0.362083</td>\n",
              "    </tr>\n",
              "    <tr>\n",
              "      <th>Purchased</th>\n",
              "      <td>0.007120</td>\n",
              "      <td>0.622454</td>\n",
              "      <td>0.362083</td>\n",
              "      <td>1.000000</td>\n",
              "    </tr>\n",
              "  </tbody>\n",
              "</table>\n",
              "</div>\n",
              "      <button class=\"colab-df-convert\" onclick=\"convertToInteractive('df-1289f32d-65ac-4d90-add4-b71f602ff475')\"\n",
              "              title=\"Convert this dataframe to an interactive table.\"\n",
              "              style=\"display:none;\">\n",
              "        \n",
              "  <svg xmlns=\"http://www.w3.org/2000/svg\" height=\"24px\"viewBox=\"0 0 24 24\"\n",
              "       width=\"24px\">\n",
              "    <path d=\"M0 0h24v24H0V0z\" fill=\"none\"/>\n",
              "    <path d=\"M18.56 5.44l.94 2.06.94-2.06 2.06-.94-2.06-.94-.94-2.06-.94 2.06-2.06.94zm-11 1L8.5 8.5l.94-2.06 2.06-.94-2.06-.94L8.5 2.5l-.94 2.06-2.06.94zm10 10l.94 2.06.94-2.06 2.06-.94-2.06-.94-.94-2.06-.94 2.06-2.06.94z\"/><path d=\"M17.41 7.96l-1.37-1.37c-.4-.4-.92-.59-1.43-.59-.52 0-1.04.2-1.43.59L10.3 9.45l-7.72 7.72c-.78.78-.78 2.05 0 2.83L4 21.41c.39.39.9.59 1.41.59.51 0 1.02-.2 1.41-.59l7.78-7.78 2.81-2.81c.8-.78.8-2.07 0-2.86zM5.41 20L4 18.59l7.72-7.72 1.47 1.35L5.41 20z\"/>\n",
              "  </svg>\n",
              "      </button>\n",
              "      \n",
              "  <style>\n",
              "    .colab-df-container {\n",
              "      display:flex;\n",
              "      flex-wrap:wrap;\n",
              "      gap: 12px;\n",
              "    }\n",
              "\n",
              "    .colab-df-convert {\n",
              "      background-color: #E8F0FE;\n",
              "      border: none;\n",
              "      border-radius: 50%;\n",
              "      cursor: pointer;\n",
              "      display: none;\n",
              "      fill: #1967D2;\n",
              "      height: 32px;\n",
              "      padding: 0 0 0 0;\n",
              "      width: 32px;\n",
              "    }\n",
              "\n",
              "    .colab-df-convert:hover {\n",
              "      background-color: #E2EBFA;\n",
              "      box-shadow: 0px 1px 2px rgba(60, 64, 67, 0.3), 0px 1px 3px 1px rgba(60, 64, 67, 0.15);\n",
              "      fill: #174EA6;\n",
              "    }\n",
              "\n",
              "    [theme=dark] .colab-df-convert {\n",
              "      background-color: #3B4455;\n",
              "      fill: #D2E3FC;\n",
              "    }\n",
              "\n",
              "    [theme=dark] .colab-df-convert:hover {\n",
              "      background-color: #434B5C;\n",
              "      box-shadow: 0px 1px 3px 1px rgba(0, 0, 0, 0.15);\n",
              "      filter: drop-shadow(0px 1px 2px rgba(0, 0, 0, 0.3));\n",
              "      fill: #FFFFFF;\n",
              "    }\n",
              "  </style>\n",
              "\n",
              "      <script>\n",
              "        const buttonEl =\n",
              "          document.querySelector('#df-1289f32d-65ac-4d90-add4-b71f602ff475 button.colab-df-convert');\n",
              "        buttonEl.style.display =\n",
              "          google.colab.kernel.accessAllowed ? 'block' : 'none';\n",
              "\n",
              "        async function convertToInteractive(key) {\n",
              "          const element = document.querySelector('#df-1289f32d-65ac-4d90-add4-b71f602ff475');\n",
              "          const dataTable =\n",
              "            await google.colab.kernel.invokeFunction('convertToInteractive',\n",
              "                                                     [key], {});\n",
              "          if (!dataTable) return;\n",
              "\n",
              "          const docLinkHtml = 'Like what you see? Visit the ' +\n",
              "            '<a target=\"_blank\" href=https://colab.research.google.com/notebooks/data_table.ipynb>data table notebook</a>'\n",
              "            + ' to learn more about interactive tables.';\n",
              "          element.innerHTML = '';\n",
              "          dataTable['output_type'] = 'display_data';\n",
              "          await google.colab.output.renderOutput(dataTable, element);\n",
              "          const docLink = document.createElement('div');\n",
              "          docLink.innerHTML = docLinkHtml;\n",
              "          element.appendChild(docLink);\n",
              "        }\n",
              "      </script>\n",
              "    </div>\n",
              "  </div>\n",
              "  "
            ]
          },
          "metadata": {},
          "execution_count": 6
        }
      ]
    },
    {
      "cell_type": "code",
      "source": [
        "dataset.drop(['User ID','Gender'],axis=1,inplace=True)"
      ],
      "metadata": {
        "id": "ExQSwhMog4Jq"
      },
      "execution_count": null,
      "outputs": []
    },
    {
      "cell_type": "code",
      "source": [
        "dataset.info()"
      ],
      "metadata": {
        "colab": {
          "base_uri": "https://localhost:8080/"
        },
        "id": "Q1z1QLs4g4ND",
        "outputId": "ff65b6c7-b33e-493f-a015-88442978755b"
      },
      "execution_count": null,
      "outputs": [
        {
          "output_type": "stream",
          "name": "stdout",
          "text": [
            "<class 'pandas.core.frame.DataFrame'>\n",
            "RangeIndex: 400 entries, 0 to 399\n",
            "Data columns (total 3 columns):\n",
            " #   Column           Non-Null Count  Dtype\n",
            "---  ------           --------------  -----\n",
            " 0   Age              400 non-null    int64\n",
            " 1   EstimatedSalary  400 non-null    int64\n",
            " 2   Purchased        400 non-null    int64\n",
            "dtypes: int64(3)\n",
            "memory usage: 9.5 KB\n"
          ]
        }
      ]
    },
    {
      "cell_type": "code",
      "source": [
        "from sklearn.preprocessing import StandardScaler"
      ],
      "metadata": {
        "id": "9xWGW5QHg4Pq"
      },
      "execution_count": null,
      "outputs": []
    },
    {
      "cell_type": "code",
      "source": [
        "scaler=StandardScaler()"
      ],
      "metadata": {
        "id": "GBxUaZ0Bg4Vr"
      },
      "execution_count": null,
      "outputs": []
    },
    {
      "cell_type": "code",
      "source": [
        "scaler.fit(dataset.drop('Purchased',axis=1))"
      ],
      "metadata": {
        "colab": {
          "base_uri": "https://localhost:8080/"
        },
        "id": "FUtER2F7qDpQ",
        "outputId": "c6c9e90c-6709-4112-883a-5c7d835eec41"
      },
      "execution_count": null,
      "outputs": [
        {
          "output_type": "execute_result",
          "data": {
            "text/plain": [
              "StandardScaler()"
            ]
          },
          "metadata": {},
          "execution_count": 15
        }
      ]
    },
    {
      "cell_type": "code",
      "source": [
        "scaler_features=scaler.transform(dataset.drop('Purchased',axis=1))"
      ],
      "metadata": {
        "id": "JTZCE0wKqDsJ"
      },
      "execution_count": null,
      "outputs": []
    },
    {
      "cell_type": "code",
      "source": [
        "scaler_features"
      ],
      "metadata": {
        "colab": {
          "base_uri": "https://localhost:8080/"
        },
        "id": "X5rTrhScqDvb",
        "outputId": "33d22007-451e-4b89-aca3-b0cef8f816a9"
      },
      "execution_count": null,
      "outputs": [
        {
          "output_type": "execute_result",
          "data": {
            "text/plain": [
              "array([[-1.78179743, -1.49004624],\n",
              "       [-0.25358736, -1.46068138],\n",
              "       [-1.11320552, -0.78528968],\n",
              "       [-1.01769239, -0.37418169],\n",
              "       [-1.78179743,  0.18375059],\n",
              "       [-1.01769239, -0.34481683],\n",
              "       [-1.01769239,  0.41866944],\n",
              "       [-0.54012675,  2.35674998],\n",
              "       [-1.20871865, -1.07893824],\n",
              "       [-0.25358736, -0.13926283],\n",
              "       [-1.11320552,  0.30121002],\n",
              "       [-1.11320552, -0.52100597],\n",
              "       [-1.6862843 ,  0.47739916],\n",
              "       [-0.54012675, -1.51941109],\n",
              "       [-1.87731056,  0.35993973],\n",
              "       [-0.82666613,  0.30121002],\n",
              "       [ 0.89257019, -1.3138571 ],\n",
              "       [ 0.70154394, -1.28449224],\n",
              "       [ 0.79705706, -1.22576253],\n",
              "       [ 0.98808332, -1.19639767],\n",
              "       [ 0.70154394, -1.40195167],\n",
              "       [ 0.89257019, -0.60910054],\n",
              "       [ 0.98808332, -0.84401939],\n",
              "       [ 0.70154394, -1.40195167],\n",
              "       [ 0.79705706, -1.37258681],\n",
              "       [ 0.89257019, -1.46068138],\n",
              "       [ 1.08359645, -1.22576253],\n",
              "       [ 0.89257019, -1.16703281],\n",
              "       [-0.82666613, -0.78528968],\n",
              "       [-0.63563988, -1.51941109],\n",
              "       [-0.63563988,  0.12502088],\n",
              "       [-1.01769239,  1.97500684],\n",
              "       [-1.59077117, -1.5781408 ],\n",
              "       [-0.92217926, -0.75592482],\n",
              "       [-1.01769239,  0.59485858],\n",
              "       [-0.25358736, -1.25512738],\n",
              "       [-0.44461362, -1.22576253],\n",
              "       [-0.73115301, -0.60910054],\n",
              "       [-1.11320552,  0.06629116],\n",
              "       [-1.01769239, -1.13766796],\n",
              "       [-1.01769239, -1.54877595],\n",
              "       [-0.44461362, -0.55037082],\n",
              "       [-0.25358736,  1.123426  ],\n",
              "       [-0.73115301, -1.60750566],\n",
              "       [-0.92217926,  0.41866944],\n",
              "       [-1.39974491, -1.46068138],\n",
              "       [-1.20871865,  0.27184516],\n",
              "       [-1.01769239, -0.46227625],\n",
              "       [-0.73115301,  1.91627713],\n",
              "       [-0.63563988,  0.56549373],\n",
              "       [-1.30423178, -1.1083031 ],\n",
              "       [-1.87731056, -0.75592482],\n",
              "       [-0.82666613,  0.38930459],\n",
              "       [-0.25358736, -1.37258681],\n",
              "       [-1.01769239, -0.34481683],\n",
              "       [-1.30423178, -0.4329114 ],\n",
              "       [-1.39974491, -0.63846539],\n",
              "       [-0.92217926,  0.27184516],\n",
              "       [-1.49525804, -1.51941109],\n",
              "       [-0.54012675,  1.38770971],\n",
              "       [-1.01769239, -1.46068138],\n",
              "       [-1.20871865,  0.50676401],\n",
              "       [-1.39974491, -0.10989798],\n",
              "       [-0.54012675,  1.47580428],\n",
              "       [ 2.03872775,  0.38930459],\n",
              "       [-1.30423178, -0.34481683],\n",
              "       [-1.30423178, -1.49004624],\n",
              "       [-1.39974491,  0.35993973],\n",
              "       [-1.49525804, -0.19799255],\n",
              "       [-0.63563988, -0.05116826],\n",
              "       [-1.20871865,  0.30121002],\n",
              "       [-1.30423178, -1.25512738],\n",
              "       [-1.6862843 , -1.37258681],\n",
              "       [-0.44461362,  1.27025028],\n",
              "       [-0.54012675, -1.51941109],\n",
              "       [-0.34910049,  1.24088543],\n",
              "       [-1.87731056, -0.52100597],\n",
              "       [-1.49525804, -1.25512738],\n",
              "       [-0.92217926,  0.50676401],\n",
              "       [-1.11320552, -1.54877595],\n",
              "       [-0.73115301,  0.30121002],\n",
              "       [ 0.12846516, -0.81465453],\n",
              "       [-1.6862843 , -0.60910054],\n",
              "       [-0.25358736,  0.53612887],\n",
              "       [-0.73115301, -0.2273574 ],\n",
              "       [-0.63563988,  1.41707457],\n",
              "       [-1.30423178, -0.4329114 ],\n",
              "       [-0.92217926,  0.4480343 ],\n",
              "       [-1.11320552,  0.33057487],\n",
              "       [-0.25358736, -0.57973568],\n",
              "       [-1.49525804,  0.33057487],\n",
              "       [-0.73115301,  1.35834485],\n",
              "       [-1.11320552, -1.60750566],\n",
              "       [-0.82666613, -1.22576253],\n",
              "       [-0.82666613,  0.38930459],\n",
              "       [-0.25358736, -0.75592482],\n",
              "       [-0.25358736, -1.3138571 ],\n",
              "       [-0.92217926,  1.56389885],\n",
              "       [-0.25358736,  0.09565602],\n",
              "       [-0.92217926, -0.96147882],\n",
              "       [-1.01769239,  0.53612887],\n",
              "       [-0.92217926, -0.31545197],\n",
              "       [-0.54012675,  0.47739916],\n",
              "       [-0.44461362,  2.32738512],\n",
              "       [-1.78179743, -1.43131652],\n",
              "       [-1.59077117,  0.06629116],\n",
              "       [-1.11320552, -1.02020853],\n",
              "       [-1.01769239,  0.56549373],\n",
              "       [-1.11320552,  0.47739916],\n",
              "       [ 0.03295203,  0.30121002],\n",
              "       [ 0.12846516,  0.03692631],\n",
              "       [-0.0625611 ,  0.03692631],\n",
              "       [ 0.03295203, -0.25672226],\n",
              "       [-0.0625611 , -0.4329114 ],\n",
              "       [ 0.41500455,  0.30121002],\n",
              "       [ 0.22397829, -0.37418169],\n",
              "       [-0.25358736,  0.15438573],\n",
              "       [-0.15807423, -0.52100597],\n",
              "       [ 0.22397829, -0.31545197],\n",
              "       [ 0.31949142, -0.31545197],\n",
              "       [-0.15807423,  0.15438573],\n",
              "       [-0.0625611 ,  0.06629116],\n",
              "       [ 0.22397829,  0.15438573],\n",
              "       [-0.25358736, -0.49164111],\n",
              "       [ 0.31949142, -0.55037082],\n",
              "       [ 0.12846516, -0.25672226],\n",
              "       [ 0.41500455, -0.13926283],\n",
              "       [-1.11320552, -1.1083031 ],\n",
              "       [-0.73115301, -1.54877595],\n",
              "       [-1.11320552,  0.41866944],\n",
              "       [-0.63563988, -0.34481683],\n",
              "       [-0.44461362, -1.13766796],\n",
              "       [-0.73115301,  0.50676401],\n",
              "       [-1.59077117, -0.05116826],\n",
              "       [-0.92217926, -0.4329114 ],\n",
              "       [-1.39974491, -0.19799255],\n",
              "       [-1.6862843 ,  0.35993973],\n",
              "       [-0.73115301,  1.09406114],\n",
              "       [-0.92217926, -0.31545197],\n",
              "       [-1.78179743, -1.3138571 ],\n",
              "       [-1.78179743,  0.4480343 ],\n",
              "       [-1.87731056, -0.05116826],\n",
              "       [-0.25358736, -0.31545197],\n",
              "       [-0.73115301,  0.56549373],\n",
              "       [-0.34910049, -1.3138571 ],\n",
              "       [-1.30423178,  0.56549373],\n",
              "       [-1.01769239,  0.77104772],\n",
              "       [ 0.31949142, -1.16703281],\n",
              "       [-0.82666613, -0.25672226],\n",
              "       [-1.6862843 ,  0.12502088],\n",
              "       [-1.11320552, -1.60750566],\n",
              "       [ 0.31949142, -0.72655996],\n",
              "       [-0.63563988,  0.18375059],\n",
              "       [-0.15807423, -0.57973568],\n",
              "       [ 0.22397829, -0.66783025],\n",
              "       [-0.63563988, -1.60750566],\n",
              "       [ 0.79705706, -0.31545197],\n",
              "       [-0.82666613,  0.15438573],\n",
              "       [-1.11320552, -1.16703281],\n",
              "       [-0.54012675,  1.91627713],\n",
              "       [-0.54012675,  0.88850715],\n",
              "       [-1.20871865,  0.59485858],\n",
              "       [-0.0625611 , -1.07893824],\n",
              "       [-0.25358736, -0.93211396],\n",
              "       [-0.44461362, -0.02180341],\n",
              "       [-1.87731056,  0.47739916],\n",
              "       [-1.49525804, -0.4329114 ],\n",
              "       [-0.25358736,  0.03692631],\n",
              "       [-0.82666613,  2.29802026],\n",
              "       [-0.82666613, -0.66783025],\n",
              "       [-1.59077117,  0.53612887],\n",
              "       [-0.34910049,  1.32898   ],\n",
              "       [-1.11320552,  1.41707457],\n",
              "       [-0.34910049, -0.78528968],\n",
              "       [-0.34910049,  0.06629116],\n",
              "       [-1.39974491, -1.22576253],\n",
              "       [-0.25358736, -0.66783025],\n",
              "       [-1.20871865, -1.40195167],\n",
              "       [-1.30423178, -1.37258681],\n",
              "       [-0.63563988, -1.04957339],\n",
              "       [-1.11320552, -1.5781408 ],\n",
              "       [-0.63563988,  0.03692631],\n",
              "       [-0.54012675,  1.38770971],\n",
              "       [-0.44461362, -0.78528968],\n",
              "       [-0.44461362, -0.28608712],\n",
              "       [-0.63563988, -0.10989798],\n",
              "       [-1.6862843 ,  0.35993973],\n",
              "       [-0.44461362, -0.84401939],\n",
              "       [-0.25358736,  0.06629116],\n",
              "       [-0.92217926, -1.1083031 ],\n",
              "       [-1.30423178,  0.41866944],\n",
              "       [-1.78179743, -1.28449224],\n",
              "       [-0.82666613, -0.78528968],\n",
              "       [-1.78179743,  0.00756145],\n",
              "       [-0.92217926,  0.56549373],\n",
              "       [-0.34910049, -0.78528968],\n",
              "       [-0.73115301,  0.27184516],\n",
              "       [-1.6862843 , -0.99084367],\n",
              "       [-1.11320552,  0.30121002],\n",
              "       [-0.25358736, -1.40195167],\n",
              "       [-0.25358736, -0.9027491 ],\n",
              "       [ 1.08359645,  0.12502088],\n",
              "       [ 0.12846516,  1.88691227],\n",
              "       [ 0.31949142,  0.03692631],\n",
              "       [ 1.94321462,  0.917872  ],\n",
              "       [ 0.89257019, -0.66783025],\n",
              "       [ 1.65667523,  1.76945285],\n",
              "       [ 1.37013584,  1.29961514],\n",
              "       [ 0.22397829,  2.12183112],\n",
              "       [ 0.79705706, -1.40195167],\n",
              "       [ 0.98808332,  0.77104772],\n",
              "       [ 1.37013584,  2.35674998],\n",
              "       [ 2.03872775, -0.81465453],\n",
              "       [-0.25358736, -0.34481683],\n",
              "       [ 0.89257019, -0.78528968],\n",
              "       [ 2.13424088,  1.123426  ],\n",
              "       [ 1.08359645, -0.13926283],\n",
              "       [ 0.22397829,  0.2424803 ],\n",
              "       [ 0.79705706,  0.77104772],\n",
              "       [ 2.03872775,  2.15119598],\n",
              "       [ 0.31949142,  0.30121002],\n",
              "       [-0.25358736,  0.62422344],\n",
              "       [-0.0625611 ,  2.18056084],\n",
              "       [ 2.13424088,  0.94723686],\n",
              "       [-0.25358736, -0.28608712],\n",
              "       [-0.0625611 , -0.49164111],\n",
              "       [-0.15807423,  1.65199342],\n",
              "       [ 1.75218836,  1.85754742],\n",
              "       [ 0.22397829,  0.06629116],\n",
              "       [ 0.41500455,  0.30121002],\n",
              "       [-0.25358736,  2.26865541],\n",
              "       [ 0.12846516, -0.81465453],\n",
              "       [ 0.22397829,  1.09406114],\n",
              "       [ 1.08359645,  0.47739916],\n",
              "       [ 0.03295203,  1.24088543],\n",
              "       [ 0.79705706,  0.27184516],\n",
              "       [ 0.22397829, -0.37418169],\n",
              "       [-0.0625611 ,  0.30121002],\n",
              "       [ 0.79705706,  0.35993973],\n",
              "       [ 1.46564897,  2.15119598],\n",
              "       [ 0.41500455,  2.32738512],\n",
              "       [ 0.03295203, -0.31545197],\n",
              "       [ 1.17910958,  0.53612887],\n",
              "       [ 1.75218836,  1.00596657],\n",
              "       [ 0.31949142,  0.06629116],\n",
              "       [ 1.27462271,  2.23929055],\n",
              "       [-0.25358736, -0.57973568],\n",
              "       [ 1.84770149,  1.53453399],\n",
              "       [ 0.31949142, -0.52100597],\n",
              "       [-0.25358736,  0.80041258],\n",
              "       [ 0.60603081, -0.9027491 ],\n",
              "       [-0.0625611 , -0.52100597],\n",
              "       [ 0.98808332,  1.88691227],\n",
              "       [-0.0625611 ,  2.23929055],\n",
              "       [ 1.17910958, -0.75592482],\n",
              "       [ 1.37013584,  0.59485858],\n",
              "       [ 0.31949142,  0.06629116],\n",
              "       [ 0.22397829, -0.37418169],\n",
              "       [ 1.94321462,  0.74168287],\n",
              "       [ 0.70154394,  1.7988177 ],\n",
              "       [-0.25358736,  0.21311545],\n",
              "       [-0.15807423,  2.18056084],\n",
              "       [ 1.65667523,  1.62262856],\n",
              "       [-0.25358736,  0.06629116],\n",
              "       [ 0.98808332,  0.59485858],\n",
              "       [ 0.41500455,  1.123426  ],\n",
              "       [ 0.22397829,  0.15438573],\n",
              "       [-0.0625611 ,  0.12502088],\n",
              "       [ 0.89257019,  2.18056084],\n",
              "       [ 0.22397829, -0.25672226],\n",
              "       [ 0.51051768,  1.85754742],\n",
              "       [ 2.03872775,  0.18375059],\n",
              "       [ 2.13424088, -0.81465453],\n",
              "       [ 0.12846516,  1.06469629],\n",
              "       [ 1.84770149, -1.28449224],\n",
              "       [ 1.84770149,  0.12502088],\n",
              "       [ 0.03295203,  0.03692631],\n",
              "       [ 1.08359645,  0.53612887],\n",
              "       [ 1.37013584, -0.93211396],\n",
              "       [ 1.17910958, -0.99084367],\n",
              "       [ 2.03872775,  0.53612887],\n",
              "       [-0.25358736, -0.25672226],\n",
              "       [-0.0625611 ,  0.00756145],\n",
              "       [ 1.37013584, -1.43131652],\n",
              "       [ 0.98808332,  2.09246627],\n",
              "       [-0.0625611 ,  0.68295315],\n",
              "       [-0.0625611 , -0.2273574 ],\n",
              "       [ 0.98808332,  2.0043717 ],\n",
              "       [ 0.31949142,  0.27184516],\n",
              "       [-0.0625611 ,  0.2424803 ],\n",
              "       [ 0.12846516,  1.88691227],\n",
              "       [ 1.08359645,  0.56549373],\n",
              "       [ 1.65667523, -0.9027491 ],\n",
              "       [-0.0625611 ,  0.21311545],\n",
              "       [-0.25358736, -0.37418169],\n",
              "       [-0.15807423, -0.19799255],\n",
              "       [ 0.41500455,  0.09565602],\n",
              "       [ 0.51051768,  1.24088543],\n",
              "       [ 0.70154394,  0.27184516],\n",
              "       [ 0.79705706,  1.38770971],\n",
              "       [ 1.94321462, -0.93211396],\n",
              "       [ 0.98808332,  0.12502088],\n",
              "       [-0.0625611 ,  1.97500684],\n",
              "       [-0.0625611 ,  0.27184516],\n",
              "       [ 0.22397829, -0.28608712],\n",
              "       [ 0.41500455, -0.46227625],\n",
              "       [ 1.27462271,  1.88691227],\n",
              "       [ 0.89257019,  1.27025028],\n",
              "       [-0.15807423,  1.62262856],\n",
              "       [ 0.03295203, -0.57973568],\n",
              "       [ 0.41500455,  0.00756145],\n",
              "       [ 0.12846516,  0.77104772],\n",
              "       [ 0.03295203, -0.57973568],\n",
              "       [ 1.08359645,  2.09246627],\n",
              "       [ 0.12846516,  0.27184516],\n",
              "       [ 0.12846516,  0.15438573],\n",
              "       [ 1.5611621 ,  1.00596657],\n",
              "       [-0.25358736, -0.4329114 ],\n",
              "       [ 0.70154394, -1.1083031 ],\n",
              "       [-0.15807423, -0.28608712],\n",
              "       [ 1.37013584,  2.0043717 ],\n",
              "       [ 1.46564897,  0.35993973],\n",
              "       [ 0.31949142, -0.52100597],\n",
              "       [ 0.98808332, -1.16703281],\n",
              "       [ 0.98808332,  1.7988177 ],\n",
              "       [ 0.31949142, -0.28608712],\n",
              "       [ 0.31949142,  0.06629116],\n",
              "       [ 0.41500455,  0.15438573],\n",
              "       [-0.15807423,  1.41707457],\n",
              "       [ 0.89257019,  1.09406114],\n",
              "       [ 0.03295203, -0.55037082],\n",
              "       [ 0.98808332,  1.44643942],\n",
              "       [ 0.41500455, -0.13926283],\n",
              "       [ 0.22397829, -0.13926283],\n",
              "       [ 1.84770149, -0.28608712],\n",
              "       [-0.15807423, -0.46227625],\n",
              "       [ 1.94321462,  2.18056084],\n",
              "       [-0.25358736,  0.27184516],\n",
              "       [ 0.03295203, -0.4329114 ],\n",
              "       [ 0.12846516,  1.53453399],\n",
              "       [ 1.46564897,  1.00596657],\n",
              "       [-0.25358736,  0.15438573],\n",
              "       [ 0.03295203, -0.13926283],\n",
              "       [ 0.89257019, -0.55037082],\n",
              "       [ 0.89257019,  1.03533143],\n",
              "       [ 0.31949142, -0.19799255],\n",
              "       [ 1.46564897,  0.06629116],\n",
              "       [ 1.5611621 ,  1.123426  ],\n",
              "       [ 0.12846516,  0.21311545],\n",
              "       [ 0.03295203, -0.25672226],\n",
              "       [ 0.03295203,  1.27025028],\n",
              "       [-0.0625611 ,  0.15438573],\n",
              "       [ 0.41500455,  0.59485858],\n",
              "       [-0.0625611 , -0.37418169],\n",
              "       [-0.15807423,  0.85914229],\n",
              "       [ 2.13424088, -1.04957339],\n",
              "       [ 1.5611621 ,  0.00756145],\n",
              "       [ 0.31949142,  0.06629116],\n",
              "       [ 0.22397829,  0.03692631],\n",
              "       [ 0.41500455, -0.46227625],\n",
              "       [ 0.51051768,  1.74008799],\n",
              "       [ 1.46564897, -1.04957339],\n",
              "       [ 0.89257019, -0.57973568],\n",
              "       [ 0.41500455,  0.27184516],\n",
              "       [ 0.41500455,  1.00596657],\n",
              "       [ 2.03872775, -1.19639767],\n",
              "       [ 1.94321462, -0.66783025],\n",
              "       [ 0.79705706,  0.53612887],\n",
              "       [ 0.03295203,  0.03692631],\n",
              "       [ 1.5611621 , -1.28449224],\n",
              "       [ 2.13424088, -0.69719511],\n",
              "       [ 2.13424088,  0.38930459],\n",
              "       [ 0.12846516,  0.09565602],\n",
              "       [ 2.03872775,  1.76945285],\n",
              "       [-0.0625611 ,  0.30121002],\n",
              "       [ 0.79705706, -1.1083031 ],\n",
              "       [ 0.79705706,  0.12502088],\n",
              "       [ 0.41500455, -0.49164111],\n",
              "       [ 0.31949142,  0.50676401],\n",
              "       [ 1.94321462, -1.37258681],\n",
              "       [ 0.41500455, -0.16862769],\n",
              "       [ 0.98808332, -1.07893824],\n",
              "       [ 0.60603081,  2.03373655],\n",
              "       [ 1.08359645, -1.22576253],\n",
              "       [ 1.84770149, -1.07893824],\n",
              "       [ 1.75218836, -0.28608712],\n",
              "       [ 1.08359645, -0.9027491 ],\n",
              "       [ 0.12846516,  0.03692631],\n",
              "       [ 0.89257019, -1.04957339],\n",
              "       [ 0.98808332, -1.02020853],\n",
              "       [ 0.98808332, -1.07893824],\n",
              "       [ 0.89257019, -1.37258681],\n",
              "       [ 0.70154394, -0.72655996],\n",
              "       [ 2.13424088, -0.81465453],\n",
              "       [ 0.12846516, -0.31545197],\n",
              "       [ 0.79705706, -0.84401939],\n",
              "       [ 1.27462271, -1.37258681],\n",
              "       [ 1.17910958, -1.46068138],\n",
              "       [-0.15807423, -1.07893824],\n",
              "       [ 1.08359645, -0.99084367]])"
            ]
          },
          "metadata": {},
          "execution_count": 17
        }
      ]
    },
    {
      "cell_type": "code",
      "source": [
        "df=pd.DataFrame(scaler_features,columns=['Age','EnstimatedSalary'])"
      ],
      "metadata": {
        "id": "43P0sZ9oqDyP"
      },
      "execution_count": null,
      "outputs": []
    },
    {
      "cell_type": "code",
      "source": [
        "from sklearn.model_selection import train_test_split"
      ],
      "metadata": {
        "id": "tsnvtZNGqD1Y"
      },
      "execution_count": null,
      "outputs": []
    },
    {
      "cell_type": "code",
      "source": [
        "x_train,x_test,y_train,y_test=train_test_split(df,dataset['Purchased'],test_size=0.30,random_state=101)"
      ],
      "metadata": {
        "id": "Ia4vzOItqD4Z"
      },
      "execution_count": null,
      "outputs": []
    },
    {
      "cell_type": "code",
      "source": [
        "x_train.shape"
      ],
      "metadata": {
        "colab": {
          "base_uri": "https://localhost:8080/"
        },
        "id": "Q71XuWeeqD7c",
        "outputId": "1c277ea4-52e9-4eac-ce59-37b6f3c5f394"
      },
      "execution_count": null,
      "outputs": [
        {
          "output_type": "execute_result",
          "data": {
            "text/plain": [
              "(280, 2)"
            ]
          },
          "metadata": {},
          "execution_count": 24
        }
      ]
    },
    {
      "cell_type": "code",
      "source": [
        "x_test.shape"
      ],
      "metadata": {
        "colab": {
          "base_uri": "https://localhost:8080/"
        },
        "id": "FbgNlQs3qD-R",
        "outputId": "16dfee49-5543-4185-9ec8-c8510f1adc0c"
      },
      "execution_count": null,
      "outputs": [
        {
          "output_type": "execute_result",
          "data": {
            "text/plain": [
              "(120, 2)"
            ]
          },
          "metadata": {},
          "execution_count": 25
        }
      ]
    },
    {
      "cell_type": "code",
      "source": [
        "from sklearn.tree import DecisionTreeClassifier"
      ],
      "metadata": {
        "id": "keBol6wUqEBi"
      },
      "execution_count": null,
      "outputs": []
    },
    {
      "cell_type": "code",
      "source": [
        "DTC=DecisionTreeClassifier()"
      ],
      "metadata": {
        "id": "-AoYRANXqED-"
      },
      "execution_count": null,
      "outputs": []
    },
    {
      "cell_type": "code",
      "source": [
        "DTC.fit(x_train,y_train)"
      ],
      "metadata": {
        "colab": {
          "base_uri": "https://localhost:8080/"
        },
        "id": "cnKJofoOqEHf",
        "outputId": "7b84d4f3-0b9b-4a27-ba00-fa40f70b4d04"
      },
      "execution_count": null,
      "outputs": [
        {
          "output_type": "execute_result",
          "data": {
            "text/plain": [
              "DecisionTreeClassifier()"
            ]
          },
          "metadata": {},
          "execution_count": 28
        }
      ]
    },
    {
      "cell_type": "code",
      "source": [
        "pred=DTC.predict(x_test)"
      ],
      "metadata": {
        "id": "HDX9bBEfqEKP"
      },
      "execution_count": null,
      "outputs": []
    },
    {
      "cell_type": "code",
      "source": [
        "from sklearn.metrics import confusion_matrix"
      ],
      "metadata": {
        "id": "-VVcpja2qENW"
      },
      "execution_count": null,
      "outputs": []
    },
    {
      "cell_type": "code",
      "source": [
        "print(confusion_matrix(y_test,pred))"
      ],
      "metadata": {
        "colab": {
          "base_uri": "https://localhost:8080/"
        },
        "id": "HPgmSjiEqETT",
        "outputId": "636a93b9-765a-4983-edc6-8019a740cbce"
      },
      "execution_count": null,
      "outputs": [
        {
          "output_type": "stream",
          "name": "stdout",
          "text": [
            "[[70 10]\n",
            " [ 5 35]]\n"
          ]
        }
      ]
    },
    {
      "cell_type": "code",
      "source": [
        "70+35/120*100"
      ],
      "metadata": {
        "colab": {
          "base_uri": "https://localhost:8080/"
        },
        "id": "A11k_mmJqEWo",
        "outputId": "f85188f2-d1f8-4611-c7b0-b55edf9c4172"
      },
      "execution_count": null,
      "outputs": [
        {
          "output_type": "execute_result",
          "data": {
            "text/plain": [
              "99.16666666666667"
            ]
          },
          "metadata": {},
          "execution_count": 32
        }
      ]
    },
    {
      "cell_type": "markdown",
      "source": [
        "# ** support vector machine  SVM**"
      ],
      "metadata": {
        "id": "blTLFvCRvclH"
      }
    },
    {
      "cell_type": "markdown",
      "source": [
        "**social_network data used for this model...upto train_test_split step are same ..before that below step run**"
      ],
      "metadata": {
        "id": "iRNGH-pCvzZ7"
      }
    },
    {
      "cell_type": "code",
      "source": [
        "from sklearn.svm import SVC"
      ],
      "metadata": {
        "id": "ZxuzNbirqEZ3"
      },
      "execution_count": null,
      "outputs": []
    },
    {
      "cell_type": "code",
      "source": [
        "classifier=SVC()"
      ],
      "metadata": {
        "id": "0N3BwobnqEdp"
      },
      "execution_count": null,
      "outputs": []
    },
    {
      "cell_type": "code",
      "source": [
        "classifier.fit(x_train,y_train)"
      ],
      "metadata": {
        "colab": {
          "base_uri": "https://localhost:8080/"
        },
        "id": "by-b9yVaqEhu",
        "outputId": "1e63c5cb-5b2a-45ce-ca79-16bc408cd6a8"
      },
      "execution_count": null,
      "outputs": [
        {
          "output_type": "execute_result",
          "data": {
            "text/plain": [
              "SVC()"
            ]
          },
          "metadata": {},
          "execution_count": 37
        }
      ]
    },
    {
      "cell_type": "code",
      "source": [
        "pred=classifier.predict(x_test)"
      ],
      "metadata": {
        "id": "deXg7W6TqEkz"
      },
      "execution_count": null,
      "outputs": []
    },
    {
      "cell_type": "code",
      "source": [
        "from sklearn.metrics import accuracy_score,confusion_matrix"
      ],
      "metadata": {
        "id": "FPRuEmdxqErz"
      },
      "execution_count": null,
      "outputs": []
    },
    {
      "cell_type": "code",
      "source": [
        "acc=accuracy_score(y_test,pred)"
      ],
      "metadata": {
        "id": "Yc0JNZXlqEu9"
      },
      "execution_count": null,
      "outputs": []
    },
    {
      "cell_type": "code",
      "source": [
        "acc"
      ],
      "metadata": {
        "colab": {
          "base_uri": "https://localhost:8080/"
        },
        "id": "EsDr_wmZqEye",
        "outputId": "a6f8d022-f4e4-4009-8ba9-51025c7dc7d7"
      },
      "execution_count": null,
      "outputs": [
        {
          "output_type": "execute_result",
          "data": {
            "text/plain": [
              "0.9333333333333333"
            ]
          },
          "metadata": {},
          "execution_count": 44
        }
      ]
    },
    {
      "cell_type": "code",
      "source": [
        "acc*100"
      ],
      "metadata": {
        "colab": {
          "base_uri": "https://localhost:8080/"
        },
        "id": "m99r1Y8pqE17",
        "outputId": "f3f7bf74-dad3-49fb-85bd-264f538d51e1"
      },
      "execution_count": null,
      "outputs": [
        {
          "output_type": "execute_result",
          "data": {
            "text/plain": [
              "93.33333333333333"
            ]
          },
          "metadata": {},
          "execution_count": 45
        }
      ]
    },
    {
      "cell_type": "code",
      "source": [
        "print(confusion_matrix(y_test,pred))"
      ],
      "metadata": {
        "colab": {
          "base_uri": "https://localhost:8080/"
        },
        "id": "-H3m8Qg7qE5G",
        "outputId": "f277b41b-c1b3-4cc9-b628-445957d2e543"
      },
      "execution_count": null,
      "outputs": [
        {
          "output_type": "stream",
          "name": "stdout",
          "text": [
            "[[73  7]\n",
            " [ 1 39]]\n"
          ]
        }
      ]
    },
    {
      "cell_type": "code",
      "source": [
        "(73+39)/120*100"
      ],
      "metadata": {
        "colab": {
          "base_uri": "https://localhost:8080/"
        },
        "id": "-Q-5YZb5qE8O",
        "outputId": "74592eb1-decc-436b-8741-0440c2877654"
      },
      "execution_count": null,
      "outputs": [
        {
          "output_type": "execute_result",
          "data": {
            "text/plain": [
              "93.33333333333333"
            ]
          },
          "metadata": {},
          "execution_count": 48
        }
      ]
    },
    {
      "cell_type": "markdown",
      "source": [
        "#**Random** **forest**"
      ],
      "metadata": {
        "id": "PLOLIVCMxsiD"
      }
    },
    {
      "cell_type": "markdown",
      "source": [
        "**social_network data used for this model...upto train_test_split step are same ..before that below step run**"
      ],
      "metadata": {
        "id": "xLXX86pTx3-R"
      }
    },
    {
      "cell_type": "code",
      "source": [
        "from sklearn.ensemble import RandomForestClassifier"
      ],
      "metadata": {
        "id": "WpuVOyOSyJvq"
      },
      "execution_count": null,
      "outputs": []
    },
    {
      "cell_type": "code",
      "source": [
        "rfc=RandomForestClassifier(n_estimators=28)"
      ],
      "metadata": {
        "id": "zjPPb7AsyJ45"
      },
      "execution_count": null,
      "outputs": []
    },
    {
      "cell_type": "code",
      "source": [
        "rfc.fit(x_train,y_train)"
      ],
      "metadata": {
        "colab": {
          "base_uri": "https://localhost:8080/"
        },
        "id": "EwVG2Ui0yJ71",
        "outputId": "a04053a2-a2ee-476c-878b-c7b6c70c5fb5"
      },
      "execution_count": null,
      "outputs": [
        {
          "output_type": "execute_result",
          "data": {
            "text/plain": [
              "RandomForestClassifier(n_estimators=28)"
            ]
          },
          "metadata": {},
          "execution_count": 72
        }
      ]
    },
    {
      "cell_type": "code",
      "source": [
        "rfc.pred=rfc.predict(x_test)"
      ],
      "metadata": {
        "id": "4_7VtLpByJ-1"
      },
      "execution_count": null,
      "outputs": []
    },
    {
      "cell_type": "code",
      "source": [
        "print(confusion_matrix(y_test,rfc.pred))"
      ],
      "metadata": {
        "colab": {
          "base_uri": "https://localhost:8080/"
        },
        "id": "ZwkVM2vOyKBu",
        "outputId": "8681e119-d494-4c3d-c0dd-2192866bcf8a"
      },
      "execution_count": null,
      "outputs": [
        {
          "output_type": "stream",
          "name": "stdout",
          "text": [
            "[[73  7]\n",
            " [ 3 37]]\n"
          ]
        }
      ]
    },
    {
      "cell_type": "code",
      "source": [
        "(73+37)/120*100"
      ],
      "metadata": {
        "colab": {
          "base_uri": "https://localhost:8080/"
        },
        "id": "WKZUkNYPzmSL",
        "outputId": "97d5cdca-efbb-4ab9-ea03-8b1bc41decaa"
      },
      "execution_count": null,
      "outputs": [
        {
          "output_type": "execute_result",
          "data": {
            "text/plain": [
              "91.66666666666666"
            ]
          },
          "metadata": {},
          "execution_count": 76
        }
      ]
    },
    {
      "cell_type": "markdown",
      "source": [
        "**elbow** **method**"
      ],
      "metadata": {
        "id": "Wd1YNeF40Bbs"
      }
    },
    {
      "cell_type": "code",
      "source": [
        "err_rate=[]"
      ],
      "metadata": {
        "id": "hg-5EppyzrZi"
      },
      "execution_count": null,
      "outputs": []
    },
    {
      "cell_type": "code",
      "source": [
        "for i in range(1,100):\n",
        "  rfc=RandomForestClassifier(n_estimators=i)\n",
        "  rfc.fit(x_train,y_train)\n",
        "  rfc.pred=rfc.predict(x_test)\n",
        "  err_rate.append(np.mean(rfc.pred !=y_test))"
      ],
      "metadata": {
        "id": "4kKLkPc4zrhp"
      },
      "execution_count": null,
      "outputs": []
    },
    {
      "cell_type": "code",
      "source": [
        "err_rate"
      ],
      "metadata": {
        "colab": {
          "base_uri": "https://localhost:8080/"
        },
        "id": "mWBk1TFWzrky",
        "outputId": "098f99e7-eae4-4dee-f289-8822ff75692b"
      },
      "execution_count": null,
      "outputs": [
        {
          "output_type": "execute_result",
          "data": {
            "text/plain": [
              "[0.14166666666666666,\n",
              " 0.13333333333333333,\n",
              " 0.09166666666666666,\n",
              " 0.1,\n",
              " 0.1,\n",
              " 0.1,\n",
              " 0.09166666666666666,\n",
              " 0.09166666666666666,\n",
              " 0.10833333333333334,\n",
              " 0.10833333333333334,\n",
              " 0.1,\n",
              " 0.10833333333333334,\n",
              " 0.08333333333333333,\n",
              " 0.09166666666666666,\n",
              " 0.08333333333333333,\n",
              " 0.1,\n",
              " 0.1,\n",
              " 0.08333333333333333,\n",
              " 0.075,\n",
              " 0.10833333333333334,\n",
              " 0.1,\n",
              " 0.09166666666666666,\n",
              " 0.09166666666666666,\n",
              " 0.075,\n",
              " 0.09166666666666666,\n",
              " 0.10833333333333334,\n",
              " 0.09166666666666666,\n",
              " 0.06666666666666667,\n",
              " 0.09166666666666666,\n",
              " 0.09166666666666666,\n",
              " 0.1,\n",
              " 0.10833333333333334,\n",
              " 0.09166666666666666,\n",
              " 0.1,\n",
              " 0.1,\n",
              " 0.1,\n",
              " 0.1,\n",
              " 0.10833333333333334,\n",
              " 0.1,\n",
              " 0.08333333333333333,\n",
              " 0.08333333333333333,\n",
              " 0.09166666666666666,\n",
              " 0.08333333333333333,\n",
              " 0.1,\n",
              " 0.09166666666666666,\n",
              " 0.08333333333333333,\n",
              " 0.10833333333333334,\n",
              " 0.08333333333333333,\n",
              " 0.075,\n",
              " 0.08333333333333333,\n",
              " 0.09166666666666666,\n",
              " 0.1,\n",
              " 0.1,\n",
              " 0.1,\n",
              " 0.1,\n",
              " 0.08333333333333333,\n",
              " 0.08333333333333333,\n",
              " 0.1,\n",
              " 0.075,\n",
              " 0.06666666666666667,\n",
              " 0.09166666666666666,\n",
              " 0.1,\n",
              " 0.1,\n",
              " 0.09166666666666666,\n",
              " 0.08333333333333333,\n",
              " 0.08333333333333333,\n",
              " 0.09166666666666666,\n",
              " 0.09166666666666666,\n",
              " 0.1,\n",
              " 0.09166666666666666,\n",
              " 0.10833333333333334,\n",
              " 0.1,\n",
              " 0.1,\n",
              " 0.1,\n",
              " 0.08333333333333333,\n",
              " 0.09166666666666666,\n",
              " 0.10833333333333334,\n",
              " 0.08333333333333333,\n",
              " 0.08333333333333333,\n",
              " 0.09166666666666666,\n",
              " 0.1,\n",
              " 0.09166666666666666,\n",
              " 0.1,\n",
              " 0.1,\n",
              " 0.1,\n",
              " 0.1,\n",
              " 0.1,\n",
              " 0.10833333333333334,\n",
              " 0.1,\n",
              " 0.08333333333333333,\n",
              " 0.1,\n",
              " 0.075,\n",
              " 0.1,\n",
              " 0.09166666666666666,\n",
              " 0.08333333333333333,\n",
              " 0.10833333333333334,\n",
              " 0.075,\n",
              " 0.09166666666666666,\n",
              " 0.09166666666666666]"
            ]
          },
          "metadata": {},
          "execution_count": 61
        }
      ]
    },
    {
      "cell_type": "code",
      "source": [
        "plt.figure(figsize=(10,6))\n",
        "plt.plot(range(1,100),err_rate,color='b',marker='o',markersize=10)\n",
        "plt.title('err_rate vs rfc values')\n",
        "plt.xlabel('rfc value')\n",
        "plt.ylabel('err_rate')"
      ],
      "metadata": {
        "colab": {
          "base_uri": "https://localhost:8080/",
          "height": 422
        },
        "id": "L4xXS8LUzrn5",
        "outputId": "535c0061-4c31-440b-9318-a97211df5c69"
      },
      "execution_count": null,
      "outputs": [
        {
          "output_type": "execute_result",
          "data": {
            "text/plain": [
              "Text(0, 0.5, 'err_rate')"
            ]
          },
          "metadata": {},
          "execution_count": 63
        },
        {
          "output_type": "display_data",
          "data": {
            "text/plain": [
              "<Figure size 720x432 with 1 Axes>"
            ],
            "image/png": "[encoded data removed]"
          },
          "metadata": {
            "needs_background": "light"
          }
        }
      ]
    },
    {
      "cell_type": "markdown",
      "source": [
        "# **Naive** **Bayes**"
      ],
      "metadata": {
        "id": "ZyKfltww20Rj"
      }
    },
    {
      "cell_type": "markdown",
      "source": [
        "**social_network data used for this model...upto train_test_split step are same ..before that below step run**"
      ],
      "metadata": {
        "id": "AAJTxc_m22Ay"
      }
    },
    {
      "cell_type": "code",
      "source": [
        "from sklearn.naive_bayes import GaussianNB"
      ],
      "metadata": {
        "id": "JO6GI-xjzrsX"
      },
      "execution_count": null,
      "outputs": []
    },
    {
      "cell_type": "code",
      "source": [
        "GNB=GaussianNB()"
      ],
      "metadata": {
        "id": "M-oYzt-ezrxj"
      },
      "execution_count": null,
      "outputs": []
    },
    {
      "cell_type": "code",
      "source": [
        "GNB.fit(x_train,y_train)"
      ],
      "metadata": {
        "colab": {
          "base_uri": "https://localhost:8080/"
        },
        "id": "Kc8ZZUFtzr07",
        "outputId": "f57cbaf8-0dcd-4bda-a877-53bf368ad590"
      },
      "execution_count": null,
      "outputs": [
        {
          "output_type": "execute_result",
          "data": {
            "text/plain": [
              "GaussianNB()"
            ]
          },
          "metadata": {},
          "execution_count": 79
        }
      ]
    },
    {
      "cell_type": "code",
      "source": [
        "y_pred=GNB.predict(x_test)"
      ],
      "metadata": {
        "id": "Ad1f1-WNzr5M"
      },
      "execution_count": null,
      "outputs": []
    },
    {
      "cell_type": "code",
      "source": [
        "acc=accuracy_score(y_test,y_pred)"
      ],
      "metadata": {
        "id": "0xrgdSpx3ffP"
      },
      "execution_count": null,
      "outputs": []
    },
    {
      "cell_type": "code",
      "source": [
        "acc"
      ],
      "metadata": {
        "colab": {
          "base_uri": "https://localhost:8080/"
        },
        "id": "7aZgEuZX3fi0",
        "outputId": "733329bb-9d3c-4932-8733-5c89af778029"
      },
      "execution_count": null,
      "outputs": [
        {
          "output_type": "execute_result",
          "data": {
            "text/plain": [
              "0.9083333333333333"
            ]
          },
          "metadata": {},
          "execution_count": 82
        }
      ]
    },
    {
      "cell_type": "code",
      "source": [
        "acc*100"
      ],
      "metadata": {
        "colab": {
          "base_uri": "https://localhost:8080/"
        },
        "id": "caqhgye23foA",
        "outputId": "cf6d866b-0a0f-4cf0-cc47-49be938c074c"
      },
      "execution_count": null,
      "outputs": [
        {
          "output_type": "execute_result",
          "data": {
            "text/plain": [
              "90.83333333333333"
            ]
          },
          "metadata": {},
          "execution_count": 83
        }
      ]
    }
  ]
}