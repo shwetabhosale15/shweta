{
  "nbformat": 4,
  "nbformat_minor": 0,
  "metadata": {
    "colab": {
      "provenance": [],
      "authorship_tag": "ABX9TyNGoo4R59aGebDnW0aCuQ5O",
      "include_colab_link": true
    },
    "kernelspec": {
      "name": "python3",
      "display_name": "Python 3"
    },
    "language_info": {
      "name": "python"
    }
  },
  "cells": [
    {
      "cell_type": "markdown",
      "metadata": {
        "id": "view-in-github",
        "colab_type": "text"
      },
      "source": [
        "<a href=\"https://colab.research.google.com/github/shwetabhosale15/shweta/blob/main/Bollywood_movies_Data_Analysis_Project.ipynb\" target=\"_parent\"><img src=\"https://colab.research.google.com/assets/colab-badge.svg\" alt=\"Open In Colab\"/></a>"
      ]
    },
    {
      "cell_type": "markdown",
      "source": [
        "#**BOLLYWOOD MOVIES DATA ANALYSIS**"
      ],
      "metadata": {
        "id": "FB_oVmrJ0q12"
      }
    },
    {
      "cell_type": "markdown",
      "source": [
        "**Problem Statement**\n",
        "\n",
        "Hindi cinema, popularly known as Bollywood and formerly as Bombay cinema,refers to the film industry based in Mumbai, Although \"Bollywood\" films are generally listed under the Hindi language, most are in Hindustani and many in Urdu as well as Hindi, with partial Bhojpuri, Punjabi and occasionally other languages. Bollywood films can achieve national distribution across at least 22 of India's 29 states.\n",
        "\n",
        "Speakers of Hindi, Bhojpuri, Urdu, and Punjabi understand the mixed language usage of Bollywood.As per data from 2014, Hindi cinema represented 43 percent of Indian net box-office revenue; Tamil and Telugu cinema represented 36 percent, and the remaining regional cinema constituted 21 percent. Hindi cinema has overtaken the U.S. film industry to become the largest centre for film production in the world.\n",
        "\n",
        "**History of Bollywood** :-In 1897, a film presentation by Professor Stevenson featured a stage show at Calcutta's Star Theatre. With Stevenson's encouragement and camera, Hiralal Sen, an Indian photographer, made a film of scenes from that show.\n",
        "\n",
        "Dadasaheb Phalke's silent Raja Harishchandra (1913) is the first feature film made in India. By the 1930s, the industry was producing over 200 films per year.[29] The first Indian sound film, Ardeshir Irani's Alam Ara (1931), was commercially successful\n",
        "\n",
        "Film Industries using social OTT platform like Disney + Hotstar,Netflix,SonyLiv ,Amazon Prime,Zee5 etc. \n",
        "\n",
        "**Problem**: Getting a accurate information ralated movies that's why Film industries identify public what kind of movies like watching. & also Investor also 1st analysis the data then he/she invest into film. \n",
        "Given this background, they decide to hire you as the data Scientist or Data Analyst and come up with a strategy to fulfill the company's business objective.\n",
        "\n",
        "1)Understand the Business Problem.\n",
        "\n",
        "2)Collecting Data & Clean the data. \n",
        "\n",
        "3)Preparing the Data: You are expected to do an exhaustive Exploratory Data Analysis (EDA). \n",
        "\n",
        "4)Explore the insights which are invisible in Data. "
      ],
      "metadata": {
        "id": "L2MejdPd1g9O"
      }
    },
    {
      "cell_type": "markdown",
      "source": [
        "#**Import** **Libraries**"
      ],
      "metadata": {
        "id": "AftRHZ7qC0Tc"
      }
    },
    {
      "cell_type": "code",
      "source": [
        "import numpy as np\n",
        "import pandas as pd\n",
        "import seaborn as sns\n",
        "import matplotlib.pyplot as plt\n",
        "%matplotlib inline"
      ],
      "metadata": {
        "id": "wh0Kp-ZxCvlH"
      },
      "execution_count": 40,
      "outputs": []
    },
    {
      "cell_type": "markdown",
      "source": [
        "# **Read the data**"
      ],
      "metadata": {
        "id": "MLN7RpGtDBB8"
      }
    },
    {
      "cell_type": "code",
      "source": [
        "Bollywood_MoviesDetails=pd.read_csv('/content/BollywoodMovieDetail.csv')\n",
        "\n",
        "Bollywood_ActorRanking=pd.read_csv('/content/BollywoodActorRanking.csv')\n",
        "\n",
        "Bollywood_DirectorRanking=pd.read_csv('/content/BollywoodDirectorRanking.csv')"
      ],
      "metadata": {
        "id": "lS_4sLAFayXx"
      },
      "execution_count": 2,
      "outputs": []
    },
    {
      "cell_type": "code",
      "source": [
        "Bollywood_MoviesDetails.head()"
      ],
      "metadata": {
        "colab": {
          "base_uri": "https://localhost:8080/",
          "height": 424
        },
        "id": "_PJ-zJ9wa-yI",
        "outputId": "6548ca14-a349-4acf-a4ed-4c644ccda418"
      },
      "execution_count": 3,
      "outputs": [
        {
          "output_type": "execute_result",
          "data": {
            "text/plain": [
              "      imdbId                              title  releaseYear  releaseDate  \\\n",
              "0  tt0118578                             Albela         2001  20 Apr 2001   \n",
              "1  tt0169102  Lagaan: Once Upon a Time in India         2001  08 May 2002   \n",
              "2  tt0187279           Meri Biwi Ka Jawab Nahin         2004  02 Jul 2004   \n",
              "3  tt0222024             Hum Tumhare Hain Sanam         2002  24 May 2002   \n",
              "4  tt0227194                         One 2 Ka 4         2001  30 Mar 2001   \n",
              "\n",
              "                         genre  \\\n",
              "0                      Romance   \n",
              "1  Adventure | Drama | Musical   \n",
              "2              Action | Comedy   \n",
              "3              Drama | Romance   \n",
              "4      Action | Comedy | Drama   \n",
              "\n",
              "                                             writers  \\\n",
              "0  Honey Irani (screenplay) | Honey Irani (story)...   \n",
              "1  Ashutosh Gowariker (story) | Ashutosh Gowarike...   \n",
              "2                                                NaN   \n",
              "3  K.S. Adiyaman | Arun Kumar (assistant dialogue...   \n",
              "4  Sanjay Chhel | Raaj Kumar Dahima (screenplay) ...   \n",
              "\n",
              "                                              actors  \\\n",
              "0  Govinda | Aishwarya Rai Bachchan | Jackie Shro...   \n",
              "1  Aamir Khan | Gracy Singh | Rachel Shelley | Pa...   \n",
              "2  Akshay Kumar | Sridevi | Gulshan Grover | Laxm...   \n",
              "3  Shah Rukh Khan | Madhuri Dixit | Salman Khan |...   \n",
              "4  Shah Rukh Khan | Juhi Chawla | Jackie Shroff |...   \n",
              "\n",
              "                      directors  sequel  hitFlop  \n",
              "0                 Deepak Sareen     0.0        2  \n",
              "1            Ashutosh Gowariker     0.0        6  \n",
              "2  Pankaj Parashar | S.M. Iqbal     0.0        1  \n",
              "3                 K.S. Adiyaman     0.0        4  \n",
              "4             Shashilal K. Nair     0.0        1  "
            ],
            "text/html": [
              "\n",
              "  <div id=\"df-204ee50f-aa54-4e21-b457-148e4c9d73f3\">\n",
              "    <div class=\"colab-df-container\">\n",
              "      <div>\n",
              "<style scoped>\n",
              "    .dataframe tbody tr th:only-of-type {\n",
              "        vertical-align: middle;\n",
              "    }\n",
              "\n",
              "    .dataframe tbody tr th {\n",
              "        vertical-align: top;\n",
              "    }\n",
              "\n",
              "    .dataframe thead th {\n",
              "        text-align: right;\n",
              "    }\n",
              "</style>\n",
              "<table border=\"1\" class=\"dataframe\">\n",
              "  <thead>\n",
              "    <tr style=\"text-align: right;\">\n",
              "      <th></th>\n",
              "      <th>imdbId</th>\n",
              "      <th>title</th>\n",
              "      <th>releaseYear</th>\n",
              "      <th>releaseDate</th>\n",
              "      <th>genre</th>\n",
              "      <th>writers</th>\n",
              "      <th>actors</th>\n",
              "      <th>directors</th>\n",
              "      <th>sequel</th>\n",
              "      <th>hitFlop</th>\n",
              "    </tr>\n",
              "  </thead>\n",
              "  <tbody>\n",
              "    <tr>\n",
              "      <th>0</th>\n",
              "      <td>tt0118578</td>\n",
              "      <td>Albela</td>\n",
              "      <td>2001</td>\n",
              "      <td>20 Apr 2001</td>\n",
              "      <td>Romance</td>\n",
              "      <td>Honey Irani (screenplay) | Honey Irani (story)...</td>\n",
              "      <td>Govinda | Aishwarya Rai Bachchan | Jackie Shro...</td>\n",
              "      <td>Deepak Sareen</td>\n",
              "      <td>0.0</td>\n",
              "      <td>2</td>\n",
              "    </tr>\n",
              "    <tr>\n",
              "      <th>1</th>\n",
              "      <td>tt0169102</td>\n",
              "      <td>Lagaan: Once Upon a Time in India</td>\n",
              "      <td>2001</td>\n",
              "      <td>08 May 2002</td>\n",
              "      <td>Adventure | Drama | Musical</td>\n",
              "      <td>Ashutosh Gowariker (story) | Ashutosh Gowarike...</td>\n",
              "      <td>Aamir Khan | Gracy Singh | Rachel Shelley | Pa...</td>\n",
              "      <td>Ashutosh Gowariker</td>\n",
              "      <td>0.0</td>\n",
              "      <td>6</td>\n",
              "    </tr>\n",
              "    <tr>\n",
              "      <th>2</th>\n",
              "      <td>tt0187279</td>\n",
              "      <td>Meri Biwi Ka Jawab Nahin</td>\n",
              "      <td>2004</td>\n",
              "      <td>02 Jul 2004</td>\n",
              "      <td>Action | Comedy</td>\n",
              "      <td>NaN</td>\n",
              "      <td>Akshay Kumar | Sridevi | Gulshan Grover | Laxm...</td>\n",
              "      <td>Pankaj Parashar | S.M. Iqbal</td>\n",
              "      <td>0.0</td>\n",
              "      <td>1</td>\n",
              "    </tr>\n",
              "    <tr>\n",
              "      <th>3</th>\n",
              "      <td>tt0222024</td>\n",
              "      <td>Hum Tumhare Hain Sanam</td>\n",
              "      <td>2002</td>\n",
              "      <td>24 May 2002</td>\n",
              "      <td>Drama | Romance</td>\n",
              "      <td>K.S. Adiyaman | Arun Kumar (assistant dialogue...</td>\n",
              "      <td>Shah Rukh Khan | Madhuri Dixit | Salman Khan |...</td>\n",
              "      <td>K.S. Adiyaman</td>\n",
              "      <td>0.0</td>\n",
              "      <td>4</td>\n",
              "    </tr>\n",
              "    <tr>\n",
              "      <th>4</th>\n",
              "      <td>tt0227194</td>\n",
              "      <td>One 2 Ka 4</td>\n",
              "      <td>2001</td>\n",
              "      <td>30 Mar 2001</td>\n",
              "      <td>Action | Comedy | Drama</td>\n",
              "      <td>Sanjay Chhel | Raaj Kumar Dahima (screenplay) ...</td>\n",
              "      <td>Shah Rukh Khan | Juhi Chawla | Jackie Shroff |...</td>\n",
              "      <td>Shashilal K. Nair</td>\n",
              "      <td>0.0</td>\n",
              "      <td>1</td>\n",
              "    </tr>\n",
              "  </tbody>\n",
              "</table>\n",
              "</div>\n",
              "      <button class=\"colab-df-convert\" onclick=\"convertToInteractive('df-204ee50f-aa54-4e21-b457-148e4c9d73f3')\"\n",
              "              title=\"Convert this dataframe to an interactive table.\"\n",
              "              style=\"display:none;\">\n",
              "        \n",
              "  <svg xmlns=\"http://www.w3.org/2000/svg\" height=\"24px\"viewBox=\"0 0 24 24\"\n",
              "       width=\"24px\">\n",
              "    <path d=\"M0 0h24v24H0V0z\" fill=\"none\"/>\n",
              "    <path d=\"M18.56 5.44l.94 2.06.94-2.06 2.06-.94-2.06-.94-.94-2.06-.94 2.06-2.06.94zm-11 1L8.5 8.5l.94-2.06 2.06-.94-2.06-.94L8.5 2.5l-.94 2.06-2.06.94zm10 10l.94 2.06.94-2.06 2.06-.94-2.06-.94-.94-2.06-.94 2.06-2.06.94z\"/><path d=\"M17.41 7.96l-1.37-1.37c-.4-.4-.92-.59-1.43-.59-.52 0-1.04.2-1.43.59L10.3 9.45l-7.72 7.72c-.78.78-.78 2.05 0 2.83L4 21.41c.39.39.9.59 1.41.59.51 0 1.02-.2 1.41-.59l7.78-7.78 2.81-2.81c.8-.78.8-2.07 0-2.86zM5.41 20L4 18.59l7.72-7.72 1.47 1.35L5.41 20z\"/>\n",
              "  </svg>\n",
              "      </button>\n",
              "      \n",
              "  <style>\n",
              "    .colab-df-container {\n",
              "      display:flex;\n",
              "      flex-wrap:wrap;\n",
              "      gap: 12px;\n",
              "    }\n",
              "\n",
              "    .colab-df-convert {\n",
              "      background-color: #E8F0FE;\n",
              "      border: none;\n",
              "      border-radius: 50%;\n",
              "      cursor: pointer;\n",
              "      display: none;\n",
              "      fill: #1967D2;\n",
              "      height: 32px;\n",
              "      padding: 0 0 0 0;\n",
              "      width: 32px;\n",
              "    }\n",
              "\n",
              "    .colab-df-convert:hover {\n",
              "      background-color: #E2EBFA;\n",
              "      box-shadow: 0px 1px 2px rgba(60, 64, 67, 0.3), 0px 1px 3px 1px rgba(60, 64, 67, 0.15);\n",
              "      fill: #174EA6;\n",
              "    }\n",
              "\n",
              "    [theme=dark] .colab-df-convert {\n",
              "      background-color: #3B4455;\n",
              "      fill: #D2E3FC;\n",
              "    }\n",
              "\n",
              "    [theme=dark] .colab-df-convert:hover {\n",
              "      background-color: #434B5C;\n",
              "      box-shadow: 0px 1px 3px 1px rgba(0, 0, 0, 0.15);\n",
              "      filter: drop-shadow(0px 1px 2px rgba(0, 0, 0, 0.3));\n",
              "      fill: #FFFFFF;\n",
              "    }\n",
              "  </style>\n",
              "\n",
              "      <script>\n",
              "        const buttonEl =\n",
              "          document.querySelector('#df-204ee50f-aa54-4e21-b457-148e4c9d73f3 button.colab-df-convert');\n",
              "        buttonEl.style.display =\n",
              "          google.colab.kernel.accessAllowed ? 'block' : 'none';\n",
              "\n",
              "        async function convertToInteractive(key) {\n",
              "          const element = document.querySelector('#df-204ee50f-aa54-4e21-b457-148e4c9d73f3');\n",
              "          const dataTable =\n",
              "            await google.colab.kernel.invokeFunction('convertToInteractive',\n",
              "                                                     [key], {});\n",
              "          if (!dataTable) return;\n",
              "\n",
              "          const docLinkHtml = 'Like what you see? Visit the ' +\n",
              "            '<a target=\"_blank\" href=https://colab.research.google.com/notebooks/data_table.ipynb>data table notebook</a>'\n",
              "            + ' to learn more about interactive tables.';\n",
              "          element.innerHTML = '';\n",
              "          dataTable['output_type'] = 'display_data';\n",
              "          await google.colab.output.renderOutput(dataTable, element);\n",
              "          const docLink = document.createElement('div');\n",
              "          docLink.innerHTML = docLinkHtml;\n",
              "          element.appendChild(docLink);\n",
              "        }\n",
              "      </script>\n",
              "    </div>\n",
              "  </div>\n",
              "  "
            ]
          },
          "metadata": {},
          "execution_count": 3
        }
      ]
    },
    {
      "cell_type": "code",
      "source": [
        "Bollywood_ActorRanking.head()"
      ],
      "metadata": {
        "colab": {
          "base_uri": "https://localhost:8080/",
          "height": 206
        },
        "id": "HSJj-PlibIa5",
        "outputId": "a35d2292-6392-4bd4-cc6f-4f3eecc31442"
      },
      "execution_count": 4,
      "outputs": [
        {
          "output_type": "execute_result",
          "data": {
            "text/plain": [
              "   actorId         actorName  movieCount  ratingSum  normalizedMovieRank  \\\n",
              "0      373        Aamir Khan          11       1170              9.44862   \n",
              "1      374    Shah Rukh Khan          23       2000              7.55009   \n",
              "2      375       Salman Khan          36       2340              5.40217   \n",
              "3      376      Katrina Kaif          17       1640              8.48082   \n",
              "4      377  Deepika Padukone          16       1080              5.64674   \n",
              "\n",
              "   googleHits  normalizedGoogleRank  normalizedRating  \n",
              "0     2460000               7.34283          10.00000  \n",
              "1     2670000               7.88458           9.22674  \n",
              "2     3490000              10.00000           9.20821  \n",
              "3     2120000               6.46570           8.94852  \n",
              "4     3000000               8.73591           8.62716  "
            ],
            "text/html": [
              "\n",
              "  <div id=\"df-58c53e3a-a67c-4b09-9922-57f498e1762e\">\n",
              "    <div class=\"colab-df-container\">\n",
              "      <div>\n",
              "<style scoped>\n",
              "    .dataframe tbody tr th:only-of-type {\n",
              "        vertical-align: middle;\n",
              "    }\n",
              "\n",
              "    .dataframe tbody tr th {\n",
              "        vertical-align: top;\n",
              "    }\n",
              "\n",
              "    .dataframe thead th {\n",
              "        text-align: right;\n",
              "    }\n",
              "</style>\n",
              "<table border=\"1\" class=\"dataframe\">\n",
              "  <thead>\n",
              "    <tr style=\"text-align: right;\">\n",
              "      <th></th>\n",
              "      <th>actorId</th>\n",
              "      <th>actorName</th>\n",
              "      <th>movieCount</th>\n",
              "      <th>ratingSum</th>\n",
              "      <th>normalizedMovieRank</th>\n",
              "      <th>googleHits</th>\n",
              "      <th>normalizedGoogleRank</th>\n",
              "      <th>normalizedRating</th>\n",
              "    </tr>\n",
              "  </thead>\n",
              "  <tbody>\n",
              "    <tr>\n",
              "      <th>0</th>\n",
              "      <td>373</td>\n",
              "      <td>Aamir Khan</td>\n",
              "      <td>11</td>\n",
              "      <td>1170</td>\n",
              "      <td>9.44862</td>\n",
              "      <td>2460000</td>\n",
              "      <td>7.34283</td>\n",
              "      <td>10.00000</td>\n",
              "    </tr>\n",
              "    <tr>\n",
              "      <th>1</th>\n",
              "      <td>374</td>\n",
              "      <td>Shah Rukh Khan</td>\n",
              "      <td>23</td>\n",
              "      <td>2000</td>\n",
              "      <td>7.55009</td>\n",
              "      <td>2670000</td>\n",
              "      <td>7.88458</td>\n",
              "      <td>9.22674</td>\n",
              "    </tr>\n",
              "    <tr>\n",
              "      <th>2</th>\n",
              "      <td>375</td>\n",
              "      <td>Salman Khan</td>\n",
              "      <td>36</td>\n",
              "      <td>2340</td>\n",
              "      <td>5.40217</td>\n",
              "      <td>3490000</td>\n",
              "      <td>10.00000</td>\n",
              "      <td>9.20821</td>\n",
              "    </tr>\n",
              "    <tr>\n",
              "      <th>3</th>\n",
              "      <td>376</td>\n",
              "      <td>Katrina Kaif</td>\n",
              "      <td>17</td>\n",
              "      <td>1640</td>\n",
              "      <td>8.48082</td>\n",
              "      <td>2120000</td>\n",
              "      <td>6.46570</td>\n",
              "      <td>8.94852</td>\n",
              "    </tr>\n",
              "    <tr>\n",
              "      <th>4</th>\n",
              "      <td>377</td>\n",
              "      <td>Deepika Padukone</td>\n",
              "      <td>16</td>\n",
              "      <td>1080</td>\n",
              "      <td>5.64674</td>\n",
              "      <td>3000000</td>\n",
              "      <td>8.73591</td>\n",
              "      <td>8.62716</td>\n",
              "    </tr>\n",
              "  </tbody>\n",
              "</table>\n",
              "</div>\n",
              "      <button class=\"colab-df-convert\" onclick=\"convertToInteractive('df-58c53e3a-a67c-4b09-9922-57f498e1762e')\"\n",
              "              title=\"Convert this dataframe to an interactive table.\"\n",
              "              style=\"display:none;\">\n",
              "        \n",
              "  <svg xmlns=\"http://www.w3.org/2000/svg\" height=\"24px\"viewBox=\"0 0 24 24\"\n",
              "       width=\"24px\">\n",
              "    <path d=\"M0 0h24v24H0V0z\" fill=\"none\"/>\n",
              "    <path d=\"M18.56 5.44l.94 2.06.94-2.06 2.06-.94-2.06-.94-.94-2.06-.94 2.06-2.06.94zm-11 1L8.5 8.5l.94-2.06 2.06-.94-2.06-.94L8.5 2.5l-.94 2.06-2.06.94zm10 10l.94 2.06.94-2.06 2.06-.94-2.06-.94-.94-2.06-.94 2.06-2.06.94z\"/><path d=\"M17.41 7.96l-1.37-1.37c-.4-.4-.92-.59-1.43-.59-.52 0-1.04.2-1.43.59L10.3 9.45l-7.72 7.72c-.78.78-.78 2.05 0 2.83L4 21.41c.39.39.9.59 1.41.59.51 0 1.02-.2 1.41-.59l7.78-7.78 2.81-2.81c.8-.78.8-2.07 0-2.86zM5.41 20L4 18.59l7.72-7.72 1.47 1.35L5.41 20z\"/>\n",
              "  </svg>\n",
              "      </button>\n",
              "      \n",
              "  <style>\n",
              "    .colab-df-container {\n",
              "      display:flex;\n",
              "      flex-wrap:wrap;\n",
              "      gap: 12px;\n",
              "    }\n",
              "\n",
              "    .colab-df-convert {\n",
              "      background-color: #E8F0FE;\n",
              "      border: none;\n",
              "      border-radius: 50%;\n",
              "      cursor: pointer;\n",
              "      display: none;\n",
              "      fill: #1967D2;\n",
              "      height: 32px;\n",
              "      padding: 0 0 0 0;\n",
              "      width: 32px;\n",
              "    }\n",
              "\n",
              "    .colab-df-convert:hover {\n",
              "      background-color: #E2EBFA;\n",
              "      box-shadow: 0px 1px 2px rgba(60, 64, 67, 0.3), 0px 1px 3px 1px rgba(60, 64, 67, 0.15);\n",
              "      fill: #174EA6;\n",
              "    }\n",
              "\n",
              "    [theme=dark] .colab-df-convert {\n",
              "      background-color: #3B4455;\n",
              "      fill: #D2E3FC;\n",
              "    }\n",
              "\n",
              "    [theme=dark] .colab-df-convert:hover {\n",
              "      background-color: #434B5C;\n",
              "      box-shadow: 0px 1px 3px 1px rgba(0, 0, 0, 0.15);\n",
              "      filter: drop-shadow(0px 1px 2px rgba(0, 0, 0, 0.3));\n",
              "      fill: #FFFFFF;\n",
              "    }\n",
              "  </style>\n",
              "\n",
              "      <script>\n",
              "        const buttonEl =\n",
              "          document.querySelector('#df-58c53e3a-a67c-4b09-9922-57f498e1762e button.colab-df-convert');\n",
              "        buttonEl.style.display =\n",
              "          google.colab.kernel.accessAllowed ? 'block' : 'none';\n",
              "\n",
              "        async function convertToInteractive(key) {\n",
              "          const element = document.querySelector('#df-58c53e3a-a67c-4b09-9922-57f498e1762e');\n",
              "          const dataTable =\n",
              "            await google.colab.kernel.invokeFunction('convertToInteractive',\n",
              "                                                     [key], {});\n",
              "          if (!dataTable) return;\n",
              "\n",
              "          const docLinkHtml = 'Like what you see? Visit the ' +\n",
              "            '<a target=\"_blank\" href=https://colab.research.google.com/notebooks/data_table.ipynb>data table notebook</a>'\n",
              "            + ' to learn more about interactive tables.';\n",
              "          element.innerHTML = '';\n",
              "          dataTable['output_type'] = 'display_data';\n",
              "          await google.colab.output.renderOutput(dataTable, element);\n",
              "          const docLink = document.createElement('div');\n",
              "          docLink.innerHTML = docLinkHtml;\n",
              "          element.appendChild(docLink);\n",
              "        }\n",
              "      </script>\n",
              "    </div>\n",
              "  </div>\n",
              "  "
            ]
          },
          "metadata": {},
          "execution_count": 4
        }
      ]
    },
    {
      "cell_type": "code",
      "source": [
        "Bollywood_DirectorRanking.head()"
      ],
      "metadata": {
        "colab": {
          "base_uri": "https://localhost:8080/",
          "height": 206
        },
        "id": "V3fJRGqcqEaY",
        "outputId": "e97a334c-174d-4039-f750-ff5cc0fc89f9"
      },
      "execution_count": 5,
      "outputs": [
        {
          "output_type": "execute_result",
          "data": {
            "text/plain": [
              "   directorId     directorName  movieCount  ratingSum  normalizedMovieRank  \\\n",
              "0           1  Rajkumar Hirani           3        440             10.00000   \n",
              "1           2       Farah Khan           4        440              7.39474   \n",
              "2           3      Karan Johar           5        430              5.68947   \n",
              "3           4       Sajid Khan           4        350              5.79605   \n",
              "4           5     Rohit Shetty          10        950              6.32895   \n",
              "\n",
              "   googleHits  normalizedGoogleRank  normalizedRating  \n",
              "0      146000               2.07796          10.00000  \n",
              "1     1060000               8.88317           8.78473  \n",
              "2     1050000               8.80872           7.10460  \n",
              "3      905000               7.72912           6.99780  \n",
              "4      437000               4.24461           6.83761  "
            ],
            "text/html": [
              "\n",
              "  <div id=\"df-c79db9ba-c5fe-4099-8021-477c5d6b7841\">\n",
              "    <div class=\"colab-df-container\">\n",
              "      <div>\n",
              "<style scoped>\n",
              "    .dataframe tbody tr th:only-of-type {\n",
              "        vertical-align: middle;\n",
              "    }\n",
              "\n",
              "    .dataframe tbody tr th {\n",
              "        vertical-align: top;\n",
              "    }\n",
              "\n",
              "    .dataframe thead th {\n",
              "        text-align: right;\n",
              "    }\n",
              "</style>\n",
              "<table border=\"1\" class=\"dataframe\">\n",
              "  <thead>\n",
              "    <tr style=\"text-align: right;\">\n",
              "      <th></th>\n",
              "      <th>directorId</th>\n",
              "      <th>directorName</th>\n",
              "      <th>movieCount</th>\n",
              "      <th>ratingSum</th>\n",
              "      <th>normalizedMovieRank</th>\n",
              "      <th>googleHits</th>\n",
              "      <th>normalizedGoogleRank</th>\n",
              "      <th>normalizedRating</th>\n",
              "    </tr>\n",
              "  </thead>\n",
              "  <tbody>\n",
              "    <tr>\n",
              "      <th>0</th>\n",
              "      <td>1</td>\n",
              "      <td>Rajkumar Hirani</td>\n",
              "      <td>3</td>\n",
              "      <td>440</td>\n",
              "      <td>10.00000</td>\n",
              "      <td>146000</td>\n",
              "      <td>2.07796</td>\n",
              "      <td>10.00000</td>\n",
              "    </tr>\n",
              "    <tr>\n",
              "      <th>1</th>\n",
              "      <td>2</td>\n",
              "      <td>Farah Khan</td>\n",
              "      <td>4</td>\n",
              "      <td>440</td>\n",
              "      <td>7.39474</td>\n",
              "      <td>1060000</td>\n",
              "      <td>8.88317</td>\n",
              "      <td>8.78473</td>\n",
              "    </tr>\n",
              "    <tr>\n",
              "      <th>2</th>\n",
              "      <td>3</td>\n",
              "      <td>Karan Johar</td>\n",
              "      <td>5</td>\n",
              "      <td>430</td>\n",
              "      <td>5.68947</td>\n",
              "      <td>1050000</td>\n",
              "      <td>8.80872</td>\n",
              "      <td>7.10460</td>\n",
              "    </tr>\n",
              "    <tr>\n",
              "      <th>3</th>\n",
              "      <td>4</td>\n",
              "      <td>Sajid Khan</td>\n",
              "      <td>4</td>\n",
              "      <td>350</td>\n",
              "      <td>5.79605</td>\n",
              "      <td>905000</td>\n",
              "      <td>7.72912</td>\n",
              "      <td>6.99780</td>\n",
              "    </tr>\n",
              "    <tr>\n",
              "      <th>4</th>\n",
              "      <td>5</td>\n",
              "      <td>Rohit Shetty</td>\n",
              "      <td>10</td>\n",
              "      <td>950</td>\n",
              "      <td>6.32895</td>\n",
              "      <td>437000</td>\n",
              "      <td>4.24461</td>\n",
              "      <td>6.83761</td>\n",
              "    </tr>\n",
              "  </tbody>\n",
              "</table>\n",
              "</div>\n",
              "      <button class=\"colab-df-convert\" onclick=\"convertToInteractive('df-c79db9ba-c5fe-4099-8021-477c5d6b7841')\"\n",
              "              title=\"Convert this dataframe to an interactive table.\"\n",
              "              style=\"display:none;\">\n",
              "        \n",
              "  <svg xmlns=\"http://www.w3.org/2000/svg\" height=\"24px\"viewBox=\"0 0 24 24\"\n",
              "       width=\"24px\">\n",
              "    <path d=\"M0 0h24v24H0V0z\" fill=\"none\"/>\n",
              "    <path d=\"M18.56 5.44l.94 2.06.94-2.06 2.06-.94-2.06-.94-.94-2.06-.94 2.06-2.06.94zm-11 1L8.5 8.5l.94-2.06 2.06-.94-2.06-.94L8.5 2.5l-.94 2.06-2.06.94zm10 10l.94 2.06.94-2.06 2.06-.94-2.06-.94-.94-2.06-.94 2.06-2.06.94z\"/><path d=\"M17.41 7.96l-1.37-1.37c-.4-.4-.92-.59-1.43-.59-.52 0-1.04.2-1.43.59L10.3 9.45l-7.72 7.72c-.78.78-.78 2.05 0 2.83L4 21.41c.39.39.9.59 1.41.59.51 0 1.02-.2 1.41-.59l7.78-7.78 2.81-2.81c.8-.78.8-2.07 0-2.86zM5.41 20L4 18.59l7.72-7.72 1.47 1.35L5.41 20z\"/>\n",
              "  </svg>\n",
              "      </button>\n",
              "      \n",
              "  <style>\n",
              "    .colab-df-container {\n",
              "      display:flex;\n",
              "      flex-wrap:wrap;\n",
              "      gap: 12px;\n",
              "    }\n",
              "\n",
              "    .colab-df-convert {\n",
              "      background-color: #E8F0FE;\n",
              "      border: none;\n",
              "      border-radius: 50%;\n",
              "      cursor: pointer;\n",
              "      display: none;\n",
              "      fill: #1967D2;\n",
              "      height: 32px;\n",
              "      padding: 0 0 0 0;\n",
              "      width: 32px;\n",
              "    }\n",
              "\n",
              "    .colab-df-convert:hover {\n",
              "      background-color: #E2EBFA;\n",
              "      box-shadow: 0px 1px 2px rgba(60, 64, 67, 0.3), 0px 1px 3px 1px rgba(60, 64, 67, 0.15);\n",
              "      fill: #174EA6;\n",
              "    }\n",
              "\n",
              "    [theme=dark] .colab-df-convert {\n",
              "      background-color: #3B4455;\n",
              "      fill: #D2E3FC;\n",
              "    }\n",
              "\n",
              "    [theme=dark] .colab-df-convert:hover {\n",
              "      background-color: #434B5C;\n",
              "      box-shadow: 0px 1px 3px 1px rgba(0, 0, 0, 0.15);\n",
              "      filter: drop-shadow(0px 1px 2px rgba(0, 0, 0, 0.3));\n",
              "      fill: #FFFFFF;\n",
              "    }\n",
              "  </style>\n",
              "\n",
              "      <script>\n",
              "        const buttonEl =\n",
              "          document.querySelector('#df-c79db9ba-c5fe-4099-8021-477c5d6b7841 button.colab-df-convert');\n",
              "        buttonEl.style.display =\n",
              "          google.colab.kernel.accessAllowed ? 'block' : 'none';\n",
              "\n",
              "        async function convertToInteractive(key) {\n",
              "          const element = document.querySelector('#df-c79db9ba-c5fe-4099-8021-477c5d6b7841');\n",
              "          const dataTable =\n",
              "            await google.colab.kernel.invokeFunction('convertToInteractive',\n",
              "                                                     [key], {});\n",
              "          if (!dataTable) return;\n",
              "\n",
              "          const docLinkHtml = 'Like what you see? Visit the ' +\n",
              "            '<a target=\"_blank\" href=https://colab.research.google.com/notebooks/data_table.ipynb>data table notebook</a>'\n",
              "            + ' to learn more about interactive tables.';\n",
              "          element.innerHTML = '';\n",
              "          dataTable['output_type'] = 'display_data';\n",
              "          await google.colab.output.renderOutput(dataTable, element);\n",
              "          const docLink = document.createElement('div');\n",
              "          docLink.innerHTML = docLinkHtml;\n",
              "          element.appendChild(docLink);\n",
              "        }\n",
              "      </script>\n",
              "    </div>\n",
              "  </div>\n",
              "  "
            ]
          },
          "metadata": {},
          "execution_count": 5
        }
      ]
    },
    {
      "cell_type": "markdown",
      "source": [
        "#**Data's Information**"
      ],
      "metadata": {
        "id": "Kb7bJ1j0DO8l"
      }
    },
    {
      "cell_type": "code",
      "source": [
        "print(Bollywood_MoviesDetails.info())\n",
        "print('***********************************')\n",
        "print(Bollywood_ActorRanking.info())\n",
        "print('***********************************')\n",
        "print(Bollywood_DirectorRanking.info())"
      ],
      "metadata": {
        "colab": {
          "base_uri": "https://localhost:8080/"
        },
        "id": "Izo1AOi5E5sa",
        "outputId": "35a7a194-64f4-428e-f91e-98f5c70218de"
      },
      "execution_count": 6,
      "outputs": [
        {
          "output_type": "stream",
          "name": "stdout",
          "text": [
            "<class 'pandas.core.frame.DataFrame'>\n",
            "RangeIndex: 1284 entries, 0 to 1283\n",
            "Data columns (total 10 columns):\n",
            " #   Column       Non-Null Count  Dtype  \n",
            "---  ------       --------------  -----  \n",
            " 0   imdbId       1284 non-null   object \n",
            " 1   title        1284 non-null   object \n",
            " 2   releaseYear  1284 non-null   int64  \n",
            " 3   releaseDate  1231 non-null   object \n",
            " 4   genre        1282 non-null   object \n",
            " 5   writers      1165 non-null   object \n",
            " 6   actors       1281 non-null   object \n",
            " 7   directors    1280 non-null   object \n",
            " 8   sequel       1281 non-null   float64\n",
            " 9   hitFlop      1284 non-null   int64  \n",
            "dtypes: float64(1), int64(2), object(7)\n",
            "memory usage: 100.4+ KB\n",
            "None\n",
            "***********************************\n",
            "<class 'pandas.core.frame.DataFrame'>\n",
            "RangeIndex: 301 entries, 0 to 300\n",
            "Data columns (total 8 columns):\n",
            " #   Column                Non-Null Count  Dtype  \n",
            "---  ------                --------------  -----  \n",
            " 0   actorId               301 non-null    int64  \n",
            " 1   actorName             301 non-null    object \n",
            " 2   movieCount            301 non-null    int64  \n",
            " 3   ratingSum             301 non-null    int64  \n",
            " 4   normalizedMovieRank   299 non-null    float64\n",
            " 5   googleHits            301 non-null    int64  \n",
            " 6   normalizedGoogleRank  189 non-null    float64\n",
            " 7   normalizedRating      301 non-null    float64\n",
            "dtypes: float64(3), int64(4), object(1)\n",
            "memory usage: 18.9+ KB\n",
            "None\n",
            "***********************************\n",
            "<class 'pandas.core.frame.DataFrame'>\n",
            "RangeIndex: 118 entries, 0 to 117\n",
            "Data columns (total 8 columns):\n",
            " #   Column                Non-Null Count  Dtype  \n",
            "---  ------                --------------  -----  \n",
            " 0   directorId            118 non-null    int64  \n",
            " 1   directorName          117 non-null    object \n",
            " 2   movieCount            118 non-null    int64  \n",
            " 3   ratingSum             118 non-null    int64  \n",
            " 4   normalizedMovieRank   118 non-null    float64\n",
            " 5   googleHits            118 non-null    int64  \n",
            " 6   normalizedGoogleRank  118 non-null    float64\n",
            " 7   normalizedRating      118 non-null    float64\n",
            "dtypes: float64(3), int64(4), object(1)\n",
            "memory usage: 7.5+ KB\n",
            "None\n"
          ]
        }
      ]
    },
    {
      "cell_type": "markdown",
      "source": [
        "#**Check for unique values**"
      ],
      "metadata": {
        "id": "dr7pb7rSDYtn"
      }
    },
    {
      "cell_type": "code",
      "source": [
        "print(Bollywood_MoviesDetails.nunique())\n",
        "print('----------------------------')\n",
        "print(Bollywood_ActorRanking.nunique())\n",
        "print('------------------------------')\n",
        "print(Bollywood_DirectorRanking.nunique())"
      ],
      "metadata": {
        "colab": {
          "base_uri": "https://localhost:8080/"
        },
        "id": "tQKV6tp6ErfI",
        "outputId": "6bb52e25-f45d-4225-f718-7b8579d49b61"
      },
      "execution_count": 7,
      "outputs": [
        {
          "output_type": "stream",
          "name": "stdout",
          "text": [
            "imdbId         1284\n",
            "title          1284\n",
            "releaseYear      14\n",
            "releaseDate     710\n",
            "genre           215\n",
            "writers        1109\n",
            "actors         1281\n",
            "directors       731\n",
            "sequel            3\n",
            "hitFlop           9\n",
            "dtype: int64\n",
            "----------------------------\n",
            "actorId                 301\n",
            "actorName               301\n",
            "movieCount               36\n",
            "ratingSum                96\n",
            "normalizedMovieRank     156\n",
            "googleHits              178\n",
            "normalizedGoogleRank    177\n",
            "normalizedRating        224\n",
            "dtype: int64\n",
            "------------------------------\n",
            "directorId              118\n",
            "directorName            117\n",
            "movieCount               12\n",
            "ratingSum                45\n",
            "normalizedMovieRank      62\n",
            "googleHits              112\n",
            "normalizedGoogleRank    112\n",
            "normalizedRating        118\n",
            "dtype: int64\n"
          ]
        }
      ]
    },
    {
      "cell_type": "markdown",
      "source": [
        "# **Check for duplicate values**"
      ],
      "metadata": {
        "id": "rbOas9hhDc-g"
      }
    },
    {
      "cell_type": "code",
      "source": [
        "print(Bollywood_MoviesDetails.duplicated().sum())\n",
        "print('----------------------------')\n",
        "print(Bollywood_ActorRanking.duplicated().sum())\n",
        "print('------------------------------')\n",
        "print(Bollywood_DirectorRanking.duplicated().sum())"
      ],
      "metadata": {
        "colab": {
          "base_uri": "https://localhost:8080/"
        },
        "id": "42IU4mujEd3U",
        "outputId": "3e8273bb-c6b3-4613-d482-4cccf7327200"
      },
      "execution_count": 8,
      "outputs": [
        {
          "output_type": "stream",
          "name": "stdout",
          "text": [
            "0\n",
            "----------------------------\n",
            "0\n",
            "------------------------------\n",
            "0\n"
          ]
        }
      ]
    },
    {
      "cell_type": "markdown",
      "source": [
        "#**Check for missing values**"
      ],
      "metadata": {
        "id": "THunuNviDmwc"
      }
    },
    {
      "cell_type": "code",
      "source": [
        "print(Bollywood_MoviesDetails.isnull().sum())\n",
        "print('----------------------------')\n",
        "print(Bollywood_ActorRanking.isnull().sum())\n",
        "print('------------------------------')\n",
        "print(Bollywood_DirectorRanking.isnull().sum())"
      ],
      "metadata": {
        "colab": {
          "base_uri": "https://localhost:8080/"
        },
        "id": "ubW4ETdiECcM",
        "outputId": "fb11c3de-6ec3-4e94-b7dc-6570158c786b"
      },
      "execution_count": 11,
      "outputs": [
        {
          "output_type": "stream",
          "name": "stdout",
          "text": [
            "imdbId           0\n",
            "title            0\n",
            "releaseYear      0\n",
            "releaseDate     53\n",
            "genre            2\n",
            "writers        119\n",
            "actors           3\n",
            "directors        4\n",
            "sequel           3\n",
            "hitFlop          0\n",
            "dtype: int64\n",
            "----------------------------\n",
            "actorId                   0\n",
            "actorName                 0\n",
            "movieCount                0\n",
            "ratingSum                 0\n",
            "normalizedMovieRank       2\n",
            "googleHits                0\n",
            "normalizedGoogleRank    112\n",
            "normalizedRating          0\n",
            "dtype: int64\n",
            "------------------------------\n",
            "directorId              0\n",
            "directorName            1\n",
            "movieCount              0\n",
            "ratingSum               0\n",
            "normalizedMovieRank     0\n",
            "googleHits              0\n",
            "normalizedGoogleRank    0\n",
            "normalizedRating        0\n",
            "dtype: int64\n"
          ]
        }
      ]
    },
    {
      "cell_type": "code",
      "source": [
        "sns.heatmap(Bollywood_MoviesDetails.isnull(),cmap='viridis')\n"
      ],
      "metadata": {
        "colab": {
          "base_uri": "https://localhost:8080/",
          "height": 339
        },
        "id": "ZKwe_hFlHR_Q",
        "outputId": "0d139ac8-dcce-4a47-af53-0494fae7c9e0"
      },
      "execution_count": 12,
      "outputs": [
        {
          "output_type": "execute_result",
          "data": {
            "text/plain": [
              "<matplotlib.axes._subplots.AxesSubplot at 0x7fe0e1b3fdf0>"
            ]
          },
          "metadata": {},
          "execution_count": 12
        },
        {
          "output_type": "display_data",
          "data": {
            "text/plain": [
              "<Figure size 432x288 with 2 Axes>"
            ],
            "image/png": "[encoded data removed]"
          },
          "metadata": {
            "needs_background": "light"
          }
        }
      ]
    },
    {
      "cell_type": "code",
      "source": [
        "sns.heatmap(Bollywood_ActorRanking.isnull(),cmap='viridis')"
      ],
      "metadata": {
        "colab": {
          "base_uri": "https://localhost:8080/",
          "height": 393
        },
        "id": "8ZOJM7QYIaRk",
        "outputId": "12d34ca0-df93-4b68-e15e-4ff8a89cf814"
      },
      "execution_count": 13,
      "outputs": [
        {
          "output_type": "execute_result",
          "data": {
            "text/plain": [
              "<matplotlib.axes._subplots.AxesSubplot at 0x7fe0df1f8dc0>"
            ]
          },
          "metadata": {},
          "execution_count": 13
        },
        {
          "output_type": "display_data",
          "data": {
            "text/plain": [
              "<Figure size 432x288 with 2 Axes>"
            ],
            "image/png": "[encoded data removed]"
          },
          "metadata": {
            "needs_background": "light"
          }
        }
      ]
    },
    {
      "cell_type": "code",
      "source": [
        "sns.heatmap(Bollywood_DirectorRanking.isnull(),cmap='viridis')"
      ],
      "metadata": {
        "colab": {
          "base_uri": "https://localhost:8080/",
          "height": 393
        },
        "id": "6n1-usLLIgA0",
        "outputId": "1fcaf6a4-fd46-4dca-af02-ccd25af00d04"
      },
      "execution_count": 14,
      "outputs": [
        {
          "output_type": "execute_result",
          "data": {
            "text/plain": [
              "<matplotlib.axes._subplots.AxesSubplot at 0x7fe0df1fe2b0>"
            ]
          },
          "metadata": {},
          "execution_count": 14
        },
        {
          "output_type": "display_data",
          "data": {
            "text/plain": [
              "<Figure size 432x288 with 2 Axes>"
            ],
            "image/png": "[encoded data removed]"
          },
          "metadata": {
            "needs_background": "light"
          }
        }
      ]
    },
    {
      "cell_type": "markdown",
      "source": [
        "#**Clean Data - Drop & Fill missing data**"
      ],
      "metadata": {
        "id": "khBVJMLrDymc"
      }
    },
    {
      "cell_type": "code",
      "source": [
        "Bollywood_MoviesDetails['releaseDate'].fillna(Bollywood_MoviesDetails['releaseDate'],inplace = True)\n",
        "Bollywood_MoviesDetails['directors'].fillna(Bollywood_MoviesDetails['directors'],inplace = True)\n",
        "Bollywood_MoviesDetails['writers'].fillna('not mention',inplace = True)\n",
        "Bollywood_MoviesDetails.dropna(inplace = True)\n"
      ],
      "metadata": {
        "id": "mbmJg9Gvq3xM"
      },
      "execution_count": 15,
      "outputs": []
    },
    {
      "cell_type": "code",
      "source": [
        "sns.heatmap(Bollywood_MoviesDetails.isnull(),cmap='viridis')"
      ],
      "metadata": {
        "id": "UhCk3C6pROfH",
        "colab": {
          "base_uri": "https://localhost:8080/",
          "height": 339
        },
        "outputId": "0bad9166-1d8b-42ec-8efe-ce4d0c6ba4e8"
      },
      "execution_count": 16,
      "outputs": [
        {
          "output_type": "execute_result",
          "data": {
            "text/plain": [
              "<matplotlib.axes._subplots.AxesSubplot at 0x7fe0e2655130>"
            ]
          },
          "metadata": {},
          "execution_count": 16
        },
        {
          "output_type": "display_data",
          "data": {
            "text/plain": [
              "<Figure size 432x288 with 2 Axes>"
            ],
            "image/png": "[encoded data removed]"
          },
          "metadata": {
            "needs_background": "light"
          }
        }
      ]
    },
    {
      "cell_type": "code",
      "source": [
        "Bollywood_ActorRanking['normalizedMovieRank'].fillna('not mention',inplace = True)\n",
        "Bollywood_ActorRanking.dropna(inplace = True)"
      ],
      "metadata": {
        "id": "XRZMPFWQTdzv"
      },
      "execution_count": 17,
      "outputs": []
    },
    {
      "cell_type": "code",
      "source": [
        "sns.heatmap(Bollywood_ActorRanking.isnull(),cmap='viridis')"
      ],
      "metadata": {
        "id": "posLC3IHT7EP",
        "colab": {
          "base_uri": "https://localhost:8080/",
          "height": 393
        },
        "outputId": "431b2784-816d-4101-b3cc-1de855e3f38a"
      },
      "execution_count": 18,
      "outputs": [
        {
          "output_type": "execute_result",
          "data": {
            "text/plain": [
              "<matplotlib.axes._subplots.AxesSubplot at 0x7fe0e2655910>"
            ]
          },
          "metadata": {},
          "execution_count": 18
        },
        {
          "output_type": "display_data",
          "data": {
            "text/plain": [
              "<Figure size 432x288 with 2 Axes>"
            ],
            "image/png": "[encoded data removed]"
          },
          "metadata": {
            "needs_background": "light"
          }
        }
      ]
    },
    {
      "cell_type": "code",
      "source": [
        "Bollywood_DirectorRanking.dropna(inplace = True)"
      ],
      "metadata": {
        "id": "4yicZtO9T7Ot"
      },
      "execution_count": 19,
      "outputs": []
    },
    {
      "cell_type": "code",
      "source": [
        "sns.heatmap(Bollywood_DirectorRanking.isnull(),cmap='viridis')"
      ],
      "metadata": {
        "id": "Z-SVMAwIT7a0",
        "colab": {
          "base_uri": "https://localhost:8080/",
          "height": 393
        },
        "outputId": "22f7fd11-97fc-4f9c-ce2b-86fa2e7e0ddd"
      },
      "execution_count": 20,
      "outputs": [
        {
          "output_type": "execute_result",
          "data": {
            "text/plain": [
              "<matplotlib.axes._subplots.AxesSubplot at 0x7fe0deb5f460>"
            ]
          },
          "metadata": {},
          "execution_count": 20
        },
        {
          "output_type": "display_data",
          "data": {
            "text/plain": [
              "<Figure size 432x288 with 2 Axes>"
            ],
            "image/png": "[encoded data removed]"
          },
          "metadata": {
            "needs_background": "light"
          }
        }
      ]
    },
    {
      "cell_type": "markdown",
      "source": [
        "#**Check Corelation between columns**"
      ],
      "metadata": {
        "id": "RNqTmXvdEErG"
      }
    },
    {
      "cell_type": "code",
      "source": [
        "Bollywood_MoviesDetails.columns"
      ],
      "metadata": {
        "id": "SQKCE2PAUZ2v",
        "colab": {
          "base_uri": "https://localhost:8080/"
        },
        "outputId": "a79b70a6-73a1-4aab-b3c4-039ca8a4bd70"
      },
      "execution_count": 21,
      "outputs": [
        {
          "output_type": "execute_result",
          "data": {
            "text/plain": [
              "Index(['imdbId', 'title', 'releaseYear', 'releaseDate', 'genre', 'writers',\n",
              "       'actors', 'directors', 'sequel', 'hitFlop'],\n",
              "      dtype='object')"
            ]
          },
          "metadata": {},
          "execution_count": 21
        }
      ]
    },
    {
      "cell_type": "code",
      "source": [
        "cols=['imdbId', 'title', 'releaseYear', 'releaseDate', 'genre', 'writers',\n",
        "       'actors', 'directors', 'sequel', 'hitFlop']\n",
        "\n",
        "sns.heatmap(Bollywood_MoviesDetails[cols].corr(),annot=True,cmap='RdYlGn',linewidths=0.2)\n",
        "plt.show()"
      ],
      "metadata": {
        "id": "WkavUotzUZ58",
        "colab": {
          "base_uri": "https://localhost:8080/",
          "height": 269
        },
        "outputId": "6fac52be-6f8e-406f-d556-a17330aff3c0"
      },
      "execution_count": 25,
      "outputs": [
        {
          "output_type": "display_data",
          "data": {
            "text/plain": [
              "<Figure size 432x288 with 2 Axes>"
            ],
            "image/png": "[encoded data removed]"
          },
          "metadata": {
            "needs_background": "light"
          }
        }
      ]
    },
    {
      "cell_type": "code",
      "source": [
        "Bollywood_ActorRanking.columns"
      ],
      "metadata": {
        "id": "cIOZ_o13VVRv",
        "colab": {
          "base_uri": "https://localhost:8080/"
        },
        "outputId": "ac9eb0d1-2ddb-46b9-cb0a-f48b7f8a568f"
      },
      "execution_count": 26,
      "outputs": [
        {
          "output_type": "execute_result",
          "data": {
            "text/plain": [
              "Index(['actorId', 'actorName', 'movieCount', 'ratingSum',\n",
              "       'normalizedMovieRank', 'googleHits', 'normalizedGoogleRank',\n",
              "       'normalizedRating'],\n",
              "      dtype='object')"
            ]
          },
          "metadata": {},
          "execution_count": 26
        }
      ]
    },
    {
      "cell_type": "code",
      "source": [
        "cols=['actorId', 'actorName', 'movieCount', 'ratingSum',\n",
        "       'normalizedMovieRank', 'googleHits', 'normalizedGoogleRank',\n",
        "       'normalizedRating']\n",
        "\n",
        "sns.heatmap(Bollywood_ActorRanking[cols].corr(),annot=True,cmap='RdYlGn',linewidths=0.2)\n",
        "plt.show()"
      ],
      "metadata": {
        "id": "pM5bxNqCVVdN",
        "colab": {
          "base_uri": "https://localhost:8080/",
          "height": 375
        },
        "outputId": "e33804a0-abc6-41c5-a7c8-731b0d5dbaa4"
      },
      "execution_count": 27,
      "outputs": [
        {
          "output_type": "display_data",
          "data": {
            "text/plain": [
              "<Figure size 432x288 with 2 Axes>"
            ],
            "image/png": "[encoded data removed]"
          },
          "metadata": {
            "needs_background": "light"
          }
        }
      ]
    },
    {
      "cell_type": "code",
      "source": [
        "Bollywood_DirectorRanking.columns"
      ],
      "metadata": {
        "colab": {
          "base_uri": "https://localhost:8080/"
        },
        "id": "Fv4P-704VVne",
        "outputId": "7d0d704d-958f-4b9a-e08b-12dfd045f867"
      },
      "execution_count": 28,
      "outputs": [
        {
          "output_type": "execute_result",
          "data": {
            "text/plain": [
              "Index(['directorId', 'directorName', 'movieCount', 'ratingSum',\n",
              "       'normalizedMovieRank', 'googleHits', 'normalizedGoogleRank',\n",
              "       'normalizedRating'],\n",
              "      dtype='object')"
            ]
          },
          "metadata": {},
          "execution_count": 28
        }
      ]
    },
    {
      "cell_type": "code",
      "source": [
        "cols=['directorId', 'directorName', 'movieCount', 'ratingSum',\n",
        "       'normalizedMovieRank', 'googleHits', 'normalizedGoogleRank',\n",
        "       'normalizedRating']\n",
        "\n",
        "sns.heatmap(Bollywood_DirectorRanking[cols].corr(),annot=True,cmap='RdYlGn',linewidths=0.2)\n",
        "plt.show()"
      ],
      "metadata": {
        "id": "E9rAEYiTUZ_U",
        "colab": {
          "base_uri": "https://localhost:8080/",
          "height": 375
        },
        "outputId": "8e03f0ca-2676-41de-ee7a-7dd6920396ae"
      },
      "execution_count": 29,
      "outputs": [
        {
          "output_type": "display_data",
          "data": {
            "text/plain": [
              "<Figure size 432x288 with 2 Axes>"
            ],
            "image/png": "[encoded data removed]"
          },
          "metadata": {
            "needs_background": "light"
          }
        }
      ]
    },
    {
      "cell_type": "markdown",
      "source": [
        "#**Exploratory Data Analysis (EDA)**"
      ],
      "metadata": {
        "id": "-ecKmVz4EgbQ"
      }
    },
    {
      "cell_type": "markdown",
      "source": [
        "#**TOP 5 MOVIES**"
      ],
      "metadata": {
        "id": "kzOPPUKCZ-pT"
      }
    },
    {
      "cell_type": "code",
      "source": [
        "sns.countplot(data = Bollywood_MoviesDetails,x = 'title',order=Bollywood_MoviesDetails['title'].value_counts().index[0:5])\n",
        "plt.xlabel('titles',fontsize = 10,fontweight = 'bold')\n",
        "plt.ylabel('Count of Total Movies', fontsize = 10,fontweight = 'bold')\n",
        "plt.title('Top 5 Movies titles', fontsize = 15,fontweight = 'bold')\n",
        "plt.xticks(rotation = 90, fontsize = 10)"
      ],
      "metadata": {
        "id": "1cPkzkSpW5o-",
        "colab": {
          "base_uri": "https://localhost:8080/",
          "height": 436
        },
        "outputId": "0ce393ab-1dc3-49dc-bfe3-1dccc16e34fe"
      },
      "execution_count": 30,
      "outputs": [
        {
          "output_type": "execute_result",
          "data": {
            "text/plain": [
              "(array([0, 1, 2, 3, 4]), <a list of 5 Text major ticklabel objects>)"
            ]
          },
          "metadata": {},
          "execution_count": 30
        },
        {
          "output_type": "display_data",
          "data": {
            "text/plain": [
              "<Figure size 432x288 with 1 Axes>"
            ],
            "image/png": "[encoded data removed]"
          },
          "metadata": {
            "needs_background": "light"
          }
        }
      ]
    },
    {
      "cell_type": "markdown",
      "source": [
        "#**TOP 5 GENRE**"
      ],
      "metadata": {
        "id": "yjE2XQBPuxY3"
      }
    },
    {
      "cell_type": "code",
      "source": [
        "sns.countplot(data = Bollywood_MoviesDetails,x = 'genre',order=Bollywood_MoviesDetails['genre'].value_counts().index[0:5])\n",
        "plt.xlabel('Genre',fontsize = 10,fontweight = 'bold')\n",
        "plt.ylabel('Count of Total Movies', fontsize = 10,fontweight = 'bold')\n",
        "plt.title('Top 5 Movies Genre', fontsize = 15,fontweight = 'bold')\n",
        "plt.xticks(rotation = 90, fontsize = 10)"
      ],
      "metadata": {
        "colab": {
          "base_uri": "https://localhost:8080/",
          "height": 445
        },
        "id": "ox7DUSBnuhw9",
        "outputId": "9fcab2ea-16fa-4aa1-ddb5-9460710afcf9"
      },
      "execution_count": 31,
      "outputs": [
        {
          "output_type": "execute_result",
          "data": {
            "text/plain": [
              "(array([0, 1, 2, 3, 4]), <a list of 5 Text major ticklabel objects>)"
            ]
          },
          "metadata": {},
          "execution_count": 31
        },
        {
          "output_type": "display_data",
          "data": {
            "text/plain": [
              "<Figure size 432x288 with 1 Axes>"
            ],
            "image/png": "[encoded data removed]"
          },
          "metadata": {
            "needs_background": "light"
          }
        }
      ]
    },
    {
      "cell_type": "markdown",
      "source": [
        "#**TOP 5 MOVIES RELEASE YEAR**"
      ],
      "metadata": {
        "id": "igs9IEEEb-lC"
      }
    },
    {
      "cell_type": "code",
      "source": [
        "sns.countplot(data = Bollywood_MoviesDetails,x = 'releaseYear',order=Bollywood_MoviesDetails['releaseYear'].value_counts().index[0:5])\n",
        "plt.xlabel('releaseYear',fontsize = 10,fontweight = 'bold')\n",
        "plt.ylabel('Count of Total Movies', fontsize = 10,fontweight = 'bold')\n",
        "plt.title('Top 5 Movies releaseYear', fontsize = 15,fontweight = 'bold')\n",
        "plt.xticks(rotation = 90, fontsize = 10)"
      ],
      "metadata": {
        "colab": {
          "base_uri": "https://localhost:8080/",
          "height": 331
        },
        "id": "_Cho02C4bpFt",
        "outputId": "267d0f0e-1259-4631-8401-34db8402c0fb"
      },
      "execution_count": 32,
      "outputs": [
        {
          "output_type": "execute_result",
          "data": {
            "text/plain": [
              "(array([0, 1, 2, 3, 4]), <a list of 5 Text major ticklabel objects>)"
            ]
          },
          "metadata": {},
          "execution_count": 32
        },
        {
          "output_type": "display_data",
          "data": {
            "text/plain": [
              "<Figure size 432x288 with 1 Axes>"
            ],
            "image/png": "[encoded data removed]"
          },
          "metadata": {
            "needs_background": "light"
          }
        }
      ]
    },
    {
      "cell_type": "markdown",
      "source": [
        "#**TOP 5 ACTORS**"
      ],
      "metadata": {
        "id": "_2x4aPYcdwZO"
      }
    },
    {
      "cell_type": "code",
      "source": [
        "sns.countplot(data = Bollywood_ActorRanking,x = 'actorName',order=Bollywood_ActorRanking['actorName'].value_counts().index[0:5])\n",
        "plt.xlabel('Actor Names',fontsize = 10,fontweight = 'bold')\n",
        "plt.ylabel('Count of Total Movies', fontsize = 10,fontweight = 'bold')\n",
        "plt.title('Top 5 Actors', fontsize = 15,fontweight = 'bold')\n",
        "plt.xticks(rotation = 90, fontsize = 10)"
      ],
      "metadata": {
        "id": "90YQd1SWbpJU",
        "colab": {
          "base_uri": "https://localhost:8080/",
          "height": 381
        },
        "outputId": "66590c35-eaf8-4b67-c4fb-bb0ffbbe1adf"
      },
      "execution_count": 33,
      "outputs": [
        {
          "output_type": "execute_result",
          "data": {
            "text/plain": [
              "(array([0, 1, 2, 3, 4]), <a list of 5 Text major ticklabel objects>)"
            ]
          },
          "metadata": {},
          "execution_count": 33
        },
        {
          "output_type": "display_data",
          "data": {
            "text/plain": [
              "<Figure size 432x288 with 1 Axes>"
            ],
            "image/png": "[encoded data removed]"
          },
          "metadata": {
            "needs_background": "light"
          }
        }
      ]
    },
    {
      "cell_type": "markdown",
      "source": [
        "#**TOP 5 DIRECTORS**"
      ],
      "metadata": {
        "id": "HKuHvk9-eo7-"
      }
    },
    {
      "cell_type": "code",
      "source": [
        "sns.countplot(data = Bollywood_DirectorRanking,x = 'directorName',order=Bollywood_DirectorRanking['directorName'].value_counts().index[0:5])\n",
        "plt.xlabel('Directors Name',fontsize = 10,fontweight = 'bold')\n",
        "plt.ylabel('Count of Total Movies', fontsize = 10,fontweight = 'bold')\n",
        "plt.title('Top 5 Directors', fontsize = 15,fontweight = 'bold')\n",
        "plt.xticks(rotation = 90, fontsize = 10)"
      ],
      "metadata": {
        "id": "jd2Y-zFwbpOH",
        "colab": {
          "base_uri": "https://localhost:8080/",
          "height": 397
        },
        "outputId": "8e37e194-f867-49b0-da71-7b6f9906ae68"
      },
      "execution_count": 34,
      "outputs": [
        {
          "output_type": "execute_result",
          "data": {
            "text/plain": [
              "(array([0, 1, 2, 3, 4]), <a list of 5 Text major ticklabel objects>)"
            ]
          },
          "metadata": {},
          "execution_count": 34
        },
        {
          "output_type": "display_data",
          "data": {
            "text/plain": [
              "<Figure size 432x288 with 1 Axes>"
            ],
            "image/png": "[encoded data removed]"
          },
          "metadata": {
            "needs_background": "light"
          }
        }
      ]
    },
    {
      "cell_type": "markdown",
      "source": [
        "#**Top 15 actor with most no of movies**"
      ],
      "metadata": {
        "id": "WKXlLmzSx1vK"
      }
    },
    {
      "cell_type": "code",
      "source": [
        "totalmovies = Bollywood_ActorRanking[['actorName','movieCount']].sort_values(by = 'movieCount',ascending = False)[0:25]\n",
        "totalmovies"
      ],
      "metadata": {
        "id": "a_dTUXC2gASx",
        "colab": {
          "base_uri": "https://localhost:8080/",
          "height": 833
        },
        "outputId": "b28d3a79-3801-4232-d8f7-7d9c14ac9245"
      },
      "execution_count": 35,
      "outputs": [
        {
          "output_type": "execute_result",
          "data": {
            "text/plain": [
              "              actorName  movieCount\n",
              "18         Akshay Kumar          54\n",
              "14           Ajay Devgn          49\n",
              "11     Amitabh Bachchan          48\n",
              "36          Sanjay Dutt          43\n",
              "83         Sunil Shetty          42\n",
              "7        Kareena Kapoor          37\n",
              "2           Salman Khan          36\n",
              "6       Priyanka Chopra          36\n",
              "77          Anupam Kher          36\n",
              "31    Abhishek Bachchan          34\n",
              "42         Bipasha Basu          34\n",
              "178      Gulshan Grover          33\n",
              "52              Om Puri          32\n",
              "63         Paresh Rawal          30\n",
              "10         John Abraham          27\n",
              "59         Rani Mukerji          27\n",
              "25        Saif Ali Khan          26\n",
              "41        Emraan Hashmi          26\n",
              "137       Jackie Shroff          25\n",
              "79           Sunny Deol          25\n",
              "155          Bobby Deol          24\n",
              "62         Arjun Rampal          24\n",
              "24        Shahid Kapoor          23\n",
              "154  Mithun Chakraborty          23\n",
              "1        Shah Rukh Khan          23"
            ],
            "text/html": [
              "\n",
              "  <div id=\"df-f7d4cf73-6542-43b5-ac19-b5e8657835fa\">\n",
              "    <div class=\"colab-df-container\">\n",
              "      <div>\n",
              "<style scoped>\n",
              "    .dataframe tbody tr th:only-of-type {\n",
              "        vertical-align: middle;\n",
              "    }\n",
              "\n",
              "    .dataframe tbody tr th {\n",
              "        vertical-align: top;\n",
              "    }\n",
              "\n",
              "    .dataframe thead th {\n",
              "        text-align: right;\n",
              "    }\n",
              "</style>\n",
              "<table border=\"1\" class=\"dataframe\">\n",
              "  <thead>\n",
              "    <tr style=\"text-align: right;\">\n",
              "      <th></th>\n",
              "      <th>actorName</th>\n",
              "      <th>movieCount</th>\n",
              "    </tr>\n",
              "  </thead>\n",
              "  <tbody>\n",
              "    <tr>\n",
              "      <th>18</th>\n",
              "      <td>Akshay Kumar</td>\n",
              "      <td>54</td>\n",
              "    </tr>\n",
              "    <tr>\n",
              "      <th>14</th>\n",
              "      <td>Ajay Devgn</td>\n",
              "      <td>49</td>\n",
              "    </tr>\n",
              "    <tr>\n",
              "      <th>11</th>\n",
              "      <td>Amitabh Bachchan</td>\n",
              "      <td>48</td>\n",
              "    </tr>\n",
              "    <tr>\n",
              "      <th>36</th>\n",
              "      <td>Sanjay Dutt</td>\n",
              "      <td>43</td>\n",
              "    </tr>\n",
              "    <tr>\n",
              "      <th>83</th>\n",
              "      <td>Sunil Shetty</td>\n",
              "      <td>42</td>\n",
              "    </tr>\n",
              "    <tr>\n",
              "      <th>7</th>\n",
              "      <td>Kareena Kapoor</td>\n",
              "      <td>37</td>\n",
              "    </tr>\n",
              "    <tr>\n",
              "      <th>2</th>\n",
              "      <td>Salman Khan</td>\n",
              "      <td>36</td>\n",
              "    </tr>\n",
              "    <tr>\n",
              "      <th>6</th>\n",
              "      <td>Priyanka Chopra</td>\n",
              "      <td>36</td>\n",
              "    </tr>\n",
              "    <tr>\n",
              "      <th>77</th>\n",
              "      <td>Anupam Kher</td>\n",
              "      <td>36</td>\n",
              "    </tr>\n",
              "    <tr>\n",
              "      <th>31</th>\n",
              "      <td>Abhishek Bachchan</td>\n",
              "      <td>34</td>\n",
              "    </tr>\n",
              "    <tr>\n",
              "      <th>42</th>\n",
              "      <td>Bipasha Basu</td>\n",
              "      <td>34</td>\n",
              "    </tr>\n",
              "    <tr>\n",
              "      <th>178</th>\n",
              "      <td>Gulshan Grover</td>\n",
              "      <td>33</td>\n",
              "    </tr>\n",
              "    <tr>\n",
              "      <th>52</th>\n",
              "      <td>Om Puri</td>\n",
              "      <td>32</td>\n",
              "    </tr>\n",
              "    <tr>\n",
              "      <th>63</th>\n",
              "      <td>Paresh Rawal</td>\n",
              "      <td>30</td>\n",
              "    </tr>\n",
              "    <tr>\n",
              "      <th>10</th>\n",
              "      <td>John Abraham</td>\n",
              "      <td>27</td>\n",
              "    </tr>\n",
              "    <tr>\n",
              "      <th>59</th>\n",
              "      <td>Rani Mukerji</td>\n",
              "      <td>27</td>\n",
              "    </tr>\n",
              "    <tr>\n",
              "      <th>25</th>\n",
              "      <td>Saif Ali Khan</td>\n",
              "      <td>26</td>\n",
              "    </tr>\n",
              "    <tr>\n",
              "      <th>41</th>\n",
              "      <td>Emraan Hashmi</td>\n",
              "      <td>26</td>\n",
              "    </tr>\n",
              "    <tr>\n",
              "      <th>137</th>\n",
              "      <td>Jackie Shroff</td>\n",
              "      <td>25</td>\n",
              "    </tr>\n",
              "    <tr>\n",
              "      <th>79</th>\n",
              "      <td>Sunny Deol</td>\n",
              "      <td>25</td>\n",
              "    </tr>\n",
              "    <tr>\n",
              "      <th>155</th>\n",
              "      <td>Bobby Deol</td>\n",
              "      <td>24</td>\n",
              "    </tr>\n",
              "    <tr>\n",
              "      <th>62</th>\n",
              "      <td>Arjun Rampal</td>\n",
              "      <td>24</td>\n",
              "    </tr>\n",
              "    <tr>\n",
              "      <th>24</th>\n",
              "      <td>Shahid Kapoor</td>\n",
              "      <td>23</td>\n",
              "    </tr>\n",
              "    <tr>\n",
              "      <th>154</th>\n",
              "      <td>Mithun Chakraborty</td>\n",
              "      <td>23</td>\n",
              "    </tr>\n",
              "    <tr>\n",
              "      <th>1</th>\n",
              "      <td>Shah Rukh Khan</td>\n",
              "      <td>23</td>\n",
              "    </tr>\n",
              "  </tbody>\n",
              "</table>\n",
              "</div>\n",
              "      <button class=\"colab-df-convert\" onclick=\"convertToInteractive('df-f7d4cf73-6542-43b5-ac19-b5e8657835fa')\"\n",
              "              title=\"Convert this dataframe to an interactive table.\"\n",
              "              style=\"display:none;\">\n",
              "        \n",
              "  <svg xmlns=\"http://www.w3.org/2000/svg\" height=\"24px\"viewBox=\"0 0 24 24\"\n",
              "       width=\"24px\">\n",
              "    <path d=\"M0 0h24v24H0V0z\" fill=\"none\"/>\n",
              "    <path d=\"M18.56 5.44l.94 2.06.94-2.06 2.06-.94-2.06-.94-.94-2.06-.94 2.06-2.06.94zm-11 1L8.5 8.5l.94-2.06 2.06-.94-2.06-.94L8.5 2.5l-.94 2.06-2.06.94zm10 10l.94 2.06.94-2.06 2.06-.94-2.06-.94-.94-2.06-.94 2.06-2.06.94z\"/><path d=\"M17.41 7.96l-1.37-1.37c-.4-.4-.92-.59-1.43-.59-.52 0-1.04.2-1.43.59L10.3 9.45l-7.72 7.72c-.78.78-.78 2.05 0 2.83L4 21.41c.39.39.9.59 1.41.59.51 0 1.02-.2 1.41-.59l7.78-7.78 2.81-2.81c.8-.78.8-2.07 0-2.86zM5.41 20L4 18.59l7.72-7.72 1.47 1.35L5.41 20z\"/>\n",
              "  </svg>\n",
              "      </button>\n",
              "      \n",
              "  <style>\n",
              "    .colab-df-container {\n",
              "      display:flex;\n",
              "      flex-wrap:wrap;\n",
              "      gap: 12px;\n",
              "    }\n",
              "\n",
              "    .colab-df-convert {\n",
              "      background-color: #E8F0FE;\n",
              "      border: none;\n",
              "      border-radius: 50%;\n",
              "      cursor: pointer;\n",
              "      display: none;\n",
              "      fill: #1967D2;\n",
              "      height: 32px;\n",
              "      padding: 0 0 0 0;\n",
              "      width: 32px;\n",
              "    }\n",
              "\n",
              "    .colab-df-convert:hover {\n",
              "      background-color: #E2EBFA;\n",
              "      box-shadow: 0px 1px 2px rgba(60, 64, 67, 0.3), 0px 1px 3px 1px rgba(60, 64, 67, 0.15);\n",
              "      fill: #174EA6;\n",
              "    }\n",
              "\n",
              "    [theme=dark] .colab-df-convert {\n",
              "      background-color: #3B4455;\n",
              "      fill: #D2E3FC;\n",
              "    }\n",
              "\n",
              "    [theme=dark] .colab-df-convert:hover {\n",
              "      background-color: #434B5C;\n",
              "      box-shadow: 0px 1px 3px 1px rgba(0, 0, 0, 0.15);\n",
              "      filter: drop-shadow(0px 1px 2px rgba(0, 0, 0, 0.3));\n",
              "      fill: #FFFFFF;\n",
              "    }\n",
              "  </style>\n",
              "\n",
              "      <script>\n",
              "        const buttonEl =\n",
              "          document.querySelector('#df-f7d4cf73-6542-43b5-ac19-b5e8657835fa button.colab-df-convert');\n",
              "        buttonEl.style.display =\n",
              "          google.colab.kernel.accessAllowed ? 'block' : 'none';\n",
              "\n",
              "        async function convertToInteractive(key) {\n",
              "          const element = document.querySelector('#df-f7d4cf73-6542-43b5-ac19-b5e8657835fa');\n",
              "          const dataTable =\n",
              "            await google.colab.kernel.invokeFunction('convertToInteractive',\n",
              "                                                     [key], {});\n",
              "          if (!dataTable) return;\n",
              "\n",
              "          const docLinkHtml = 'Like what you see? Visit the ' +\n",
              "            '<a target=\"_blank\" href=https://colab.research.google.com/notebooks/data_table.ipynb>data table notebook</a>'\n",
              "            + ' to learn more about interactive tables.';\n",
              "          element.innerHTML = '';\n",
              "          dataTable['output_type'] = 'display_data';\n",
              "          await google.colab.output.renderOutput(dataTable, element);\n",
              "          const docLink = document.createElement('div');\n",
              "          docLink.innerHTML = docLinkHtml;\n",
              "          element.appendChild(docLink);\n",
              "        }\n",
              "      </script>\n",
              "    </div>\n",
              "  </div>\n",
              "  "
            ]
          },
          "metadata": {},
          "execution_count": 35
        }
      ]
    },
    {
      "cell_type": "code",
      "source": [
        "sns.barplot(data = totalmovies,x = 'movieCount',y = 'actorName')\n",
        "\n",
        "\n",
        "plt.xlabel('Total Movies', fontsize = 15,fontweight = 'bold')\n",
        "plt.ylabel('Actor Name', fontsize = 15,fontweight = 'bold')\n",
        "plt.title('Top 15 actor with most no of movies', fontsize = 15,fontweight = 'bold')\n"
      ],
      "metadata": {
        "colab": {
          "base_uri": "https://localhost:8080/",
          "height": 320
        },
        "id": "m72piCL9gAb6",
        "outputId": "65abd252-4ad5-4f6d-f01a-2f40acd23b53"
      },
      "execution_count": 36,
      "outputs": [
        {
          "output_type": "execute_result",
          "data": {
            "text/plain": [
              "Text(0.5, 1.0, 'Top 15 actor with most no of movies')"
            ]
          },
          "metadata": {},
          "execution_count": 36
        },
        {
          "output_type": "display_data",
          "data": {
            "text/plain": [
              "<Figure size 432x288 with 1 Axes>"
            ],
            "image/png": "[encoded data removed]"
          },
          "metadata": {
            "needs_background": "light"
          }
        }
      ]
    },
    {
      "cell_type": "markdown",
      "source": [
        "#**TOP 10 Actors with High Ratings**"
      ],
      "metadata": {
        "id": "tNcmcqnKyhJ9"
      }
    },
    {
      "cell_type": "code",
      "source": [
        "moviesrank = Bollywood_ActorRanking[['actorName','normalizedRating']].sort_values(by = 'normalizedRating',ascending = False)[0:10]\n",
        "\n",
        "moviesrank"
      ],
      "metadata": {
        "id": "QDsmedGagAfQ",
        "colab": {
          "base_uri": "https://localhost:8080/",
          "height": 363
        },
        "outputId": "14c8cec3-cd72-4786-d22f-6d2db355a007"
      },
      "execution_count": 37,
      "outputs": [
        {
          "output_type": "execute_result",
          "data": {
            "text/plain": [
              "          actorName  normalizedRating\n",
              "0        Aamir Khan          10.00000\n",
              "1    Shah Rukh Khan           9.22674\n",
              "2       Salman Khan           9.20821\n",
              "3      Katrina Kaif           8.94852\n",
              "4  Deepika Padukone           8.62716\n",
              "5    Hrithik Roshan           8.25194\n",
              "6   Priyanka Chopra           8.13686\n",
              "7    Kareena Kapoor           8.09065\n",
              "8     Ranbir Kapoor           7.69864\n",
              "9             Kajol           7.25156"
            ],
            "text/html": [
              "\n",
              "  <div id=\"df-e4feb1d6-07b3-4532-bfd0-00d7ea661b62\">\n",
              "    <div class=\"colab-df-container\">\n",
              "      <div>\n",
              "<style scoped>\n",
              "    .dataframe tbody tr th:only-of-type {\n",
              "        vertical-align: middle;\n",
              "    }\n",
              "\n",
              "    .dataframe tbody tr th {\n",
              "        vertical-align: top;\n",
              "    }\n",
              "\n",
              "    .dataframe thead th {\n",
              "        text-align: right;\n",
              "    }\n",
              "</style>\n",
              "<table border=\"1\" class=\"dataframe\">\n",
              "  <thead>\n",
              "    <tr style=\"text-align: right;\">\n",
              "      <th></th>\n",
              "      <th>actorName</th>\n",
              "      <th>normalizedRating</th>\n",
              "    </tr>\n",
              "  </thead>\n",
              "  <tbody>\n",
              "    <tr>\n",
              "      <th>0</th>\n",
              "      <td>Aamir Khan</td>\n",
              "      <td>10.00000</td>\n",
              "    </tr>\n",
              "    <tr>\n",
              "      <th>1</th>\n",
              "      <td>Shah Rukh Khan</td>\n",
              "      <td>9.22674</td>\n",
              "    </tr>\n",
              "    <tr>\n",
              "      <th>2</th>\n",
              "      <td>Salman Khan</td>\n",
              "      <td>9.20821</td>\n",
              "    </tr>\n",
              "    <tr>\n",
              "      <th>3</th>\n",
              "      <td>Katrina Kaif</td>\n",
              "      <td>8.94852</td>\n",
              "    </tr>\n",
              "    <tr>\n",
              "      <th>4</th>\n",
              "      <td>Deepika Padukone</td>\n",
              "      <td>8.62716</td>\n",
              "    </tr>\n",
              "    <tr>\n",
              "      <th>5</th>\n",
              "      <td>Hrithik Roshan</td>\n",
              "      <td>8.25194</td>\n",
              "    </tr>\n",
              "    <tr>\n",
              "      <th>6</th>\n",
              "      <td>Priyanka Chopra</td>\n",
              "      <td>8.13686</td>\n",
              "    </tr>\n",
              "    <tr>\n",
              "      <th>7</th>\n",
              "      <td>Kareena Kapoor</td>\n",
              "      <td>8.09065</td>\n",
              "    </tr>\n",
              "    <tr>\n",
              "      <th>8</th>\n",
              "      <td>Ranbir Kapoor</td>\n",
              "      <td>7.69864</td>\n",
              "    </tr>\n",
              "    <tr>\n",
              "      <th>9</th>\n",
              "      <td>Kajol</td>\n",
              "      <td>7.25156</td>\n",
              "    </tr>\n",
              "  </tbody>\n",
              "</table>\n",
              "</div>\n",
              "      <button class=\"colab-df-convert\" onclick=\"convertToInteractive('df-e4feb1d6-07b3-4532-bfd0-00d7ea661b62')\"\n",
              "              title=\"Convert this dataframe to an interactive table.\"\n",
              "              style=\"display:none;\">\n",
              "        \n",
              "  <svg xmlns=\"http://www.w3.org/2000/svg\" height=\"24px\"viewBox=\"0 0 24 24\"\n",
              "       width=\"24px\">\n",
              "    <path d=\"M0 0h24v24H0V0z\" fill=\"none\"/>\n",
              "    <path d=\"M18.56 5.44l.94 2.06.94-2.06 2.06-.94-2.06-.94-.94-2.06-.94 2.06-2.06.94zm-11 1L8.5 8.5l.94-2.06 2.06-.94-2.06-.94L8.5 2.5l-.94 2.06-2.06.94zm10 10l.94 2.06.94-2.06 2.06-.94-2.06-.94-.94-2.06-.94 2.06-2.06.94z\"/><path d=\"M17.41 7.96l-1.37-1.37c-.4-.4-.92-.59-1.43-.59-.52 0-1.04.2-1.43.59L10.3 9.45l-7.72 7.72c-.78.78-.78 2.05 0 2.83L4 21.41c.39.39.9.59 1.41.59.51 0 1.02-.2 1.41-.59l7.78-7.78 2.81-2.81c.8-.78.8-2.07 0-2.86zM5.41 20L4 18.59l7.72-7.72 1.47 1.35L5.41 20z\"/>\n",
              "  </svg>\n",
              "      </button>\n",
              "      \n",
              "  <style>\n",
              "    .colab-df-container {\n",
              "      display:flex;\n",
              "      flex-wrap:wrap;\n",
              "      gap: 12px;\n",
              "    }\n",
              "\n",
              "    .colab-df-convert {\n",
              "      background-color: #E8F0FE;\n",
              "      border: none;\n",
              "      border-radius: 50%;\n",
              "      cursor: pointer;\n",
              "      display: none;\n",
              "      fill: #1967D2;\n",
              "      height: 32px;\n",
              "      padding: 0 0 0 0;\n",
              "      width: 32px;\n",
              "    }\n",
              "\n",
              "    .colab-df-convert:hover {\n",
              "      background-color: #E2EBFA;\n",
              "      box-shadow: 0px 1px 2px rgba(60, 64, 67, 0.3), 0px 1px 3px 1px rgba(60, 64, 67, 0.15);\n",
              "      fill: #174EA6;\n",
              "    }\n",
              "\n",
              "    [theme=dark] .colab-df-convert {\n",
              "      background-color: #3B4455;\n",
              "      fill: #D2E3FC;\n",
              "    }\n",
              "\n",
              "    [theme=dark] .colab-df-convert:hover {\n",
              "      background-color: #434B5C;\n",
              "      box-shadow: 0px 1px 3px 1px rgba(0, 0, 0, 0.15);\n",
              "      filter: drop-shadow(0px 1px 2px rgba(0, 0, 0, 0.3));\n",
              "      fill: #FFFFFF;\n",
              "    }\n",
              "  </style>\n",
              "\n",
              "      <script>\n",
              "        const buttonEl =\n",
              "          document.querySelector('#df-e4feb1d6-07b3-4532-bfd0-00d7ea661b62 button.colab-df-convert');\n",
              "        buttonEl.style.display =\n",
              "          google.colab.kernel.accessAllowed ? 'block' : 'none';\n",
              "\n",
              "        async function convertToInteractive(key) {\n",
              "          const element = document.querySelector('#df-e4feb1d6-07b3-4532-bfd0-00d7ea661b62');\n",
              "          const dataTable =\n",
              "            await google.colab.kernel.invokeFunction('convertToInteractive',\n",
              "                                                     [key], {});\n",
              "          if (!dataTable) return;\n",
              "\n",
              "          const docLinkHtml = 'Like what you see? Visit the ' +\n",
              "            '<a target=\"_blank\" href=https://colab.research.google.com/notebooks/data_table.ipynb>data table notebook</a>'\n",
              "            + ' to learn more about interactive tables.';\n",
              "          element.innerHTML = '';\n",
              "          dataTable['output_type'] = 'display_data';\n",
              "          await google.colab.output.renderOutput(dataTable, element);\n",
              "          const docLink = document.createElement('div');\n",
              "          docLink.innerHTML = docLinkHtml;\n",
              "          element.appendChild(docLink);\n",
              "        }\n",
              "      </script>\n",
              "    </div>\n",
              "  </div>\n",
              "  "
            ]
          },
          "metadata": {},
          "execution_count": 37
        }
      ]
    },
    {
      "cell_type": "code",
      "source": [
        "sns.barplot(data = moviesrank,x = 'actorName',y = 'normalizedRating')\n",
        "plt.xticks(rotation = 90, fontsize = 10)\n",
        "plt.xlabel('Actor Name',fontsize = 10,fontweight = 'bold')\n",
        "plt.ylabel('Ratings',fontsize = 10,fontweight = 'bold')\n",
        "plt.title('Actors with High Ratings',fontsize = 15,fontweight = 'bold')"
      ],
      "metadata": {
        "id": "5IqZET4zhDzp",
        "colab": {
          "base_uri": "https://localhost:8080/",
          "height": 398
        },
        "outputId": "6b6596f1-e43a-4dd4-8ae3-dc939c894c3e"
      },
      "execution_count": 38,
      "outputs": [
        {
          "output_type": "execute_result",
          "data": {
            "text/plain": [
              "Text(0.5, 1.0, 'Actors with High Ratings')"
            ]
          },
          "metadata": {},
          "execution_count": 38
        },
        {
          "output_type": "display_data",
          "data": {
            "text/plain": [
              "<Figure size 432x288 with 1 Axes>"
            ],
            "image/png": "[encoded data removed]"
          },
          "metadata": {
            "needs_background": "light"
          }
        }
      ]
    },
    {
      "cell_type": "markdown",
      "source": [
        "#**Most searching actor**"
      ],
      "metadata": {
        "id": "ar_Lo_3Vyw-E"
      }
    },
    {
      "cell_type": "code",
      "source": [
        "googlesearch_actor = Bollywood_ActorRanking[['actorName','normalizedGoogleRank']].sort_values(by = 'normalizedGoogleRank',ascending = False)[0:15]\n",
        "\n",
        "googlesearch_actor\n",
        "sns.barplot(data = googlesearch_actor,x = 'normalizedGoogleRank',y = 'actorName')\n",
        "plt.xticks(fontsize = 12)\n",
        "plt.xlabel('Ratings',fontsize = 15,fontweight = 'bold')\n",
        "plt.ylabel('Actor Name',fontsize = 15,fontweight = 'bold')\n",
        "plt.title('Most searching actor',fontsize = 15,fontweight = 'bold')"
      ],
      "metadata": {
        "colab": {
          "base_uri": "https://localhost:8080/",
          "height": 323
        },
        "id": "cIGVsC5ohaeS",
        "outputId": "925b95dc-dead-47f4-f7f6-ceac9a43d795"
      },
      "execution_count": null,
      "outputs": [
        {
          "output_type": "execute_result",
          "data": {
            "text/plain": [
              "Text(0.5, 1.0, 'Most searching actor')"
            ]
          },
          "metadata": {},
          "execution_count": 123
        },
        {
          "output_type": "display_data",
          "data": {
            "text/plain": [
              "<Figure size 432x288 with 1 Axes>"
            ],
            "image/png": "[encoded data removed]"
          },
          "metadata": {
            "needs_background": "light"
          }
        }
      ]
    },
    {
      "cell_type": "markdown",
      "source": [
        "#**Steps** :-\n",
        "1) I was collect the Bollywood Movies,actors,directors dataset.\n",
        "\n",
        "2) Understood the Business Problem. Read the Data,check nunique,duplicated ,missing values.\n",
        "\n",
        "3) Cleaned the data - drop unwanted colums & fill missing values.\n",
        "\n",
        "4) Exploratory Data Analysis EDA . in this EDA I performed Explored the insights which are invisible in Data after performed on EDA.\n",
        "\n",
        "#**Conclusion** :-\n",
        "\n",
        "I got information like TOP 5 MOVIES, TOP 5 GENRE,TOP 5 MOVIES RELEASE YEAR, TOP 5 ACTORS, TOP 5 DIRECTORS,TOP 15 ACTORS WITH MOST NO OF MOVIES,TOP 10 ACROERS WITH HIGH RATINGS ,MOST SEARCHED ACTORS ON GOOGLE.\n",
        "\n",
        "This analysis help to film making industries & also Investors to take a right decision .\n"
      ],
      "metadata": {
        "id": "yDSSE_Gz0mrg"
      }
    }
  ]
}