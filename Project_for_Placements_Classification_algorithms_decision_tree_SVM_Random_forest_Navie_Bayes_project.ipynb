{
  "nbformat": 4,
  "nbformat_minor": 0,
  "metadata": {
    "colab": {
      "provenance": [],
      "authorship_tag": "ABX9TyMRes1k99dyYlNFtegYyg2y",
      "include_colab_link": true
    },
    "kernelspec": {
      "name": "python3",
      "display_name": "Python 3"
    },
    "language_info": {
      "name": "python"
    }
  },
  "cells": [
    {
      "cell_type": "markdown",
      "metadata": {
        "id": "view-in-github",
        "colab_type": "text"
      },
      "source": [
        "<a href=\"https://colab.research.google.com/github/shwetabhosale15/shweta/blob/main/Project_for_Placements_Classification_algorithms_decision_tree_SVM_Random_forest_Navie_Bayes_project.ipynb\" target=\"_parent\"><img src=\"https://colab.research.google.com/assets/colab-badge.svg\" alt=\"Open In Colab\"/></a>"
      ]
    },
    {
      "cell_type": "markdown",
      "source": [
        "#**Machine Learning Project**"
      ],
      "metadata": {
        "id": "I0D--W8imrsp"
      }
    },
    {
      "cell_type": "markdown",
      "source": [
        "#Problem Statement\n",
        "Social media advertising is a type of digital marketing that utilizes social networks such as Facebook, Twitter, and Instagram to deliver paid ads to your target audience. Social media ads are a quick and effective way to connect with your consumers and boost your marketing campaigns.using Social media adv companys clearly defined goal a  high-quality, relevant small target audience. \n",
        "\n",
        "**For example**, using social platform like facebook whatsup etc. we know about friend has highly rated a restaurant, or watched a particular film , Company marketing their product.\n",
        "\n",
        "**Problem :**\n",
        "which machine learning model help in advertising &marketing to detect signals and get the right ad in front of the right person, at the right time ?\n",
        "Company find out answers that's like question,collect the correct insight from their company's data and from Data analysis ,machine learning model help them for growth of profits. \n",
        "\n",
        "Given this background, they decide to hire you as the data Scientist or ML Engineer and come up with a strategy to fulfill the company's business objective.\n",
        "\n",
        "Understand the Business Problem.\n",
        "Collecting Data & Clean the data.\n",
        "Preparing the Data: You are expected to do an exhaustive EDA .\n",
        "Explore the insights which are invisible in Data (all dimensions).\n",
        "Choosing a Model\n",
        "Training the Model\n",
        "MAchine Learning Algorithms impliment for model\n",
        "Making Predictions\n"
      ],
      "metadata": {
        "id": "4Z_t2YMInAvk"
      }
    },
    {
      "cell_type": "markdown",
      "source": [
        "#**Import** **Libraries**"
      ],
      "metadata": {
        "id": "_fXQpL5b0Vdr"
      }
    },
    {
      "cell_type": "code",
      "source": [
        "import numpy as np\n",
        "import pandas as pd\n",
        "import seaborn as sns\n",
        "import matplotlib.pyplot as plt\n",
        "%matplotlib inline"
      ],
      "metadata": {
        "id": "JxDbYk64nTsr"
      },
      "execution_count": 1,
      "outputs": []
    },
    {
      "cell_type": "markdown",
      "source": [
        "# **Read the data**"
      ],
      "metadata": {
        "id": "W-_GZegM04TR"
      }
    },
    {
      "cell_type": "code",
      "source": [
        "dataset=pd.read_csv('/content/Social_Network_Ads.csv')"
      ],
      "metadata": {
        "id": "WqDUaIjxnUBs"
      },
      "execution_count": 2,
      "outputs": []
    },
    {
      "cell_type": "code",
      "source": [
        "dataset.shape"
      ],
      "metadata": {
        "colab": {
          "base_uri": "https://localhost:8080/"
        },
        "id": "pelzDL7-1iN1",
        "outputId": "88708224-dd9c-4d85-a859-f20b711278e0"
      },
      "execution_count": 3,
      "outputs": [
        {
          "output_type": "execute_result",
          "data": {
            "text/plain": [
              "(400, 5)"
            ]
          },
          "metadata": {},
          "execution_count": 3
        }
      ]
    },
    {
      "cell_type": "code",
      "source": [
        "dataset.head()"
      ],
      "metadata": {
        "colab": {
          "base_uri": "https://localhost:8080/",
          "height": 206
        },
        "id": "J6M9y4XK1scR",
        "outputId": "cb381e8c-ab89-49c2-e50e-53dbd8fd679f"
      },
      "execution_count": 4,
      "outputs": [
        {
          "output_type": "execute_result",
          "data": {
            "text/plain": [
              "    User ID  Gender  Age  EstimatedSalary  Purchased\n",
              "0  15624510    Male   19            19000          0\n",
              "1  15810944    Male   35            20000          0\n",
              "2  15668575  Female   26            43000          0\n",
              "3  15603246  Female   27            57000          0\n",
              "4  15804002    Male   19            76000          0"
            ],
            "text/html": [
              "\n",
              "  <div id=\"df-a42c501e-1bc3-4ef3-9d5c-0c449f8d0a27\">\n",
              "    <div class=\"colab-df-container\">\n",
              "      <div>\n",
              "<style scoped>\n",
              "    .dataframe tbody tr th:only-of-type {\n",
              "        vertical-align: middle;\n",
              "    }\n",
              "\n",
              "    .dataframe tbody tr th {\n",
              "        vertical-align: top;\n",
              "    }\n",
              "\n",
              "    .dataframe thead th {\n",
              "        text-align: right;\n",
              "    }\n",
              "</style>\n",
              "<table border=\"1\" class=\"dataframe\">\n",
              "  <thead>\n",
              "    <tr style=\"text-align: right;\">\n",
              "      <th></th>\n",
              "      <th>User ID</th>\n",
              "      <th>Gender</th>\n",
              "      <th>Age</th>\n",
              "      <th>EstimatedSalary</th>\n",
              "      <th>Purchased</th>\n",
              "    </tr>\n",
              "  </thead>\n",
              "  <tbody>\n",
              "    <tr>\n",
              "      <th>0</th>\n",
              "      <td>15624510</td>\n",
              "      <td>Male</td>\n",
              "      <td>19</td>\n",
              "      <td>19000</td>\n",
              "      <td>0</td>\n",
              "    </tr>\n",
              "    <tr>\n",
              "      <th>1</th>\n",
              "      <td>15810944</td>\n",
              "      <td>Male</td>\n",
              "      <td>35</td>\n",
              "      <td>20000</td>\n",
              "      <td>0</td>\n",
              "    </tr>\n",
              "    <tr>\n",
              "      <th>2</th>\n",
              "      <td>15668575</td>\n",
              "      <td>Female</td>\n",
              "      <td>26</td>\n",
              "      <td>43000</td>\n",
              "      <td>0</td>\n",
              "    </tr>\n",
              "    <tr>\n",
              "      <th>3</th>\n",
              "      <td>15603246</td>\n",
              "      <td>Female</td>\n",
              "      <td>27</td>\n",
              "      <td>57000</td>\n",
              "      <td>0</td>\n",
              "    </tr>\n",
              "    <tr>\n",
              "      <th>4</th>\n",
              "      <td>15804002</td>\n",
              "      <td>Male</td>\n",
              "      <td>19</td>\n",
              "      <td>76000</td>\n",
              "      <td>0</td>\n",
              "    </tr>\n",
              "  </tbody>\n",
              "</table>\n",
              "</div>\n",
              "      <button class=\"colab-df-convert\" onclick=\"convertToInteractive('df-a42c501e-1bc3-4ef3-9d5c-0c449f8d0a27')\"\n",
              "              title=\"Convert this dataframe to an interactive table.\"\n",
              "              style=\"display:none;\">\n",
              "        \n",
              "  <svg xmlns=\"http://www.w3.org/2000/svg\" height=\"24px\"viewBox=\"0 0 24 24\"\n",
              "       width=\"24px\">\n",
              "    <path d=\"M0 0h24v24H0V0z\" fill=\"none\"/>\n",
              "    <path d=\"M18.56 5.44l.94 2.06.94-2.06 2.06-.94-2.06-.94-.94-2.06-.94 2.06-2.06.94zm-11 1L8.5 8.5l.94-2.06 2.06-.94-2.06-.94L8.5 2.5l-.94 2.06-2.06.94zm10 10l.94 2.06.94-2.06 2.06-.94-2.06-.94-.94-2.06-.94 2.06-2.06.94z\"/><path d=\"M17.41 7.96l-1.37-1.37c-.4-.4-.92-.59-1.43-.59-.52 0-1.04.2-1.43.59L10.3 9.45l-7.72 7.72c-.78.78-.78 2.05 0 2.83L4 21.41c.39.39.9.59 1.41.59.51 0 1.02-.2 1.41-.59l7.78-7.78 2.81-2.81c.8-.78.8-2.07 0-2.86zM5.41 20L4 18.59l7.72-7.72 1.47 1.35L5.41 20z\"/>\n",
              "  </svg>\n",
              "      </button>\n",
              "      \n",
              "  <style>\n",
              "    .colab-df-container {\n",
              "      display:flex;\n",
              "      flex-wrap:wrap;\n",
              "      gap: 12px;\n",
              "    }\n",
              "\n",
              "    .colab-df-convert {\n",
              "      background-color: #E8F0FE;\n",
              "      border: none;\n",
              "      border-radius: 50%;\n",
              "      cursor: pointer;\n",
              "      display: none;\n",
              "      fill: #1967D2;\n",
              "      height: 32px;\n",
              "      padding: 0 0 0 0;\n",
              "      width: 32px;\n",
              "    }\n",
              "\n",
              "    .colab-df-convert:hover {\n",
              "      background-color: #E2EBFA;\n",
              "      box-shadow: 0px 1px 2px rgba(60, 64, 67, 0.3), 0px 1px 3px 1px rgba(60, 64, 67, 0.15);\n",
              "      fill: #174EA6;\n",
              "    }\n",
              "\n",
              "    [theme=dark] .colab-df-convert {\n",
              "      background-color: #3B4455;\n",
              "      fill: #D2E3FC;\n",
              "    }\n",
              "\n",
              "    [theme=dark] .colab-df-convert:hover {\n",
              "      background-color: #434B5C;\n",
              "      box-shadow: 0px 1px 3px 1px rgba(0, 0, 0, 0.15);\n",
              "      filter: drop-shadow(0px 1px 2px rgba(0, 0, 0, 0.3));\n",
              "      fill: #FFFFFF;\n",
              "    }\n",
              "  </style>\n",
              "\n",
              "      <script>\n",
              "        const buttonEl =\n",
              "          document.querySelector('#df-a42c501e-1bc3-4ef3-9d5c-0c449f8d0a27 button.colab-df-convert');\n",
              "        buttonEl.style.display =\n",
              "          google.colab.kernel.accessAllowed ? 'block' : 'none';\n",
              "\n",
              "        async function convertToInteractive(key) {\n",
              "          const element = document.querySelector('#df-a42c501e-1bc3-4ef3-9d5c-0c449f8d0a27');\n",
              "          const dataTable =\n",
              "            await google.colab.kernel.invokeFunction('convertToInteractive',\n",
              "                                                     [key], {});\n",
              "          if (!dataTable) return;\n",
              "\n",
              "          const docLinkHtml = 'Like what you see? Visit the ' +\n",
              "            '<a target=\"_blank\" href=https://colab.research.google.com/notebooks/data_table.ipynb>data table notebook</a>'\n",
              "            + ' to learn more about interactive tables.';\n",
              "          element.innerHTML = '';\n",
              "          dataTable['output_type'] = 'display_data';\n",
              "          await google.colab.output.renderOutput(dataTable, element);\n",
              "          const docLink = document.createElement('div');\n",
              "          docLink.innerHTML = docLinkHtml;\n",
              "          element.appendChild(docLink);\n",
              "        }\n",
              "      </script>\n",
              "    </div>\n",
              "  </div>\n",
              "  "
            ]
          },
          "metadata": {},
          "execution_count": 4
        }
      ]
    },
    {
      "cell_type": "code",
      "source": [
        "dataset.tail()"
      ],
      "metadata": {
        "colab": {
          "base_uri": "https://localhost:8080/",
          "height": 206
        },
        "id": "EtwhLyMH14WG",
        "outputId": "976b885d-bfec-400a-b44a-964d520df7f8"
      },
      "execution_count": 5,
      "outputs": [
        {
          "output_type": "execute_result",
          "data": {
            "text/plain": [
              "      User ID  Gender  Age  EstimatedSalary  Purchased\n",
              "395  15691863  Female   46            41000          1\n",
              "396  15706071    Male   51            23000          1\n",
              "397  15654296  Female   50            20000          1\n",
              "398  15755018    Male   36            33000          0\n",
              "399  15594041  Female   49            36000          1"
            ],
            "text/html": [
              "\n",
              "  <div id=\"df-68c64b67-9b05-44cf-a4d1-3101e5cccc7d\">\n",
              "    <div class=\"colab-df-container\">\n",
              "      <div>\n",
              "<style scoped>\n",
              "    .dataframe tbody tr th:only-of-type {\n",
              "        vertical-align: middle;\n",
              "    }\n",
              "\n",
              "    .dataframe tbody tr th {\n",
              "        vertical-align: top;\n",
              "    }\n",
              "\n",
              "    .dataframe thead th {\n",
              "        text-align: right;\n",
              "    }\n",
              "</style>\n",
              "<table border=\"1\" class=\"dataframe\">\n",
              "  <thead>\n",
              "    <tr style=\"text-align: right;\">\n",
              "      <th></th>\n",
              "      <th>User ID</th>\n",
              "      <th>Gender</th>\n",
              "      <th>Age</th>\n",
              "      <th>EstimatedSalary</th>\n",
              "      <th>Purchased</th>\n",
              "    </tr>\n",
              "  </thead>\n",
              "  <tbody>\n",
              "    <tr>\n",
              "      <th>395</th>\n",
              "      <td>15691863</td>\n",
              "      <td>Female</td>\n",
              "      <td>46</td>\n",
              "      <td>41000</td>\n",
              "      <td>1</td>\n",
              "    </tr>\n",
              "    <tr>\n",
              "      <th>396</th>\n",
              "      <td>15706071</td>\n",
              "      <td>Male</td>\n",
              "      <td>51</td>\n",
              "      <td>23000</td>\n",
              "      <td>1</td>\n",
              "    </tr>\n",
              "    <tr>\n",
              "      <th>397</th>\n",
              "      <td>15654296</td>\n",
              "      <td>Female</td>\n",
              "      <td>50</td>\n",
              "      <td>20000</td>\n",
              "      <td>1</td>\n",
              "    </tr>\n",
              "    <tr>\n",
              "      <th>398</th>\n",
              "      <td>15755018</td>\n",
              "      <td>Male</td>\n",
              "      <td>36</td>\n",
              "      <td>33000</td>\n",
              "      <td>0</td>\n",
              "    </tr>\n",
              "    <tr>\n",
              "      <th>399</th>\n",
              "      <td>15594041</td>\n",
              "      <td>Female</td>\n",
              "      <td>49</td>\n",
              "      <td>36000</td>\n",
              "      <td>1</td>\n",
              "    </tr>\n",
              "  </tbody>\n",
              "</table>\n",
              "</div>\n",
              "      <button class=\"colab-df-convert\" onclick=\"convertToInteractive('df-68c64b67-9b05-44cf-a4d1-3101e5cccc7d')\"\n",
              "              title=\"Convert this dataframe to an interactive table.\"\n",
              "              style=\"display:none;\">\n",
              "        \n",
              "  <svg xmlns=\"http://www.w3.org/2000/svg\" height=\"24px\"viewBox=\"0 0 24 24\"\n",
              "       width=\"24px\">\n",
              "    <path d=\"M0 0h24v24H0V0z\" fill=\"none\"/>\n",
              "    <path d=\"M18.56 5.44l.94 2.06.94-2.06 2.06-.94-2.06-.94-.94-2.06-.94 2.06-2.06.94zm-11 1L8.5 8.5l.94-2.06 2.06-.94-2.06-.94L8.5 2.5l-.94 2.06-2.06.94zm10 10l.94 2.06.94-2.06 2.06-.94-2.06-.94-.94-2.06-.94 2.06-2.06.94z\"/><path d=\"M17.41 7.96l-1.37-1.37c-.4-.4-.92-.59-1.43-.59-.52 0-1.04.2-1.43.59L10.3 9.45l-7.72 7.72c-.78.78-.78 2.05 0 2.83L4 21.41c.39.39.9.59 1.41.59.51 0 1.02-.2 1.41-.59l7.78-7.78 2.81-2.81c.8-.78.8-2.07 0-2.86zM5.41 20L4 18.59l7.72-7.72 1.47 1.35L5.41 20z\"/>\n",
              "  </svg>\n",
              "      </button>\n",
              "      \n",
              "  <style>\n",
              "    .colab-df-container {\n",
              "      display:flex;\n",
              "      flex-wrap:wrap;\n",
              "      gap: 12px;\n",
              "    }\n",
              "\n",
              "    .colab-df-convert {\n",
              "      background-color: #E8F0FE;\n",
              "      border: none;\n",
              "      border-radius: 50%;\n",
              "      cursor: pointer;\n",
              "      display: none;\n",
              "      fill: #1967D2;\n",
              "      height: 32px;\n",
              "      padding: 0 0 0 0;\n",
              "      width: 32px;\n",
              "    }\n",
              "\n",
              "    .colab-df-convert:hover {\n",
              "      background-color: #E2EBFA;\n",
              "      box-shadow: 0px 1px 2px rgba(60, 64, 67, 0.3), 0px 1px 3px 1px rgba(60, 64, 67, 0.15);\n",
              "      fill: #174EA6;\n",
              "    }\n",
              "\n",
              "    [theme=dark] .colab-df-convert {\n",
              "      background-color: #3B4455;\n",
              "      fill: #D2E3FC;\n",
              "    }\n",
              "\n",
              "    [theme=dark] .colab-df-convert:hover {\n",
              "      background-color: #434B5C;\n",
              "      box-shadow: 0px 1px 3px 1px rgba(0, 0, 0, 0.15);\n",
              "      filter: drop-shadow(0px 1px 2px rgba(0, 0, 0, 0.3));\n",
              "      fill: #FFFFFF;\n",
              "    }\n",
              "  </style>\n",
              "\n",
              "      <script>\n",
              "        const buttonEl =\n",
              "          document.querySelector('#df-68c64b67-9b05-44cf-a4d1-3101e5cccc7d button.colab-df-convert');\n",
              "        buttonEl.style.display =\n",
              "          google.colab.kernel.accessAllowed ? 'block' : 'none';\n",
              "\n",
              "        async function convertToInteractive(key) {\n",
              "          const element = document.querySelector('#df-68c64b67-9b05-44cf-a4d1-3101e5cccc7d');\n",
              "          const dataTable =\n",
              "            await google.colab.kernel.invokeFunction('convertToInteractive',\n",
              "                                                     [key], {});\n",
              "          if (!dataTable) return;\n",
              "\n",
              "          const docLinkHtml = 'Like what you see? Visit the ' +\n",
              "            '<a target=\"_blank\" href=https://colab.research.google.com/notebooks/data_table.ipynb>data table notebook</a>'\n",
              "            + ' to learn more about interactive tables.';\n",
              "          element.innerHTML = '';\n",
              "          dataTable['output_type'] = 'display_data';\n",
              "          await google.colab.output.renderOutput(dataTable, element);\n",
              "          const docLink = document.createElement('div');\n",
              "          docLink.innerHTML = docLinkHtml;\n",
              "          element.appendChild(docLink);\n",
              "        }\n",
              "      </script>\n",
              "    </div>\n",
              "  </div>\n",
              "  "
            ]
          },
          "metadata": {},
          "execution_count": 5
        }
      ]
    },
    {
      "cell_type": "markdown",
      "source": [
        "#**Check for unique values**"
      ],
      "metadata": {
        "id": "EoHl6eXu2rFD"
      }
    },
    {
      "cell_type": "code",
      "source": [
        "dataset.nunique()"
      ],
      "metadata": {
        "colab": {
          "base_uri": "https://localhost:8080/"
        },
        "id": "90fbaBUL2pWQ",
        "outputId": "21b462b7-05a6-43bc-f024-016360cae93f"
      },
      "execution_count": 6,
      "outputs": [
        {
          "output_type": "execute_result",
          "data": {
            "text/plain": [
              "User ID            400\n",
              "Gender               2\n",
              "Age                 43\n",
              "EstimatedSalary    117\n",
              "Purchased            2\n",
              "dtype: int64"
            ]
          },
          "metadata": {},
          "execution_count": 6
        }
      ]
    },
    {
      "cell_type": "markdown",
      "source": [
        "# **Check for duplicate values**"
      ],
      "metadata": {
        "id": "s096Uo923aPg"
      }
    },
    {
      "cell_type": "code",
      "source": [
        "dataset.duplicated()"
      ],
      "metadata": {
        "colab": {
          "base_uri": "https://localhost:8080/"
        },
        "id": "S-x3gXmc3QMA",
        "outputId": "683e8c43-a262-43b3-9f02-3a256223d63c"
      },
      "execution_count": 7,
      "outputs": [
        {
          "output_type": "execute_result",
          "data": {
            "text/plain": [
              "0      False\n",
              "1      False\n",
              "2      False\n",
              "3      False\n",
              "4      False\n",
              "       ...  \n",
              "395    False\n",
              "396    False\n",
              "397    False\n",
              "398    False\n",
              "399    False\n",
              "Length: 400, dtype: bool"
            ]
          },
          "metadata": {},
          "execution_count": 7
        }
      ]
    },
    {
      "cell_type": "markdown",
      "source": [
        "#**Check for missing values**"
      ],
      "metadata": {
        "id": "aM3judBu39Dp"
      }
    },
    {
      "cell_type": "code",
      "source": [
        "dataset.isnull().sum()"
      ],
      "metadata": {
        "colab": {
          "base_uri": "https://localhost:8080/"
        },
        "id": "zcVVZnIM4IT7",
        "outputId": "0f706cb4-038c-48ba-c81d-27d43ac08b8e"
      },
      "execution_count": 8,
      "outputs": [
        {
          "output_type": "execute_result",
          "data": {
            "text/plain": [
              "User ID            0\n",
              "Gender             0\n",
              "Age                0\n",
              "EstimatedSalary    0\n",
              "Purchased          0\n",
              "dtype: int64"
            ]
          },
          "metadata": {},
          "execution_count": 8
        }
      ]
    },
    {
      "cell_type": "markdown",
      "source": [
        "#Also we findout nunique values,duplicated values,missing values using info() function."
      ],
      "metadata": {
        "id": "x3gqyUZK4YPZ"
      }
    },
    {
      "cell_type": "code",
      "source": [
        "dataset.info()"
      ],
      "metadata": {
        "colab": {
          "base_uri": "https://localhost:8080/"
        },
        "id": "S6IKXp8a5Nmz",
        "outputId": "1da608b5-1bff-4cfa-b48e-c48d1c4925b0"
      },
      "execution_count": 9,
      "outputs": [
        {
          "output_type": "stream",
          "name": "stdout",
          "text": [
            "<class 'pandas.core.frame.DataFrame'>\n",
            "RangeIndex: 400 entries, 0 to 399\n",
            "Data columns (total 5 columns):\n",
            " #   Column           Non-Null Count  Dtype \n",
            "---  ------           --------------  ----- \n",
            " 0   User ID          400 non-null    int64 \n",
            " 1   Gender           400 non-null    object\n",
            " 2   Age              400 non-null    int64 \n",
            " 3   EstimatedSalary  400 non-null    int64 \n",
            " 4   Purchased        400 non-null    int64 \n",
            "dtypes: int64(4), object(1)\n",
            "memory usage: 15.8+ KB\n"
          ]
        }
      ]
    },
    {
      "cell_type": "markdown",
      "source": [
        "#**Co-relation**"
      ],
      "metadata": {
        "id": "gMLrpYqm-wT4"
      }
    },
    {
      "cell_type": "code",
      "source": [
        "dataset.corr()"
      ],
      "metadata": {
        "colab": {
          "base_uri": "https://localhost:8080/",
          "height": 175
        },
        "id": "IcbiMBzI-2Bf",
        "outputId": "df5bae6b-e98a-4bd9-f2ed-cf267dd03161"
      },
      "execution_count": 10,
      "outputs": [
        {
          "output_type": "execute_result",
          "data": {
            "text/plain": [
              "                  User ID       Age  EstimatedSalary  Purchased\n",
              "User ID          1.000000 -0.000721         0.071097   0.007120\n",
              "Age             -0.000721  1.000000         0.155238   0.622454\n",
              "EstimatedSalary  0.071097  0.155238         1.000000   0.362083\n",
              "Purchased        0.007120  0.622454         0.362083   1.000000"
            ],
            "text/html": [
              "\n",
              "  <div id=\"df-2cf91603-3cb5-4cae-ab9e-6443cf42b3e2\">\n",
              "    <div class=\"colab-df-container\">\n",
              "      <div>\n",
              "<style scoped>\n",
              "    .dataframe tbody tr th:only-of-type {\n",
              "        vertical-align: middle;\n",
              "    }\n",
              "\n",
              "    .dataframe tbody tr th {\n",
              "        vertical-align: top;\n",
              "    }\n",
              "\n",
              "    .dataframe thead th {\n",
              "        text-align: right;\n",
              "    }\n",
              "</style>\n",
              "<table border=\"1\" class=\"dataframe\">\n",
              "  <thead>\n",
              "    <tr style=\"text-align: right;\">\n",
              "      <th></th>\n",
              "      <th>User ID</th>\n",
              "      <th>Age</th>\n",
              "      <th>EstimatedSalary</th>\n",
              "      <th>Purchased</th>\n",
              "    </tr>\n",
              "  </thead>\n",
              "  <tbody>\n",
              "    <tr>\n",
              "      <th>User ID</th>\n",
              "      <td>1.000000</td>\n",
              "      <td>-0.000721</td>\n",
              "      <td>0.071097</td>\n",
              "      <td>0.007120</td>\n",
              "    </tr>\n",
              "    <tr>\n",
              "      <th>Age</th>\n",
              "      <td>-0.000721</td>\n",
              "      <td>1.000000</td>\n",
              "      <td>0.155238</td>\n",
              "      <td>0.622454</td>\n",
              "    </tr>\n",
              "    <tr>\n",
              "      <th>EstimatedSalary</th>\n",
              "      <td>0.071097</td>\n",
              "      <td>0.155238</td>\n",
              "      <td>1.000000</td>\n",
              "      <td>0.362083</td>\n",
              "    </tr>\n",
              "    <tr>\n",
              "      <th>Purchased</th>\n",
              "      <td>0.007120</td>\n",
              "      <td>0.622454</td>\n",
              "      <td>0.362083</td>\n",
              "      <td>1.000000</td>\n",
              "    </tr>\n",
              "  </tbody>\n",
              "</table>\n",
              "</div>\n",
              "      <button class=\"colab-df-convert\" onclick=\"convertToInteractive('df-2cf91603-3cb5-4cae-ab9e-6443cf42b3e2')\"\n",
              "              title=\"Convert this dataframe to an interactive table.\"\n",
              "              style=\"display:none;\">\n",
              "        \n",
              "  <svg xmlns=\"http://www.w3.org/2000/svg\" height=\"24px\"viewBox=\"0 0 24 24\"\n",
              "       width=\"24px\">\n",
              "    <path d=\"M0 0h24v24H0V0z\" fill=\"none\"/>\n",
              "    <path d=\"M18.56 5.44l.94 2.06.94-2.06 2.06-.94-2.06-.94-.94-2.06-.94 2.06-2.06.94zm-11 1L8.5 8.5l.94-2.06 2.06-.94-2.06-.94L8.5 2.5l-.94 2.06-2.06.94zm10 10l.94 2.06.94-2.06 2.06-.94-2.06-.94-.94-2.06-.94 2.06-2.06.94z\"/><path d=\"M17.41 7.96l-1.37-1.37c-.4-.4-.92-.59-1.43-.59-.52 0-1.04.2-1.43.59L10.3 9.45l-7.72 7.72c-.78.78-.78 2.05 0 2.83L4 21.41c.39.39.9.59 1.41.59.51 0 1.02-.2 1.41-.59l7.78-7.78 2.81-2.81c.8-.78.8-2.07 0-2.86zM5.41 20L4 18.59l7.72-7.72 1.47 1.35L5.41 20z\"/>\n",
              "  </svg>\n",
              "      </button>\n",
              "      \n",
              "  <style>\n",
              "    .colab-df-container {\n",
              "      display:flex;\n",
              "      flex-wrap:wrap;\n",
              "      gap: 12px;\n",
              "    }\n",
              "\n",
              "    .colab-df-convert {\n",
              "      background-color: #E8F0FE;\n",
              "      border: none;\n",
              "      border-radius: 50%;\n",
              "      cursor: pointer;\n",
              "      display: none;\n",
              "      fill: #1967D2;\n",
              "      height: 32px;\n",
              "      padding: 0 0 0 0;\n",
              "      width: 32px;\n",
              "    }\n",
              "\n",
              "    .colab-df-convert:hover {\n",
              "      background-color: #E2EBFA;\n",
              "      box-shadow: 0px 1px 2px rgba(60, 64, 67, 0.3), 0px 1px 3px 1px rgba(60, 64, 67, 0.15);\n",
              "      fill: #174EA6;\n",
              "    }\n",
              "\n",
              "    [theme=dark] .colab-df-convert {\n",
              "      background-color: #3B4455;\n",
              "      fill: #D2E3FC;\n",
              "    }\n",
              "\n",
              "    [theme=dark] .colab-df-convert:hover {\n",
              "      background-color: #434B5C;\n",
              "      box-shadow: 0px 1px 3px 1px rgba(0, 0, 0, 0.15);\n",
              "      filter: drop-shadow(0px 1px 2px rgba(0, 0, 0, 0.3));\n",
              "      fill: #FFFFFF;\n",
              "    }\n",
              "  </style>\n",
              "\n",
              "      <script>\n",
              "        const buttonEl =\n",
              "          document.querySelector('#df-2cf91603-3cb5-4cae-ab9e-6443cf42b3e2 button.colab-df-convert');\n",
              "        buttonEl.style.display =\n",
              "          google.colab.kernel.accessAllowed ? 'block' : 'none';\n",
              "\n",
              "        async function convertToInteractive(key) {\n",
              "          const element = document.querySelector('#df-2cf91603-3cb5-4cae-ab9e-6443cf42b3e2');\n",
              "          const dataTable =\n",
              "            await google.colab.kernel.invokeFunction('convertToInteractive',\n",
              "                                                     [key], {});\n",
              "          if (!dataTable) return;\n",
              "\n",
              "          const docLinkHtml = 'Like what you see? Visit the ' +\n",
              "            '<a target=\"_blank\" href=https://colab.research.google.com/notebooks/data_table.ipynb>data table notebook</a>'\n",
              "            + ' to learn more about interactive tables.';\n",
              "          element.innerHTML = '';\n",
              "          dataTable['output_type'] = 'display_data';\n",
              "          await google.colab.output.renderOutput(dataTable, element);\n",
              "          const docLink = document.createElement('div');\n",
              "          docLink.innerHTML = docLinkHtml;\n",
              "          element.appendChild(docLink);\n",
              "        }\n",
              "      </script>\n",
              "    </div>\n",
              "  </div>\n",
              "  "
            ]
          },
          "metadata": {},
          "execution_count": 10
        }
      ]
    },
    {
      "cell_type": "code",
      "source": [
        "dataset.columns"
      ],
      "metadata": {
        "colab": {
          "base_uri": "https://localhost:8080/"
        },
        "id": "Pai-MtBx-4J5",
        "outputId": "0476df2c-4071-4db6-8469-c0bb31a953a6"
      },
      "execution_count": 13,
      "outputs": [
        {
          "output_type": "execute_result",
          "data": {
            "text/plain": [
              "Index(['User ID', 'Gender', 'Age', 'EstimatedSalary', 'Purchased'], dtype='object')"
            ]
          },
          "metadata": {},
          "execution_count": 13
        }
      ]
    },
    {
      "cell_type": "code",
      "source": [
        "cols=['User ID','Gender','Age','EstimatedSalary','Purchased']\n",
        "\n",
        "sns.heatmap(dataset[cols].corr(),annot=True,cmap='RdYlGn',linewidths=0.2)\n",
        "plt.show()"
      ],
      "metadata": {
        "colab": {
          "base_uri": "https://localhost:8080/",
          "height": 269
        },
        "id": "mlLQxy9Y_Uda",
        "outputId": "708b28c1-e360-4a1e-c5f9-fd14f7d3e564"
      },
      "execution_count": 14,
      "outputs": [
        {
          "output_type": "display_data",
          "data": {
            "text/plain": [
              "<Figure size 432x288 with 2 Axes>"
            ],
            "image/png": "[encoded data removed]"
          },
          "metadata": {
            "needs_background": "light"
          }
        }
      ]
    },
    {
      "cell_type": "markdown",
      "source": [
        "We identified the company profit are depend on purchased col,In the above heatmap its clear that Columns User Id and Age are not correalated with Purchased column."
      ],
      "metadata": {
        "id": "wiXfDtXbBhS3"
      }
    },
    {
      "cell_type": "markdown",
      "source": [
        "#**Clean Data-Drop Cols**"
      ],
      "metadata": {
        "id": "4YiM-hEcC2Zd"
      }
    },
    {
      "cell_type": "code",
      "source": [
        "dataset.drop(['User ID','Gender'],axis=1,inplace=True)"
      ],
      "metadata": {
        "id": "afsuD02dBfIW"
      },
      "execution_count": 15,
      "outputs": []
    },
    {
      "cell_type": "code",
      "source": [
        "dataset.head()"
      ],
      "metadata": {
        "colab": {
          "base_uri": "https://localhost:8080/",
          "height": 206
        },
        "id": "Kg2zgylvBgGo",
        "outputId": "4a2c9e15-7c2e-4120-ed94-baaefe7c7920"
      },
      "execution_count": 16,
      "outputs": [
        {
          "output_type": "execute_result",
          "data": {
            "text/plain": [
              "   Age  EstimatedSalary  Purchased\n",
              "0   19            19000          0\n",
              "1   35            20000          0\n",
              "2   26            43000          0\n",
              "3   27            57000          0\n",
              "4   19            76000          0"
            ],
            "text/html": [
              "\n",
              "  <div id=\"df-2f1b5fa7-b254-46b0-b9c0-64b70dd160e0\">\n",
              "    <div class=\"colab-df-container\">\n",
              "      <div>\n",
              "<style scoped>\n",
              "    .dataframe tbody tr th:only-of-type {\n",
              "        vertical-align: middle;\n",
              "    }\n",
              "\n",
              "    .dataframe tbody tr th {\n",
              "        vertical-align: top;\n",
              "    }\n",
              "\n",
              "    .dataframe thead th {\n",
              "        text-align: right;\n",
              "    }\n",
              "</style>\n",
              "<table border=\"1\" class=\"dataframe\">\n",
              "  <thead>\n",
              "    <tr style=\"text-align: right;\">\n",
              "      <th></th>\n",
              "      <th>Age</th>\n",
              "      <th>EstimatedSalary</th>\n",
              "      <th>Purchased</th>\n",
              "    </tr>\n",
              "  </thead>\n",
              "  <tbody>\n",
              "    <tr>\n",
              "      <th>0</th>\n",
              "      <td>19</td>\n",
              "      <td>19000</td>\n",
              "      <td>0</td>\n",
              "    </tr>\n",
              "    <tr>\n",
              "      <th>1</th>\n",
              "      <td>35</td>\n",
              "      <td>20000</td>\n",
              "      <td>0</td>\n",
              "    </tr>\n",
              "    <tr>\n",
              "      <th>2</th>\n",
              "      <td>26</td>\n",
              "      <td>43000</td>\n",
              "      <td>0</td>\n",
              "    </tr>\n",
              "    <tr>\n",
              "      <th>3</th>\n",
              "      <td>27</td>\n",
              "      <td>57000</td>\n",
              "      <td>0</td>\n",
              "    </tr>\n",
              "    <tr>\n",
              "      <th>4</th>\n",
              "      <td>19</td>\n",
              "      <td>76000</td>\n",
              "      <td>0</td>\n",
              "    </tr>\n",
              "  </tbody>\n",
              "</table>\n",
              "</div>\n",
              "      <button class=\"colab-df-convert\" onclick=\"convertToInteractive('df-2f1b5fa7-b254-46b0-b9c0-64b70dd160e0')\"\n",
              "              title=\"Convert this dataframe to an interactive table.\"\n",
              "              style=\"display:none;\">\n",
              "        \n",
              "  <svg xmlns=\"http://www.w3.org/2000/svg\" height=\"24px\"viewBox=\"0 0 24 24\"\n",
              "       width=\"24px\">\n",
              "    <path d=\"M0 0h24v24H0V0z\" fill=\"none\"/>\n",
              "    <path d=\"M18.56 5.44l.94 2.06.94-2.06 2.06-.94-2.06-.94-.94-2.06-.94 2.06-2.06.94zm-11 1L8.5 8.5l.94-2.06 2.06-.94-2.06-.94L8.5 2.5l-.94 2.06-2.06.94zm10 10l.94 2.06.94-2.06 2.06-.94-2.06-.94-.94-2.06-.94 2.06-2.06.94z\"/><path d=\"M17.41 7.96l-1.37-1.37c-.4-.4-.92-.59-1.43-.59-.52 0-1.04.2-1.43.59L10.3 9.45l-7.72 7.72c-.78.78-.78 2.05 0 2.83L4 21.41c.39.39.9.59 1.41.59.51 0 1.02-.2 1.41-.59l7.78-7.78 2.81-2.81c.8-.78.8-2.07 0-2.86zM5.41 20L4 18.59l7.72-7.72 1.47 1.35L5.41 20z\"/>\n",
              "  </svg>\n",
              "      </button>\n",
              "      \n",
              "  <style>\n",
              "    .colab-df-container {\n",
              "      display:flex;\n",
              "      flex-wrap:wrap;\n",
              "      gap: 12px;\n",
              "    }\n",
              "\n",
              "    .colab-df-convert {\n",
              "      background-color: #E8F0FE;\n",
              "      border: none;\n",
              "      border-radius: 50%;\n",
              "      cursor: pointer;\n",
              "      display: none;\n",
              "      fill: #1967D2;\n",
              "      height: 32px;\n",
              "      padding: 0 0 0 0;\n",
              "      width: 32px;\n",
              "    }\n",
              "\n",
              "    .colab-df-convert:hover {\n",
              "      background-color: #E2EBFA;\n",
              "      box-shadow: 0px 1px 2px rgba(60, 64, 67, 0.3), 0px 1px 3px 1px rgba(60, 64, 67, 0.15);\n",
              "      fill: #174EA6;\n",
              "    }\n",
              "\n",
              "    [theme=dark] .colab-df-convert {\n",
              "      background-color: #3B4455;\n",
              "      fill: #D2E3FC;\n",
              "    }\n",
              "\n",
              "    [theme=dark] .colab-df-convert:hover {\n",
              "      background-color: #434B5C;\n",
              "      box-shadow: 0px 1px 3px 1px rgba(0, 0, 0, 0.15);\n",
              "      filter: drop-shadow(0px 1px 2px rgba(0, 0, 0, 0.3));\n",
              "      fill: #FFFFFF;\n",
              "    }\n",
              "  </style>\n",
              "\n",
              "      <script>\n",
              "        const buttonEl =\n",
              "          document.querySelector('#df-2f1b5fa7-b254-46b0-b9c0-64b70dd160e0 button.colab-df-convert');\n",
              "        buttonEl.style.display =\n",
              "          google.colab.kernel.accessAllowed ? 'block' : 'none';\n",
              "\n",
              "        async function convertToInteractive(key) {\n",
              "          const element = document.querySelector('#df-2f1b5fa7-b254-46b0-b9c0-64b70dd160e0');\n",
              "          const dataTable =\n",
              "            await google.colab.kernel.invokeFunction('convertToInteractive',\n",
              "                                                     [key], {});\n",
              "          if (!dataTable) return;\n",
              "\n",
              "          const docLinkHtml = 'Like what you see? Visit the ' +\n",
              "            '<a target=\"_blank\" href=https://colab.research.google.com/notebooks/data_table.ipynb>data table notebook</a>'\n",
              "            + ' to learn more about interactive tables.';\n",
              "          element.innerHTML = '';\n",
              "          dataTable['output_type'] = 'display_data';\n",
              "          await google.colab.output.renderOutput(dataTable, element);\n",
              "          const docLink = document.createElement('div');\n",
              "          docLink.innerHTML = docLinkHtml;\n",
              "          element.appendChild(docLink);\n",
              "        }\n",
              "      </script>\n",
              "    </div>\n",
              "  </div>\n",
              "  "
            ]
          },
          "metadata": {},
          "execution_count": 16
        }
      ]
    },
    {
      "cell_type": "markdown",
      "source": [
        "#**Exploratory Data Analysis (EDA)**"
      ],
      "metadata": {
        "id": "NF-1fdhnDldO"
      }
    },
    {
      "cell_type": "markdown",
      "source": [
        "#Univariate Analysis"
      ],
      "metadata": {
        "id": "KUnZNGfLEzLx"
      }
    },
    {
      "cell_type": "code",
      "source": [
        "sns.countplot(x='Purchased',data=dataset)"
      ],
      "metadata": {
        "colab": {
          "base_uri": "https://localhost:8080/",
          "height": 297
        },
        "id": "-jdfJ7QnE6du",
        "outputId": "98a5fd23-b7c5-4679-f53c-7dfd5517fdde"
      },
      "execution_count": 17,
      "outputs": [
        {
          "output_type": "execute_result",
          "data": {
            "text/plain": [
              "<matplotlib.axes._subplots.AxesSubplot at 0x7f1017916400>"
            ]
          },
          "metadata": {},
          "execution_count": 17
        },
        {
          "output_type": "display_data",
          "data": {
            "text/plain": [
              "<Figure size 432x288 with 1 Axes>"
            ],
            "image/png": "[encoded data removed]"
          },
          "metadata": {
            "needs_background": "light"
          }
        }
      ]
    },
    {
      "cell_type": "code",
      "source": [
        "sns.kdeplot(x='Age',data=dataset)"
      ],
      "metadata": {
        "colab": {
          "base_uri": "https://localhost:8080/",
          "height": 297
        },
        "id": "RP5jsU3lGrPG",
        "outputId": "be90c528-5689-4142-ded1-be5444462719"
      },
      "execution_count": 18,
      "outputs": [
        {
          "output_type": "execute_result",
          "data": {
            "text/plain": [
              "<matplotlib.axes._subplots.AxesSubplot at 0x7f1017854eb0>"
            ]
          },
          "metadata": {},
          "execution_count": 18
        },
        {
          "output_type": "display_data",
          "data": {
            "text/plain": [
              "<Figure size 432x288 with 1 Axes>"
            ],
            "image/png": "[encoded data removed]"
          },
          "metadata": {
            "needs_background": "light"
          }
        }
      ]
    },
    {
      "cell_type": "code",
      "source": [
        "sns.histplot(x='EstimatedSalary',data=dataset)"
      ],
      "metadata": {
        "colab": {
          "base_uri": "https://localhost:8080/",
          "height": 297
        },
        "id": "aBdpAwdlHnha",
        "outputId": "054b1067-1048-4728-bc09-29d9aaedf025"
      },
      "execution_count": 19,
      "outputs": [
        {
          "output_type": "execute_result",
          "data": {
            "text/plain": [
              "<matplotlib.axes._subplots.AxesSubplot at 0x7f10157cd730>"
            ]
          },
          "metadata": {},
          "execution_count": 19
        },
        {
          "output_type": "display_data",
          "data": {
            "text/plain": [
              "<Figure size 432x288 with 1 Axes>"
            ],
            "image/png": "[encoded data removed]"
          },
          "metadata": {
            "needs_background": "light"
          }
        }
      ]
    },
    {
      "cell_type": "markdown",
      "source": [
        "#**Outlier Detection**"
      ],
      "metadata": {
        "id": "XdL_pHjOHSS2"
      }
    },
    {
      "cell_type": "code",
      "source": [
        "sns.boxplot(x='Purchased',data=dataset)"
      ],
      "metadata": {
        "colab": {
          "base_uri": "https://localhost:8080/",
          "height": 297
        },
        "id": "Ju_DEdtqHXYs",
        "outputId": "3bc0f614-394a-4afc-b573-5acee5e123b4"
      },
      "execution_count": 20,
      "outputs": [
        {
          "output_type": "execute_result",
          "data": {
            "text/plain": [
              "<matplotlib.axes._subplots.AxesSubplot at 0x7f101a6643d0>"
            ]
          },
          "metadata": {},
          "execution_count": 20
        },
        {
          "output_type": "display_data",
          "data": {
            "text/plain": [
              "<Figure size 432x288 with 1 Axes>"
            ],
            "image/png": "[encoded data removed]"
          },
          "metadata": {
            "needs_background": "light"
          }
        }
      ]
    },
    {
      "cell_type": "code",
      "source": [
        "sns.boxplot(x='Age',data=dataset)"
      ],
      "metadata": {
        "colab": {
          "base_uri": "https://localhost:8080/",
          "height": 297
        },
        "id": "UowzJnRPHYqE",
        "outputId": "3607a1e0-5dc7-479a-c017-267fcb9067dd"
      },
      "execution_count": 21,
      "outputs": [
        {
          "output_type": "execute_result",
          "data": {
            "text/plain": [
              "<matplotlib.axes._subplots.AxesSubplot at 0x7f1017de4580>"
            ]
          },
          "metadata": {},
          "execution_count": 21
        },
        {
          "output_type": "display_data",
          "data": {
            "text/plain": [
              "<Figure size 432x288 with 1 Axes>"
            ],
            "image/png": "[encoded data removed]"
          },
          "metadata": {
            "needs_background": "light"
          }
        }
      ]
    },
    {
      "cell_type": "code",
      "source": [
        "sns.boxplot(x='EstimatedSalary',data=dataset)"
      ],
      "metadata": {
        "colab": {
          "base_uri": "https://localhost:8080/",
          "height": 297
        },
        "id": "3ChXRxD6FTXh",
        "outputId": "85eafb7f-d502-4a89-dc56-bbd3b718d4cd"
      },
      "execution_count": 22,
      "outputs": [
        {
          "output_type": "execute_result",
          "data": {
            "text/plain": [
              "<matplotlib.axes._subplots.AxesSubplot at 0x7f101a683d90>"
            ]
          },
          "metadata": {},
          "execution_count": 22
        },
        {
          "output_type": "display_data",
          "data": {
            "text/plain": [
              "<Figure size 432x288 with 1 Axes>"
            ],
            "image/png": "[encoded data removed]"
          },
          "metadata": {
            "needs_background": "light"
          }
        }
      ]
    },
    {
      "cell_type": "markdown",
      "source": [
        "#**Bivarite Analysis**"
      ],
      "metadata": {
        "id": "5s5TaQWOIZZA"
      }
    },
    {
      "cell_type": "code",
      "source": [
        "sns.jointplot(x='Purchased', y='Age',data=dataset,size=7, kind='scatter')"
      ],
      "metadata": {
        "colab": {
          "base_uri": "https://localhost:8080/",
          "height": 588
        },
        "id": "j6d30dA1IxH_",
        "outputId": "75b6d712-bbd1-43e1-f00f-3456375116f9"
      },
      "execution_count": 23,
      "outputs": [
        {
          "output_type": "stream",
          "name": "stderr",
          "text": [
            "/usr/local/lib/python3.8/dist-packages/seaborn/axisgrid.py:2182: UserWarning: The `size` parameter has been renamed to `height`; please update your code.\n",
            "  warnings.warn(msg, UserWarning)\n"
          ]
        },
        {
          "output_type": "execute_result",
          "data": {
            "text/plain": [
              "<seaborn.axisgrid.JointGrid at 0x7f1017950670>"
            ]
          },
          "metadata": {},
          "execution_count": 23
        },
        {
          "output_type": "display_data",
          "data": {
            "text/plain": [
              "<Figure size 504x504 with 3 Axes>"
            ],
            "image/png": "[encoded data removed]"
          },
          "metadata": {
            "needs_background": "light"
          }
        }
      ]
    },
    {
      "cell_type": "code",
      "source": [
        "sns.kdeplot(x='Purchased', y='Age',data=dataset)"
      ],
      "metadata": {
        "colab": {
          "base_uri": "https://localhost:8080/",
          "height": 297
        },
        "id": "otqLkgbwLLye",
        "outputId": "0e4caf02-1908-4e7a-b2fb-44bcb26565b4"
      },
      "execution_count": 24,
      "outputs": [
        {
          "output_type": "execute_result",
          "data": {
            "text/plain": [
              "<matplotlib.axes._subplots.AxesSubplot at 0x7f10155e7280>"
            ]
          },
          "metadata": {},
          "execution_count": 24
        },
        {
          "output_type": "display_data",
          "data": {
            "text/plain": [
              "<Figure size 432x288 with 1 Axes>"
            ],
            "image/png": "[encoded data removed]"
          },
          "metadata": {
            "needs_background": "light"
          }
        }
      ]
    },
    {
      "cell_type": "code",
      "source": [
        "sns.jointplot(x='Purchased', y='EstimatedSalary',data=dataset)"
      ],
      "metadata": {
        "colab": {
          "base_uri": "https://localhost:8080/",
          "height": 459
        },
        "id": "_P-XoK6xLMXW",
        "outputId": "6e4bf051-a14a-4842-b4d7-8fc6cb586be5"
      },
      "execution_count": 25,
      "outputs": [
        {
          "output_type": "execute_result",
          "data": {
            "text/plain": [
              "<seaborn.axisgrid.JointGrid at 0x7f10153bf580>"
            ]
          },
          "metadata": {},
          "execution_count": 25
        },
        {
          "output_type": "display_data",
          "data": {
            "text/plain": [
              "<Figure size 432x432 with 3 Axes>"
            ],
            "image/png": "[encoded data removed]"
          },
          "metadata": {
            "needs_background": "light"
          }
        }
      ]
    },
    {
      "cell_type": "code",
      "source": [
        "sns.pairplot(dataset)"
      ],
      "metadata": {
        "colab": {
          "base_uri": "https://localhost:8080/",
          "height": 568
        },
        "id": "h_fSIByeJlkl",
        "outputId": "062fc01b-f06f-475e-a9de-06713bbc45d4"
      },
      "execution_count": 26,
      "outputs": [
        {
          "output_type": "execute_result",
          "data": {
            "text/plain": [
              "<seaborn.axisgrid.PairGrid at 0x7f1013a75070>"
            ]
          },
          "metadata": {},
          "execution_count": 26
        },
        {
          "output_type": "display_data",
          "data": {
            "text/plain": [
              "<Figure size 540x540 with 12 Axes>"
            ],
            "image/png": "[encoded data removed]"
          },
          "metadata": {
            "needs_background": "light"
          }
        }
      ]
    },
    {
      "cell_type": "markdown",
      "source": [
        "#**Standarize the varibale**"
      ],
      "metadata": {
        "id": "a6iXu0gDPE2a"
      }
    },
    {
      "cell_type": "code",
      "source": [
        "from sklearn.preprocessing import StandardScaler"
      ],
      "metadata": {
        "id": "KJc93SH1PR7U"
      },
      "execution_count": 27,
      "outputs": []
    },
    {
      "cell_type": "code",
      "source": [
        "scaler=StandardScaler()"
      ],
      "metadata": {
        "id": "t2cZqnr6PSAs"
      },
      "execution_count": 28,
      "outputs": []
    },
    {
      "cell_type": "code",
      "source": [
        "scaler.fit(dataset.drop('Purchased',axis=1))"
      ],
      "metadata": {
        "colab": {
          "base_uri": "https://localhost:8080/"
        },
        "id": "T3Uhl0KuPask",
        "outputId": "52349a6e-f8ee-49b3-ce92-721b22fc2954"
      },
      "execution_count": 29,
      "outputs": [
        {
          "output_type": "execute_result",
          "data": {
            "text/plain": [
              "StandardScaler()"
            ]
          },
          "metadata": {},
          "execution_count": 29
        }
      ]
    },
    {
      "cell_type": "code",
      "source": [
        "scaler_features=scaler.transform(dataset.drop('Purchased',axis=1))"
      ],
      "metadata": {
        "id": "yZSTiP3fPdiD"
      },
      "execution_count": 30,
      "outputs": []
    },
    {
      "cell_type": "code",
      "source": [
        "scaler_features"
      ],
      "metadata": {
        "colab": {
          "base_uri": "https://localhost:8080/"
        },
        "id": "gh-9m2BMPdwM",
        "outputId": "eb0f140c-5366-416f-f18f-07d8e88f2c9d"
      },
      "execution_count": 31,
      "outputs": [
        {
          "output_type": "execute_result",
          "data": {
            "text/plain": [
              "array([[-1.78179743, -1.49004624],\n",
              "       [-0.25358736, -1.46068138],\n",
              "       [-1.11320552, -0.78528968],\n",
              "       [-1.01769239, -0.37418169],\n",
              "       [-1.78179743,  0.18375059],\n",
              "       [-1.01769239, -0.34481683],\n",
              "       [-1.01769239,  0.41866944],\n",
              "       [-0.54012675,  2.35674998],\n",
              "       [-1.20871865, -1.07893824],\n",
              "       [-0.25358736, -0.13926283],\n",
              "       [-1.11320552,  0.30121002],\n",
              "       [-1.11320552, -0.52100597],\n",
              "       [-1.6862843 ,  0.47739916],\n",
              "       [-0.54012675, -1.51941109],\n",
              "       [-1.87731056,  0.35993973],\n",
              "       [-0.82666613,  0.30121002],\n",
              "       [ 0.89257019, -1.3138571 ],\n",
              "       [ 0.70154394, -1.28449224],\n",
              "       [ 0.79705706, -1.22576253],\n",
              "       [ 0.98808332, -1.19639767],\n",
              "       [ 0.70154394, -1.40195167],\n",
              "       [ 0.89257019, -0.60910054],\n",
              "       [ 0.98808332, -0.84401939],\n",
              "       [ 0.70154394, -1.40195167],\n",
              "       [ 0.79705706, -1.37258681],\n",
              "       [ 0.89257019, -1.46068138],\n",
              "       [ 1.08359645, -1.22576253],\n",
              "       [ 0.89257019, -1.16703281],\n",
              "       [-0.82666613, -0.78528968],\n",
              "       [-0.63563988, -1.51941109],\n",
              "       [-0.63563988,  0.12502088],\n",
              "       [-1.01769239,  1.97500684],\n",
              "       [-1.59077117, -1.5781408 ],\n",
              "       [-0.92217926, -0.75592482],\n",
              "       [-1.01769239,  0.59485858],\n",
              "       [-0.25358736, -1.25512738],\n",
              "       [-0.44461362, -1.22576253],\n",
              "       [-0.73115301, -0.60910054],\n",
              "       [-1.11320552,  0.06629116],\n",
              "       [-1.01769239, -1.13766796],\n",
              "       [-1.01769239, -1.54877595],\n",
              "       [-0.44461362, -0.55037082],\n",
              "       [-0.25358736,  1.123426  ],\n",
              "       [-0.73115301, -1.60750566],\n",
              "       [-0.92217926,  0.41866944],\n",
              "       [-1.39974491, -1.46068138],\n",
              "       [-1.20871865,  0.27184516],\n",
              "       [-1.01769239, -0.46227625],\n",
              "       [-0.73115301,  1.91627713],\n",
              "       [-0.63563988,  0.56549373],\n",
              "       [-1.30423178, -1.1083031 ],\n",
              "       [-1.87731056, -0.75592482],\n",
              "       [-0.82666613,  0.38930459],\n",
              "       [-0.25358736, -1.37258681],\n",
              "       [-1.01769239, -0.34481683],\n",
              "       [-1.30423178, -0.4329114 ],\n",
              "       [-1.39974491, -0.63846539],\n",
              "       [-0.92217926,  0.27184516],\n",
              "       [-1.49525804, -1.51941109],\n",
              "       [-0.54012675,  1.38770971],\n",
              "       [-1.01769239, -1.46068138],\n",
              "       [-1.20871865,  0.50676401],\n",
              "       [-1.39974491, -0.10989798],\n",
              "       [-0.54012675,  1.47580428],\n",
              "       [ 2.03872775,  0.38930459],\n",
              "       [-1.30423178, -0.34481683],\n",
              "       [-1.30423178, -1.49004624],\n",
              "       [-1.39974491,  0.35993973],\n",
              "       [-1.49525804, -0.19799255],\n",
              "       [-0.63563988, -0.05116826],\n",
              "       [-1.20871865,  0.30121002],\n",
              "       [-1.30423178, -1.25512738],\n",
              "       [-1.6862843 , -1.37258681],\n",
              "       [-0.44461362,  1.27025028],\n",
              "       [-0.54012675, -1.51941109],\n",
              "       [-0.34910049,  1.24088543],\n",
              "       [-1.87731056, -0.52100597],\n",
              "       [-1.49525804, -1.25512738],\n",
              "       [-0.92217926,  0.50676401],\n",
              "       [-1.11320552, -1.54877595],\n",
              "       [-0.73115301,  0.30121002],\n",
              "       [ 0.12846516, -0.81465453],\n",
              "       [-1.6862843 , -0.60910054],\n",
              "       [-0.25358736,  0.53612887],\n",
              "       [-0.73115301, -0.2273574 ],\n",
              "       [-0.63563988,  1.41707457],\n",
              "       [-1.30423178, -0.4329114 ],\n",
              "       [-0.92217926,  0.4480343 ],\n",
              "       [-1.11320552,  0.33057487],\n",
              "       [-0.25358736, -0.57973568],\n",
              "       [-1.49525804,  0.33057487],\n",
              "       [-0.73115301,  1.35834485],\n",
              "       [-1.11320552, -1.60750566],\n",
              "       [-0.82666613, -1.22576253],\n",
              "       [-0.82666613,  0.38930459],\n",
              "       [-0.25358736, -0.75592482],\n",
              "       [-0.25358736, -1.3138571 ],\n",
              "       [-0.92217926,  1.56389885],\n",
              "       [-0.25358736,  0.09565602],\n",
              "       [-0.92217926, -0.96147882],\n",
              "       [-1.01769239,  0.53612887],\n",
              "       [-0.92217926, -0.31545197],\n",
              "       [-0.54012675,  0.47739916],\n",
              "       [-0.44461362,  2.32738512],\n",
              "       [-1.78179743, -1.43131652],\n",
              "       [-1.59077117,  0.06629116],\n",
              "       [-1.11320552, -1.02020853],\n",
              "       [-1.01769239,  0.56549373],\n",
              "       [-1.11320552,  0.47739916],\n",
              "       [ 0.03295203,  0.30121002],\n",
              "       [ 0.12846516,  0.03692631],\n",
              "       [-0.0625611 ,  0.03692631],\n",
              "       [ 0.03295203, -0.25672226],\n",
              "       [-0.0625611 , -0.4329114 ],\n",
              "       [ 0.41500455,  0.30121002],\n",
              "       [ 0.22397829, -0.37418169],\n",
              "       [-0.25358736,  0.15438573],\n",
              "       [-0.15807423, -0.52100597],\n",
              "       [ 0.22397829, -0.31545197],\n",
              "       [ 0.31949142, -0.31545197],\n",
              "       [-0.15807423,  0.15438573],\n",
              "       [-0.0625611 ,  0.06629116],\n",
              "       [ 0.22397829,  0.15438573],\n",
              "       [-0.25358736, -0.49164111],\n",
              "       [ 0.31949142, -0.55037082],\n",
              "       [ 0.12846516, -0.25672226],\n",
              "       [ 0.41500455, -0.13926283],\n",
              "       [-1.11320552, -1.1083031 ],\n",
              "       [-0.73115301, -1.54877595],\n",
              "       [-1.11320552,  0.41866944],\n",
              "       [-0.63563988, -0.34481683],\n",
              "       [-0.44461362, -1.13766796],\n",
              "       [-0.73115301,  0.50676401],\n",
              "       [-1.59077117, -0.05116826],\n",
              "       [-0.92217926, -0.4329114 ],\n",
              "       [-1.39974491, -0.19799255],\n",
              "       [-1.6862843 ,  0.35993973],\n",
              "       [-0.73115301,  1.09406114],\n",
              "       [-0.92217926, -0.31545197],\n",
              "       [-1.78179743, -1.3138571 ],\n",
              "       [-1.78179743,  0.4480343 ],\n",
              "       [-1.87731056, -0.05116826],\n",
              "       [-0.25358736, -0.31545197],\n",
              "       [-0.73115301,  0.56549373],\n",
              "       [-0.34910049, -1.3138571 ],\n",
              "       [-1.30423178,  0.56549373],\n",
              "       [-1.01769239,  0.77104772],\n",
              "       [ 0.31949142, -1.16703281],\n",
              "       [-0.82666613, -0.25672226],\n",
              "       [-1.6862843 ,  0.12502088],\n",
              "       [-1.11320552, -1.60750566],\n",
              "       [ 0.31949142, -0.72655996],\n",
              "       [-0.63563988,  0.18375059],\n",
              "       [-0.15807423, -0.57973568],\n",
              "       [ 0.22397829, -0.66783025],\n",
              "       [-0.63563988, -1.60750566],\n",
              "       [ 0.79705706, -0.31545197],\n",
              "       [-0.82666613,  0.15438573],\n",
              "       [-1.11320552, -1.16703281],\n",
              "       [-0.54012675,  1.91627713],\n",
              "       [-0.54012675,  0.88850715],\n",
              "       [-1.20871865,  0.59485858],\n",
              "       [-0.0625611 , -1.07893824],\n",
              "       [-0.25358736, -0.93211396],\n",
              "       [-0.44461362, -0.02180341],\n",
              "       [-1.87731056,  0.47739916],\n",
              "       [-1.49525804, -0.4329114 ],\n",
              "       [-0.25358736,  0.03692631],\n",
              "       [-0.82666613,  2.29802026],\n",
              "       [-0.82666613, -0.66783025],\n",
              "       [-1.59077117,  0.53612887],\n",
              "       [-0.34910049,  1.32898   ],\n",
              "       [-1.11320552,  1.41707457],\n",
              "       [-0.34910049, -0.78528968],\n",
              "       [-0.34910049,  0.06629116],\n",
              "       [-1.39974491, -1.22576253],\n",
              "       [-0.25358736, -0.66783025],\n",
              "       [-1.20871865, -1.40195167],\n",
              "       [-1.30423178, -1.37258681],\n",
              "       [-0.63563988, -1.04957339],\n",
              "       [-1.11320552, -1.5781408 ],\n",
              "       [-0.63563988,  0.03692631],\n",
              "       [-0.54012675,  1.38770971],\n",
              "       [-0.44461362, -0.78528968],\n",
              "       [-0.44461362, -0.28608712],\n",
              "       [-0.63563988, -0.10989798],\n",
              "       [-1.6862843 ,  0.35993973],\n",
              "       [-0.44461362, -0.84401939],\n",
              "       [-0.25358736,  0.06629116],\n",
              "       [-0.92217926, -1.1083031 ],\n",
              "       [-1.30423178,  0.41866944],\n",
              "       [-1.78179743, -1.28449224],\n",
              "       [-0.82666613, -0.78528968],\n",
              "       [-1.78179743,  0.00756145],\n",
              "       [-0.92217926,  0.56549373],\n",
              "       [-0.34910049, -0.78528968],\n",
              "       [-0.73115301,  0.27184516],\n",
              "       [-1.6862843 , -0.99084367],\n",
              "       [-1.11320552,  0.30121002],\n",
              "       [-0.25358736, -1.40195167],\n",
              "       [-0.25358736, -0.9027491 ],\n",
              "       [ 1.08359645,  0.12502088],\n",
              "       [ 0.12846516,  1.88691227],\n",
              "       [ 0.31949142,  0.03692631],\n",
              "       [ 1.94321462,  0.917872  ],\n",
              "       [ 0.89257019, -0.66783025],\n",
              "       [ 1.65667523,  1.76945285],\n",
              "       [ 1.37013584,  1.29961514],\n",
              "       [ 0.22397829,  2.12183112],\n",
              "       [ 0.79705706, -1.40195167],\n",
              "       [ 0.98808332,  0.77104772],\n",
              "       [ 1.37013584,  2.35674998],\n",
              "       [ 2.03872775, -0.81465453],\n",
              "       [-0.25358736, -0.34481683],\n",
              "       [ 0.89257019, -0.78528968],\n",
              "       [ 2.13424088,  1.123426  ],\n",
              "       [ 1.08359645, -0.13926283],\n",
              "       [ 0.22397829,  0.2424803 ],\n",
              "       [ 0.79705706,  0.77104772],\n",
              "       [ 2.03872775,  2.15119598],\n",
              "       [ 0.31949142,  0.30121002],\n",
              "       [-0.25358736,  0.62422344],\n",
              "       [-0.0625611 ,  2.18056084],\n",
              "       [ 2.13424088,  0.94723686],\n",
              "       [-0.25358736, -0.28608712],\n",
              "       [-0.0625611 , -0.49164111],\n",
              "       [-0.15807423,  1.65199342],\n",
              "       [ 1.75218836,  1.85754742],\n",
              "       [ 0.22397829,  0.06629116],\n",
              "       [ 0.41500455,  0.30121002],\n",
              "       [-0.25358736,  2.26865541],\n",
              "       [ 0.12846516, -0.81465453],\n",
              "       [ 0.22397829,  1.09406114],\n",
              "       [ 1.08359645,  0.47739916],\n",
              "       [ 0.03295203,  1.24088543],\n",
              "       [ 0.79705706,  0.27184516],\n",
              "       [ 0.22397829, -0.37418169],\n",
              "       [-0.0625611 ,  0.30121002],\n",
              "       [ 0.79705706,  0.35993973],\n",
              "       [ 1.46564897,  2.15119598],\n",
              "       [ 0.41500455,  2.32738512],\n",
              "       [ 0.03295203, -0.31545197],\n",
              "       [ 1.17910958,  0.53612887],\n",
              "       [ 1.75218836,  1.00596657],\n",
              "       [ 0.31949142,  0.06629116],\n",
              "       [ 1.27462271,  2.23929055],\n",
              "       [-0.25358736, -0.57973568],\n",
              "       [ 1.84770149,  1.53453399],\n",
              "       [ 0.31949142, -0.52100597],\n",
              "       [-0.25358736,  0.80041258],\n",
              "       [ 0.60603081, -0.9027491 ],\n",
              "       [-0.0625611 , -0.52100597],\n",
              "       [ 0.98808332,  1.88691227],\n",
              "       [-0.0625611 ,  2.23929055],\n",
              "       [ 1.17910958, -0.75592482],\n",
              "       [ 1.37013584,  0.59485858],\n",
              "       [ 0.31949142,  0.06629116],\n",
              "       [ 0.22397829, -0.37418169],\n",
              "       [ 1.94321462,  0.74168287],\n",
              "       [ 0.70154394,  1.7988177 ],\n",
              "       [-0.25358736,  0.21311545],\n",
              "       [-0.15807423,  2.18056084],\n",
              "       [ 1.65667523,  1.62262856],\n",
              "       [-0.25358736,  0.06629116],\n",
              "       [ 0.98808332,  0.59485858],\n",
              "       [ 0.41500455,  1.123426  ],\n",
              "       [ 0.22397829,  0.15438573],\n",
              "       [-0.0625611 ,  0.12502088],\n",
              "       [ 0.89257019,  2.18056084],\n",
              "       [ 0.22397829, -0.25672226],\n",
              "       [ 0.51051768,  1.85754742],\n",
              "       [ 2.03872775,  0.18375059],\n",
              "       [ 2.13424088, -0.81465453],\n",
              "       [ 0.12846516,  1.06469629],\n",
              "       [ 1.84770149, -1.28449224],\n",
              "       [ 1.84770149,  0.12502088],\n",
              "       [ 0.03295203,  0.03692631],\n",
              "       [ 1.08359645,  0.53612887],\n",
              "       [ 1.37013584, -0.93211396],\n",
              "       [ 1.17910958, -0.99084367],\n",
              "       [ 2.03872775,  0.53612887],\n",
              "       [-0.25358736, -0.25672226],\n",
              "       [-0.0625611 ,  0.00756145],\n",
              "       [ 1.37013584, -1.43131652],\n",
              "       [ 0.98808332,  2.09246627],\n",
              "       [-0.0625611 ,  0.68295315],\n",
              "       [-0.0625611 , -0.2273574 ],\n",
              "       [ 0.98808332,  2.0043717 ],\n",
              "       [ 0.31949142,  0.27184516],\n",
              "       [-0.0625611 ,  0.2424803 ],\n",
              "       [ 0.12846516,  1.88691227],\n",
              "       [ 1.08359645,  0.56549373],\n",
              "       [ 1.65667523, -0.9027491 ],\n",
              "       [-0.0625611 ,  0.21311545],\n",
              "       [-0.25358736, -0.37418169],\n",
              "       [-0.15807423, -0.19799255],\n",
              "       [ 0.41500455,  0.09565602],\n",
              "       [ 0.51051768,  1.24088543],\n",
              "       [ 0.70154394,  0.27184516],\n",
              "       [ 0.79705706,  1.38770971],\n",
              "       [ 1.94321462, -0.93211396],\n",
              "       [ 0.98808332,  0.12502088],\n",
              "       [-0.0625611 ,  1.97500684],\n",
              "       [-0.0625611 ,  0.27184516],\n",
              "       [ 0.22397829, -0.28608712],\n",
              "       [ 0.41500455, -0.46227625],\n",
              "       [ 1.27462271,  1.88691227],\n",
              "       [ 0.89257019,  1.27025028],\n",
              "       [-0.15807423,  1.62262856],\n",
              "       [ 0.03295203, -0.57973568],\n",
              "       [ 0.41500455,  0.00756145],\n",
              "       [ 0.12846516,  0.77104772],\n",
              "       [ 0.03295203, -0.57973568],\n",
              "       [ 1.08359645,  2.09246627],\n",
              "       [ 0.12846516,  0.27184516],\n",
              "       [ 0.12846516,  0.15438573],\n",
              "       [ 1.5611621 ,  1.00596657],\n",
              "       [-0.25358736, -0.4329114 ],\n",
              "       [ 0.70154394, -1.1083031 ],\n",
              "       [-0.15807423, -0.28608712],\n",
              "       [ 1.37013584,  2.0043717 ],\n",
              "       [ 1.46564897,  0.35993973],\n",
              "       [ 0.31949142, -0.52100597],\n",
              "       [ 0.98808332, -1.16703281],\n",
              "       [ 0.98808332,  1.7988177 ],\n",
              "       [ 0.31949142, -0.28608712],\n",
              "       [ 0.31949142,  0.06629116],\n",
              "       [ 0.41500455,  0.15438573],\n",
              "       [-0.15807423,  1.41707457],\n",
              "       [ 0.89257019,  1.09406114],\n",
              "       [ 0.03295203, -0.55037082],\n",
              "       [ 0.98808332,  1.44643942],\n",
              "       [ 0.41500455, -0.13926283],\n",
              "       [ 0.22397829, -0.13926283],\n",
              "       [ 1.84770149, -0.28608712],\n",
              "       [-0.15807423, -0.46227625],\n",
              "       [ 1.94321462,  2.18056084],\n",
              "       [-0.25358736,  0.27184516],\n",
              "       [ 0.03295203, -0.4329114 ],\n",
              "       [ 0.12846516,  1.53453399],\n",
              "       [ 1.46564897,  1.00596657],\n",
              "       [-0.25358736,  0.15438573],\n",
              "       [ 0.03295203, -0.13926283],\n",
              "       [ 0.89257019, -0.55037082],\n",
              "       [ 0.89257019,  1.03533143],\n",
              "       [ 0.31949142, -0.19799255],\n",
              "       [ 1.46564897,  0.06629116],\n",
              "       [ 1.5611621 ,  1.123426  ],\n",
              "       [ 0.12846516,  0.21311545],\n",
              "       [ 0.03295203, -0.25672226],\n",
              "       [ 0.03295203,  1.27025028],\n",
              "       [-0.0625611 ,  0.15438573],\n",
              "       [ 0.41500455,  0.59485858],\n",
              "       [-0.0625611 , -0.37418169],\n",
              "       [-0.15807423,  0.85914229],\n",
              "       [ 2.13424088, -1.04957339],\n",
              "       [ 1.5611621 ,  0.00756145],\n",
              "       [ 0.31949142,  0.06629116],\n",
              "       [ 0.22397829,  0.03692631],\n",
              "       [ 0.41500455, -0.46227625],\n",
              "       [ 0.51051768,  1.74008799],\n",
              "       [ 1.46564897, -1.04957339],\n",
              "       [ 0.89257019, -0.57973568],\n",
              "       [ 0.41500455,  0.27184516],\n",
              "       [ 0.41500455,  1.00596657],\n",
              "       [ 2.03872775, -1.19639767],\n",
              "       [ 1.94321462, -0.66783025],\n",
              "       [ 0.79705706,  0.53612887],\n",
              "       [ 0.03295203,  0.03692631],\n",
              "       [ 1.5611621 , -1.28449224],\n",
              "       [ 2.13424088, -0.69719511],\n",
              "       [ 2.13424088,  0.38930459],\n",
              "       [ 0.12846516,  0.09565602],\n",
              "       [ 2.03872775,  1.76945285],\n",
              "       [-0.0625611 ,  0.30121002],\n",
              "       [ 0.79705706, -1.1083031 ],\n",
              "       [ 0.79705706,  0.12502088],\n",
              "       [ 0.41500455, -0.49164111],\n",
              "       [ 0.31949142,  0.50676401],\n",
              "       [ 1.94321462, -1.37258681],\n",
              "       [ 0.41500455, -0.16862769],\n",
              "       [ 0.98808332, -1.07893824],\n",
              "       [ 0.60603081,  2.03373655],\n",
              "       [ 1.08359645, -1.22576253],\n",
              "       [ 1.84770149, -1.07893824],\n",
              "       [ 1.75218836, -0.28608712],\n",
              "       [ 1.08359645, -0.9027491 ],\n",
              "       [ 0.12846516,  0.03692631],\n",
              "       [ 0.89257019, -1.04957339],\n",
              "       [ 0.98808332, -1.02020853],\n",
              "       [ 0.98808332, -1.07893824],\n",
              "       [ 0.89257019, -1.37258681],\n",
              "       [ 0.70154394, -0.72655996],\n",
              "       [ 2.13424088, -0.81465453],\n",
              "       [ 0.12846516, -0.31545197],\n",
              "       [ 0.79705706, -0.84401939],\n",
              "       [ 1.27462271, -1.37258681],\n",
              "       [ 1.17910958, -1.46068138],\n",
              "       [-0.15807423, -1.07893824],\n",
              "       [ 1.08359645, -0.99084367]])"
            ]
          },
          "metadata": {},
          "execution_count": 31
        }
      ]
    },
    {
      "cell_type": "code",
      "source": [
        "standardized_dataset=pd.DataFrame(scaler_features,columns=['Age','EnstimatedSalary'])"
      ],
      "metadata": {
        "id": "y-fZyo8dPr3l"
      },
      "execution_count": 32,
      "outputs": []
    },
    {
      "cell_type": "code",
      "source": [
        "standardized_dataset"
      ],
      "metadata": {
        "colab": {
          "base_uri": "https://localhost:8080/",
          "height": 423
        },
        "id": "gHbMGCWuPtWG",
        "outputId": "d11763fc-b9fb-430a-e166-01d5031b36ff"
      },
      "execution_count": 33,
      "outputs": [
        {
          "output_type": "execute_result",
          "data": {
            "text/plain": [
              "          Age  EnstimatedSalary\n",
              "0   -1.781797         -1.490046\n",
              "1   -0.253587         -1.460681\n",
              "2   -1.113206         -0.785290\n",
              "3   -1.017692         -0.374182\n",
              "4   -1.781797          0.183751\n",
              "..        ...               ...\n",
              "395  0.797057         -0.844019\n",
              "396  1.274623         -1.372587\n",
              "397  1.179110         -1.460681\n",
              "398 -0.158074         -1.078938\n",
              "399  1.083596         -0.990844\n",
              "\n",
              "[400 rows x 2 columns]"
            ],
            "text/html": [
              "\n",
              "  <div id=\"df-5919fca0-eac5-42e7-8031-644955526b05\">\n",
              "    <div class=\"colab-df-container\">\n",
              "      <div>\n",
              "<style scoped>\n",
              "    .dataframe tbody tr th:only-of-type {\n",
              "        vertical-align: middle;\n",
              "    }\n",
              "\n",
              "    .dataframe tbody tr th {\n",
              "        vertical-align: top;\n",
              "    }\n",
              "\n",
              "    .dataframe thead th {\n",
              "        text-align: right;\n",
              "    }\n",
              "</style>\n",
              "<table border=\"1\" class=\"dataframe\">\n",
              "  <thead>\n",
              "    <tr style=\"text-align: right;\">\n",
              "      <th></th>\n",
              "      <th>Age</th>\n",
              "      <th>EnstimatedSalary</th>\n",
              "    </tr>\n",
              "  </thead>\n",
              "  <tbody>\n",
              "    <tr>\n",
              "      <th>0</th>\n",
              "      <td>-1.781797</td>\n",
              "      <td>-1.490046</td>\n",
              "    </tr>\n",
              "    <tr>\n",
              "      <th>1</th>\n",
              "      <td>-0.253587</td>\n",
              "      <td>-1.460681</td>\n",
              "    </tr>\n",
              "    <tr>\n",
              "      <th>2</th>\n",
              "      <td>-1.113206</td>\n",
              "      <td>-0.785290</td>\n",
              "    </tr>\n",
              "    <tr>\n",
              "      <th>3</th>\n",
              "      <td>-1.017692</td>\n",
              "      <td>-0.374182</td>\n",
              "    </tr>\n",
              "    <tr>\n",
              "      <th>4</th>\n",
              "      <td>-1.781797</td>\n",
              "      <td>0.183751</td>\n",
              "    </tr>\n",
              "    <tr>\n",
              "      <th>...</th>\n",
              "      <td>...</td>\n",
              "      <td>...</td>\n",
              "    </tr>\n",
              "    <tr>\n",
              "      <th>395</th>\n",
              "      <td>0.797057</td>\n",
              "      <td>-0.844019</td>\n",
              "    </tr>\n",
              "    <tr>\n",
              "      <th>396</th>\n",
              "      <td>1.274623</td>\n",
              "      <td>-1.372587</td>\n",
              "    </tr>\n",
              "    <tr>\n",
              "      <th>397</th>\n",
              "      <td>1.179110</td>\n",
              "      <td>-1.460681</td>\n",
              "    </tr>\n",
              "    <tr>\n",
              "      <th>398</th>\n",
              "      <td>-0.158074</td>\n",
              "      <td>-1.078938</td>\n",
              "    </tr>\n",
              "    <tr>\n",
              "      <th>399</th>\n",
              "      <td>1.083596</td>\n",
              "      <td>-0.990844</td>\n",
              "    </tr>\n",
              "  </tbody>\n",
              "</table>\n",
              "<p>400 rows × 2 columns</p>\n",
              "</div>\n",
              "      <button class=\"colab-df-convert\" onclick=\"convertToInteractive('df-5919fca0-eac5-42e7-8031-644955526b05')\"\n",
              "              title=\"Convert this dataframe to an interactive table.\"\n",
              "              style=\"display:none;\">\n",
              "        \n",
              "  <svg xmlns=\"http://www.w3.org/2000/svg\" height=\"24px\"viewBox=\"0 0 24 24\"\n",
              "       width=\"24px\">\n",
              "    <path d=\"M0 0h24v24H0V0z\" fill=\"none\"/>\n",
              "    <path d=\"M18.56 5.44l.94 2.06.94-2.06 2.06-.94-2.06-.94-.94-2.06-.94 2.06-2.06.94zm-11 1L8.5 8.5l.94-2.06 2.06-.94-2.06-.94L8.5 2.5l-.94 2.06-2.06.94zm10 10l.94 2.06.94-2.06 2.06-.94-2.06-.94-.94-2.06-.94 2.06-2.06.94z\"/><path d=\"M17.41 7.96l-1.37-1.37c-.4-.4-.92-.59-1.43-.59-.52 0-1.04.2-1.43.59L10.3 9.45l-7.72 7.72c-.78.78-.78 2.05 0 2.83L4 21.41c.39.39.9.59 1.41.59.51 0 1.02-.2 1.41-.59l7.78-7.78 2.81-2.81c.8-.78.8-2.07 0-2.86zM5.41 20L4 18.59l7.72-7.72 1.47 1.35L5.41 20z\"/>\n",
              "  </svg>\n",
              "      </button>\n",
              "      \n",
              "  <style>\n",
              "    .colab-df-container {\n",
              "      display:flex;\n",
              "      flex-wrap:wrap;\n",
              "      gap: 12px;\n",
              "    }\n",
              "\n",
              "    .colab-df-convert {\n",
              "      background-color: #E8F0FE;\n",
              "      border: none;\n",
              "      border-radius: 50%;\n",
              "      cursor: pointer;\n",
              "      display: none;\n",
              "      fill: #1967D2;\n",
              "      height: 32px;\n",
              "      padding: 0 0 0 0;\n",
              "      width: 32px;\n",
              "    }\n",
              "\n",
              "    .colab-df-convert:hover {\n",
              "      background-color: #E2EBFA;\n",
              "      box-shadow: 0px 1px 2px rgba(60, 64, 67, 0.3), 0px 1px 3px 1px rgba(60, 64, 67, 0.15);\n",
              "      fill: #174EA6;\n",
              "    }\n",
              "\n",
              "    [theme=dark] .colab-df-convert {\n",
              "      background-color: #3B4455;\n",
              "      fill: #D2E3FC;\n",
              "    }\n",
              "\n",
              "    [theme=dark] .colab-df-convert:hover {\n",
              "      background-color: #434B5C;\n",
              "      box-shadow: 0px 1px 3px 1px rgba(0, 0, 0, 0.15);\n",
              "      filter: drop-shadow(0px 1px 2px rgba(0, 0, 0, 0.3));\n",
              "      fill: #FFFFFF;\n",
              "    }\n",
              "  </style>\n",
              "\n",
              "      <script>\n",
              "        const buttonEl =\n",
              "          document.querySelector('#df-5919fca0-eac5-42e7-8031-644955526b05 button.colab-df-convert');\n",
              "        buttonEl.style.display =\n",
              "          google.colab.kernel.accessAllowed ? 'block' : 'none';\n",
              "\n",
              "        async function convertToInteractive(key) {\n",
              "          const element = document.querySelector('#df-5919fca0-eac5-42e7-8031-644955526b05');\n",
              "          const dataTable =\n",
              "            await google.colab.kernel.invokeFunction('convertToInteractive',\n",
              "                                                     [key], {});\n",
              "          if (!dataTable) return;\n",
              "\n",
              "          const docLinkHtml = 'Like what you see? Visit the ' +\n",
              "            '<a target=\"_blank\" href=https://colab.research.google.com/notebooks/data_table.ipynb>data table notebook</a>'\n",
              "            + ' to learn more about interactive tables.';\n",
              "          element.innerHTML = '';\n",
              "          dataTable['output_type'] = 'display_data';\n",
              "          await google.colab.output.renderOutput(dataTable, element);\n",
              "          const docLink = document.createElement('div');\n",
              "          docLink.innerHTML = docLinkHtml;\n",
              "          element.appendChild(docLink);\n",
              "        }\n",
              "      </script>\n",
              "    </div>\n",
              "  </div>\n",
              "  "
            ]
          },
          "metadata": {},
          "execution_count": 33
        }
      ]
    },
    {
      "cell_type": "markdown",
      "source": [
        "#**Traning model**"
      ],
      "metadata": {
        "id": "PancO-9EQERc"
      }
    },
    {
      "cell_type": "code",
      "source": [
        "from sklearn.model_selection import train_test_split"
      ],
      "metadata": {
        "id": "UU0GLnNeQLtj"
      },
      "execution_count": 34,
      "outputs": []
    },
    {
      "cell_type": "code",
      "source": [
        "x_train,x_test,y_train,y_test=train_test_split(standardized_dataset,dataset['Purchased'],test_size=0.30,random_state=101)"
      ],
      "metadata": {
        "id": "rw7tyndoQPOe"
      },
      "execution_count": 37,
      "outputs": []
    },
    {
      "cell_type": "code",
      "source": [
        "x_train.shape"
      ],
      "metadata": {
        "colab": {
          "base_uri": "https://localhost:8080/"
        },
        "id": "gF1anMpmQPSX",
        "outputId": "99781d5c-e1fb-4768-ff6a-559dda030a58"
      },
      "execution_count": 38,
      "outputs": [
        {
          "output_type": "execute_result",
          "data": {
            "text/plain": [
              "(280, 2)"
            ]
          },
          "metadata": {},
          "execution_count": 38
        }
      ]
    },
    {
      "cell_type": "code",
      "source": [
        "x_test.shape"
      ],
      "metadata": {
        "colab": {
          "base_uri": "https://localhost:8080/"
        },
        "id": "34prM2VVQZ9-",
        "outputId": "e6471df9-09f9-4ab1-bb27-b87349f73c4a"
      },
      "execution_count": 39,
      "outputs": [
        {
          "output_type": "execute_result",
          "data": {
            "text/plain": [
              "(120, 2)"
            ]
          },
          "metadata": {},
          "execution_count": 39
        }
      ]
    },
    {
      "cell_type": "code",
      "source": [
        "y_test.shape"
      ],
      "metadata": {
        "colab": {
          "base_uri": "https://localhost:8080/"
        },
        "id": "77enwYJkQaGU",
        "outputId": "98b64350-8ea0-453b-a4c6-bc4666ac49ee"
      },
      "execution_count": 40,
      "outputs": [
        {
          "output_type": "execute_result",
          "data": {
            "text/plain": [
              "(120,)"
            ]
          },
          "metadata": {},
          "execution_count": 40
        }
      ]
    },
    {
      "cell_type": "code",
      "source": [
        "y_train.shape"
      ],
      "metadata": {
        "colab": {
          "base_uri": "https://localhost:8080/"
        },
        "id": "2xiuHdq7QaS0",
        "outputId": "1c60e34c-1e0c-4033-ad89-3e6009de55c6"
      },
      "execution_count": 41,
      "outputs": [
        {
          "output_type": "execute_result",
          "data": {
            "text/plain": [
              "(280,)"
            ]
          },
          "metadata": {},
          "execution_count": 41
        }
      ]
    },
    {
      "cell_type": "markdown",
      "source": [
        "We use the different machine learning classification alogrithms and then observe which algorithm accuracy are best for our model."
      ],
      "metadata": {
        "id": "BtJlx4QiQjKD"
      }
    },
    {
      "cell_type": "markdown",
      "source": [
        "#Decision Tree Algorithm"
      ],
      "metadata": {
        "id": "LajHNQeZRYBf"
      }
    },
    {
      "cell_type": "code",
      "source": [
        "from sklearn.tree import DecisionTreeClassifier"
      ],
      "metadata": {
        "id": "B9m_2P6xRVP9"
      },
      "execution_count": 42,
      "outputs": []
    },
    {
      "cell_type": "code",
      "source": [
        "DTC=DecisionTreeClassifier()"
      ],
      "metadata": {
        "id": "agYY8CEaRf70"
      },
      "execution_count": 43,
      "outputs": []
    },
    {
      "cell_type": "code",
      "source": [
        "DTC.fit(x_train,y_train)"
      ],
      "metadata": {
        "id": "WNprhb51RgGl",
        "colab": {
          "base_uri": "https://localhost:8080/"
        },
        "outputId": "f9774c7d-fc39-447a-9535-2bd47e1b4de9"
      },
      "execution_count": 44,
      "outputs": [
        {
          "output_type": "execute_result",
          "data": {
            "text/plain": [
              "DecisionTreeClassifier()"
            ]
          },
          "metadata": {},
          "execution_count": 44
        }
      ]
    },
    {
      "cell_type": "code",
      "source": [
        "pred=DTC.predict(x_test)"
      ],
      "metadata": {
        "id": "w098daiQVJ0P"
      },
      "execution_count": 45,
      "outputs": []
    },
    {
      "cell_type": "code",
      "source": [
        "from sklearn.metrics import confusion_matrix"
      ],
      "metadata": {
        "id": "HnzpIcHSVKGF"
      },
      "execution_count": 46,
      "outputs": []
    },
    {
      "cell_type": "code",
      "source": [
        "print(confusion_matrix(y_test,pred))"
      ],
      "metadata": {
        "colab": {
          "base_uri": "https://localhost:8080/"
        },
        "id": "IMCiTSc8VPj_",
        "outputId": "110f4195-10b6-4657-99fc-ef99d1d4c47e"
      },
      "execution_count": 47,
      "outputs": [
        {
          "output_type": "stream",
          "name": "stdout",
          "text": [
            "[[72  8]\n",
            " [ 6 34]]\n"
          ]
        }
      ]
    },
    {
      "cell_type": "code",
      "source": [
        "70+35/120*100"
      ],
      "metadata": {
        "colab": {
          "base_uri": "https://localhost:8080/"
        },
        "id": "qzVs0GiFVPnJ",
        "outputId": "8d5f3f69-b81f-4f10-ee64-f695264e3eaa"
      },
      "execution_count": 48,
      "outputs": [
        {
          "output_type": "execute_result",
          "data": {
            "text/plain": [
              "99.16666666666667"
            ]
          },
          "metadata": {},
          "execution_count": 48
        }
      ]
    },
    {
      "cell_type": "markdown",
      "source": [
        "#**support vector machine SVM-Algorithm**"
      ],
      "metadata": {
        "id": "dGzmJBRWVd8L"
      }
    },
    {
      "cell_type": "markdown",
      "source": [
        "social_network data used for this model...upto train_test_split step are same ..before that below step follow"
      ],
      "metadata": {
        "id": "HspEG0BDV039"
      }
    },
    {
      "cell_type": "code",
      "source": [
        "from sklearn.svm import SVC"
      ],
      "metadata": {
        "id": "FvWgpJcQVPqm"
      },
      "execution_count": 49,
      "outputs": []
    },
    {
      "cell_type": "code",
      "source": [
        "classifier=SVC()"
      ],
      "metadata": {
        "id": "LPGzC8xcVPtd"
      },
      "execution_count": 50,
      "outputs": []
    },
    {
      "cell_type": "code",
      "source": [
        "classifier.fit(x_train,y_train)"
      ],
      "metadata": {
        "colab": {
          "base_uri": "https://localhost:8080/"
        },
        "id": "VIp2dFkTWCiA",
        "outputId": "c5eb5265-6160-4b7e-fc0b-ae68cf79e947"
      },
      "execution_count": 51,
      "outputs": [
        {
          "output_type": "execute_result",
          "data": {
            "text/plain": [
              "SVC()"
            ]
          },
          "metadata": {},
          "execution_count": 51
        }
      ]
    },
    {
      "cell_type": "code",
      "source": [
        "pred=classifier.predict(x_test)"
      ],
      "metadata": {
        "id": "XziGdgs6WClS"
      },
      "execution_count": 52,
      "outputs": []
    },
    {
      "cell_type": "code",
      "source": [
        "from sklearn.metrics import accuracy_score,confusion_matrix"
      ],
      "metadata": {
        "id": "Mqs-I4LSWPLO"
      },
      "execution_count": 53,
      "outputs": []
    },
    {
      "cell_type": "code",
      "source": [
        "acc=accuracy_score(y_test,pred)"
      ],
      "metadata": {
        "id": "09GOzWKxWPSc"
      },
      "execution_count": 54,
      "outputs": []
    },
    {
      "cell_type": "code",
      "source": [
        "acc"
      ],
      "metadata": {
        "colab": {
          "base_uri": "https://localhost:8080/"
        },
        "id": "w-HZO42bWPb5",
        "outputId": "cf45a14f-6937-4873-d013-c7b7b73ef687"
      },
      "execution_count": 55,
      "outputs": [
        {
          "output_type": "execute_result",
          "data": {
            "text/plain": [
              "0.9333333333333333"
            ]
          },
          "metadata": {},
          "execution_count": 55
        }
      ]
    },
    {
      "cell_type": "code",
      "source": [
        "acc*100"
      ],
      "metadata": {
        "colab": {
          "base_uri": "https://localhost:8080/"
        },
        "id": "cjq7tzOyWZgu",
        "outputId": "1f6a9360-6a9c-4f32-972b-3e354df91aef"
      },
      "execution_count": 56,
      "outputs": [
        {
          "output_type": "execute_result",
          "data": {
            "text/plain": [
              "93.33333333333333"
            ]
          },
          "metadata": {},
          "execution_count": 56
        }
      ]
    },
    {
      "cell_type": "code",
      "source": [
        "print(confusion_matrix(y_test,pred))"
      ],
      "metadata": {
        "colab": {
          "base_uri": "https://localhost:8080/"
        },
        "id": "EglgIDOSWZj-",
        "outputId": "fb191713-8ea5-416c-8a90-aa5513739f43"
      },
      "execution_count": 57,
      "outputs": [
        {
          "output_type": "stream",
          "name": "stdout",
          "text": [
            "[[73  7]\n",
            " [ 1 39]]\n"
          ]
        }
      ]
    },
    {
      "cell_type": "code",
      "source": [
        "(73+39)/120*100"
      ],
      "metadata": {
        "colab": {
          "base_uri": "https://localhost:8080/"
        },
        "id": "L5IEgxBCWZu5",
        "outputId": "3d968d49-59fd-4f44-c41d-27281a3dec7c"
      },
      "execution_count": 58,
      "outputs": [
        {
          "output_type": "execute_result",
          "data": {
            "text/plain": [
              "93.33333333333333"
            ]
          },
          "metadata": {},
          "execution_count": 58
        }
      ]
    },
    {
      "cell_type": "markdown",
      "source": [
        "#**Random forest Algorithm**"
      ],
      "metadata": {
        "id": "1i2mog6RWsUT"
      }
    },
    {
      "cell_type": "markdown",
      "source": [
        "social_network data used for this model...upto train_test_split step are same ..before that below step run"
      ],
      "metadata": {
        "id": "aLlummVSW6MN"
      }
    },
    {
      "cell_type": "code",
      "source": [
        "from sklearn.ensemble import RandomForestClassifier"
      ],
      "metadata": {
        "id": "hgNlaZTjWxvB"
      },
      "execution_count": 85,
      "outputs": []
    },
    {
      "cell_type": "code",
      "source": [
        "rfc=RandomForestClassifier(n_estimators=100)"
      ],
      "metadata": {
        "id": "q4Gd6hy2Wx2j"
      },
      "execution_count": 86,
      "outputs": []
    },
    {
      "cell_type": "code",
      "source": [
        "rfc.fit(x_train,y_train)"
      ],
      "metadata": {
        "colab": {
          "base_uri": "https://localhost:8080/"
        },
        "id": "gfkVOc4WWx53",
        "outputId": "7630ece3-61a3-487c-bf2d-ce2867232261"
      },
      "execution_count": 87,
      "outputs": [
        {
          "output_type": "execute_result",
          "data": {
            "text/plain": [
              "RandomForestClassifier()"
            ]
          },
          "metadata": {},
          "execution_count": 87
        }
      ]
    },
    {
      "cell_type": "code",
      "source": [
        "rfc.pred=rfc.predict(x_test)"
      ],
      "metadata": {
        "id": "Cgs9WdeAWx9L"
      },
      "execution_count": 88,
      "outputs": []
    },
    {
      "cell_type": "code",
      "source": [
        "print(confusion_matrix(y_test,rfc.pred))"
      ],
      "metadata": {
        "colab": {
          "base_uri": "https://localhost:8080/"
        },
        "id": "ucM6y92JWx-2",
        "outputId": "8052f866-4b6b-413f-faa9-ae1960bdc31f"
      },
      "execution_count": 89,
      "outputs": [
        {
          "output_type": "stream",
          "name": "stdout",
          "text": [
            "[[72  8]\n",
            " [ 2 38]]\n"
          ]
        }
      ]
    },
    {
      "cell_type": "code",
      "source": [
        "(72+38)/120*100"
      ],
      "metadata": {
        "colab": {
          "base_uri": "https://localhost:8080/"
        },
        "id": "jCAaL7CPXO29",
        "outputId": "e759454f-52f7-4f7b-c8f6-13d5f198d500"
      },
      "execution_count": 91,
      "outputs": [
        {
          "output_type": "execute_result",
          "data": {
            "text/plain": [
              "91.66666666666666"
            ]
          },
          "metadata": {},
          "execution_count": 91
        }
      ]
    },
    {
      "cell_type": "markdown",
      "source": [
        "**Elbow method:-** It is used by using this method we will get the error rate for different values of k. using average of true & predicted values."
      ],
      "metadata": {
        "id": "u5THZ00BX57u"
      }
    },
    {
      "cell_type": "code",
      "source": [
        "err_rate=[]"
      ],
      "metadata": {
        "id": "PSXLamUHXO8S"
      },
      "execution_count": 66,
      "outputs": []
    },
    {
      "cell_type": "code",
      "source": [
        "for i in range(1,100):\n",
        "  rfc=RandomForestClassifier(n_estimators=i)\n",
        "  rfc.fit(x_train,y_train)\n",
        "  rfc.pred=rfc.predict(x_test)\n",
        "  err_rate.append(np.mean(rfc.pred !=y_test))"
      ],
      "metadata": {
        "id": "aJqeJpSPaOYa"
      },
      "execution_count": 67,
      "outputs": []
    },
    {
      "cell_type": "code",
      "source": [
        "err_rate"
      ],
      "metadata": {
        "colab": {
          "base_uri": "https://localhost:8080/"
        },
        "id": "t7qBNxE1aObJ",
        "outputId": "1f367176-efbb-4f8a-853e-84f8fe39a52e"
      },
      "execution_count": 77,
      "outputs": [
        {
          "output_type": "execute_result",
          "data": {
            "text/plain": [
              "[0.06666666666666667,\n",
              " 0.15,\n",
              " 0.125,\n",
              " 0.125,\n",
              " 0.1,\n",
              " 0.11666666666666667,\n",
              " 0.11666666666666667,\n",
              " 0.11666666666666667,\n",
              " 0.1,\n",
              " 0.075,\n",
              " 0.1,\n",
              " 0.08333333333333333,\n",
              " 0.08333333333333333,\n",
              " 0.09166666666666666,\n",
              " 0.09166666666666666,\n",
              " 0.09166666666666666,\n",
              " 0.10833333333333334,\n",
              " 0.1,\n",
              " 0.1,\n",
              " 0.08333333333333333,\n",
              " 0.09166666666666666,\n",
              " 0.09166666666666666,\n",
              " 0.10833333333333334,\n",
              " 0.09166666666666666,\n",
              " 0.1,\n",
              " 0.1,\n",
              " 0.08333333333333333,\n",
              " 0.1,\n",
              " 0.08333333333333333,\n",
              " 0.08333333333333333,\n",
              " 0.08333333333333333,\n",
              " 0.08333333333333333,\n",
              " 0.09166666666666666,\n",
              " 0.1,\n",
              " 0.09166666666666666,\n",
              " 0.1,\n",
              " 0.09166666666666666,\n",
              " 0.1,\n",
              " 0.09166666666666666,\n",
              " 0.09166666666666666,\n",
              " 0.09166666666666666,\n",
              " 0.1,\n",
              " 0.075,\n",
              " 0.10833333333333334,\n",
              " 0.08333333333333333,\n",
              " 0.08333333333333333,\n",
              " 0.08333333333333333,\n",
              " 0.09166666666666666,\n",
              " 0.08333333333333333,\n",
              " 0.1,\n",
              " 0.09166666666666666,\n",
              " 0.1,\n",
              " 0.1,\n",
              " 0.09166666666666666,\n",
              " 0.08333333333333333,\n",
              " 0.10833333333333334,\n",
              " 0.08333333333333333,\n",
              " 0.08333333333333333,\n",
              " 0.1,\n",
              " 0.1,\n",
              " 0.1,\n",
              " 0.075,\n",
              " 0.1,\n",
              " 0.09166666666666666,\n",
              " 0.09166666666666666,\n",
              " 0.1,\n",
              " 0.1,\n",
              " 0.1,\n",
              " 0.09166666666666666,\n",
              " 0.1,\n",
              " 0.10833333333333334,\n",
              " 0.09166666666666666,\n",
              " 0.09166666666666666,\n",
              " 0.09166666666666666,\n",
              " 0.09166666666666666,\n",
              " 0.10833333333333334,\n",
              " 0.10833333333333334,\n",
              " 0.09166666666666666,\n",
              " 0.10833333333333334,\n",
              " 0.1,\n",
              " 0.1,\n",
              " 0.08333333333333333,\n",
              " 0.09166666666666666,\n",
              " 0.09166666666666666,\n",
              " 0.09166666666666666,\n",
              " 0.1,\n",
              " 0.09166666666666666,\n",
              " 0.08333333333333333,\n",
              " 0.09166666666666666,\n",
              " 0.1,\n",
              " 0.1,\n",
              " 0.09166666666666666,\n",
              " 0.09166666666666666,\n",
              " 0.08333333333333333,\n",
              " 0.1,\n",
              " 0.08333333333333333,\n",
              " 0.1,\n",
              " 0.10833333333333334,\n",
              " 0.075]"
            ]
          },
          "metadata": {},
          "execution_count": 77
        }
      ]
    },
    {
      "cell_type": "code",
      "source": [
        "plt.figure(figsize=(10,6))\n",
        "plt.plot(range(0,99),err_rate,color='b',marker='o',markersize=10)\n",
        "plt.title('err_rate vs rfc values')\n",
        "plt.xlabel('rfc value')\n",
        "plt.ylabel('err_rate')"
      ],
      "metadata": {
        "colab": {
          "base_uri": "https://localhost:8080/",
          "height": 422
        },
        "id": "rtavBfvOadPe",
        "outputId": "469cf2c3-9e20-4851-ec0f-1801346d09ad"
      },
      "execution_count": 78,
      "outputs": [
        {
          "output_type": "execute_result",
          "data": {
            "text/plain": [
              "Text(0, 0.5, 'err_rate')"
            ]
          },
          "metadata": {},
          "execution_count": 78
        },
        {
          "output_type": "display_data",
          "data": {
            "text/plain": [
              "<Figure size 720x432 with 1 Axes>"
            ],
            "image/png": "[encoded data removed]"
          },
          "metadata": {
            "needs_background": "light"
          }
        }
      ]
    },
    {
      "cell_type": "markdown",
      "source": [
        "#**Naive Bayes Algorithm**"
      ],
      "metadata": {
        "id": "jt6sSZlucYn9"
      }
    },
    {
      "cell_type": "markdown",
      "source": [
        "social_network data used for this model...upto train_test_split step are same ..before that below step run"
      ],
      "metadata": {
        "id": "lBkVAX5Ycf1w"
      }
    },
    {
      "cell_type": "code",
      "source": [
        "from sklearn.naive_bayes import GaussianNB"
      ],
      "metadata": {
        "id": "gUOra0_5cVy9"
      },
      "execution_count": 92,
      "outputs": []
    },
    {
      "cell_type": "code",
      "source": [
        "GNB=GaussianNB()"
      ],
      "metadata": {
        "id": "JHdPMNZncpiU"
      },
      "execution_count": 94,
      "outputs": []
    },
    {
      "cell_type": "code",
      "source": [
        "GNB.fit(x_train,y_train)"
      ],
      "metadata": {
        "colab": {
          "base_uri": "https://localhost:8080/"
        },
        "id": "VFOd0NmUclDw",
        "outputId": "5f3c4564-e66e-4218-cc01-956adcbda0a8"
      },
      "execution_count": 95,
      "outputs": [
        {
          "output_type": "execute_result",
          "data": {
            "text/plain": [
              "GaussianNB()"
            ]
          },
          "metadata": {},
          "execution_count": 95
        }
      ]
    },
    {
      "cell_type": "code",
      "source": [
        "y_pred=GNB.predict(x_test)"
      ],
      "metadata": {
        "id": "iqGDjMtAclHH"
      },
      "execution_count": 96,
      "outputs": []
    },
    {
      "cell_type": "code",
      "source": [
        "acc=accuracy_score(y_test,y_pred)"
      ],
      "metadata": {
        "id": "wfiyufxTcu9g"
      },
      "execution_count": 97,
      "outputs": []
    },
    {
      "cell_type": "code",
      "source": [
        "acc"
      ],
      "metadata": {
        "colab": {
          "base_uri": "https://localhost:8080/"
        },
        "id": "jnsL0JAIcvA8",
        "outputId": "d3e056a5-ea30-403d-db8d-f09977e7105f"
      },
      "execution_count": 98,
      "outputs": [
        {
          "output_type": "execute_result",
          "data": {
            "text/plain": [
              "0.9083333333333333"
            ]
          },
          "metadata": {},
          "execution_count": 98
        }
      ]
    },
    {
      "cell_type": "code",
      "source": [
        "acc*100"
      ],
      "metadata": {
        "colab": {
          "base_uri": "https://localhost:8080/"
        },
        "id": "X2YIXKWPc1rd",
        "outputId": "4bdb89b7-094d-4fec-e934-30176dd7dd63"
      },
      "execution_count": 99,
      "outputs": [
        {
          "output_type": "execute_result",
          "data": {
            "text/plain": [
              "90.83333333333333"
            ]
          },
          "metadata": {},
          "execution_count": 99
        }
      ]
    },
    {
      "cell_type": "markdown",
      "source": [
        "#**Steps :-**\n",
        "1) I was collect the Social networks adv. dataset.\n",
        "\n",
        "2) Understood the Business Problem. Read the Data,check nunique,duplicated ,missing values.\n",
        "\n",
        "3) Cleaned the data drop unwanted colums from dataset. \n",
        "\n",
        "4) Prepared the Data: Exploratory Data Analysis EDA .\n",
        "in this EDA I performed univariate analysis, Bivariate analysis,outlier detection,Explored the insights which are invisible in Data after performed on EDA, \n",
        "  I got information like Ratio of Purchased-purchased count values is less,Age between 20 to 55 person used the social media platforms most, Most of user's salary between 20k to 55k . \n",
        "\n",
        "5) I converted the data into Stanadarize variables.\n",
        "\n",
        "6)Built a Model Training the Model Machine Learning Algorithms impliment for model Making Predictions.\n",
        "\n",
        "\n",
        "#**Conclusion :-**\n",
        "I Build & performed on verious Classification model (Decision Tree ,support vector machine SVM,Random forest ,Naive Bayes) and comapared models one another other then \n",
        "\n",
        "I found  the Decision Tree Algorithm model are predict best accuracy 99.16 this machine learning model help in advertising &marketing to detect signals and got the right ad in front of the right person, at the right time."
      ],
      "metadata": {
        "id": "WLtWuor6drta"
      }
    }
  ]
}